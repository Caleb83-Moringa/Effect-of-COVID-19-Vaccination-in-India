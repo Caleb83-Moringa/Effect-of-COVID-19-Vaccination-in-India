{
  "nbformat": 4,
  "nbformat_minor": 0,
  "metadata": {
    "colab": {
      "name": "Week_5_Project.ipynb",
      "provenance": [],
      "collapsed_sections": []
    },
    "kernelspec": {
      "display_name": "Python 3",
      "name": "python3"
    },
    "language_info": {
      "name": "python"
    }
  },
  "cells": [
    {
      "cell_type": "markdown",
      "metadata": {
        "id": "nGdkSBUdMai3"
      },
      "source": [
        "Importing needed libraries"
      ]
    },
    {
      "cell_type": "code",
      "metadata": {
        "id": "UBg9fpgC1g1j"
      },
      "source": [
        "\n",
        "#importing libraries\n",
        "import pandas as pd\n",
        "import numpy as np\n",
        "import datetime as dt\n",
        "from matplotlib import pyplot as plt\n",
        "\n",
        "\n"
      ],
      "execution_count": null,
      "outputs": []
    },
    {
      "cell_type": "markdown",
      "metadata": {
        "id": "SOdgyX1xMKJh"
      },
      "source": [
        " Importing CSV file to our runtime"
      ]
    },
    {
      "cell_type": "code",
      "metadata": {
        "id": "OP3bkqaPZDsh",
        "colab": {
          "base_uri": "https://localhost:8080/",
          "height": 1000
        },
        "outputId": "500a5fe8-f311-4323-fef2-3802af8b33e2"
      },
      "source": [
        "file_list = ['/content/covid-19-daily-tests-vs-daily-new-confirmed-cases-per-million.csv', '/content/daily-covid-vaccination-doses-per-capita.csv', '/content/internal-movement-covid.csv','/content/international-travel-covid.csv', '/content/people-vaccinated-covid.csv','/content/people-fully-vaccinated-covid.csv', '/content/positive-rate-daily-smoothed.csv','/content/public-gathering-rules-covid.csv', '/content/school-closures-covid.csv', '/content/stay-at-home-covid.csv', '/content/workplace-closures-covid.csv']\n",
        "df = pd.concat((pd.read_csv(f) for f in file_list))\n",
        "df\n",
        "df = df.loc[df['Entity'] == 'India']\n",
        "df\n",
        "for x in file_list:\n",
        "     df = pd.read_csv(x)\n",
        "     df = df.loc[df['Entity'] == 'India']\n",
        "     df\n",
        "     print (df)\n",
        "df"
      ],
      "execution_count": null,
      "outputs": [
        {
          "output_type": "stream",
          "text": [
            "      Entity Code  ...    Year  Continent\n",
            "35168  India  IND  ...  2015.0       Asia\n",
            "35169  India  IND  ...  2015.0       Asia\n",
            "35170  India  IND  ...  2015.0       Asia\n",
            "35171  India  IND  ...  2015.0       Asia\n",
            "35172  India  IND  ...  2015.0       Asia\n",
            "...      ...  ...  ...     ...        ...\n",
            "35629  India  IND  ...  2015.0       Asia\n",
            "35630  India  IND  ...  2015.0       Asia\n",
            "35631  India  IND  ...  2015.0       Asia\n",
            "35632  India  IND  ...  2015.0       Asia\n",
            "35633  India  IND  ...  2015.0       Asia\n",
            "\n",
            "[466 rows x 8 columns]\n",
            "     Entity Code         Day  new_vaccinations_smoothed_per_million\n",
            "7342  India  IND  2021-01-16                                 0.0139\n",
            "7343  India  IND  2021-01-17                                 0.0081\n",
            "7344  India  IND  2021-01-18                                 0.0110\n",
            "7345  India  IND  2021-01-19                                 0.0122\n",
            "7346  India  IND  2021-01-20                                 0.0117\n",
            "...     ...  ...         ...                                    ...\n",
            "7453  India  IND  2021-05-07                                 0.1366\n",
            "7454  India  IND  2021-05-08                                 0.1436\n",
            "7455  India  IND  2021-05-09                                 0.1459\n",
            "7456  India  IND  2021-05-10                                 0.1555\n",
            "7457  India  IND  2021-05-11                                 0.1668\n",
            "\n",
            "[116 rows x 4 columns]\n",
            "      Entity Code         Day  restrictions_internal_movements\n",
            "37377  India  IND  2020-01-01                                0\n",
            "37378  India  IND  2020-01-02                                0\n",
            "37379  India  IND  2020-01-03                                0\n",
            "37380  India  IND  2020-01-04                                0\n",
            "37381  India  IND  2020-01-05                                0\n",
            "...      ...  ...         ...                              ...\n",
            "37868  India  IND  2021-05-06                                2\n",
            "37869  India  IND  2021-05-07                                2\n",
            "37870  India  IND  2021-05-08                                2\n",
            "37871  India  IND  2021-05-09                                2\n",
            "37872  India  IND  2021-05-10                                2\n",
            "\n",
            "[496 rows x 4 columns]\n",
            "      Entity Code         Day  international_travel_controls\n",
            "37365  India  IND  2020-01-01                              0\n",
            "37366  India  IND  2020-01-02                              0\n",
            "37367  India  IND  2020-01-03                              0\n",
            "37368  India  IND  2020-01-04                              0\n",
            "37369  India  IND  2020-01-05                              0\n",
            "...      ...  ...         ...                            ...\n",
            "37856  India  IND  2021-05-06                              3\n",
            "37857  India  IND  2021-05-07                              3\n",
            "37858  India  IND  2021-05-08                              3\n",
            "37859  India  IND  2021-05-09                              3\n",
            "37860  India  IND  2021-05-10                              3\n",
            "\n",
            "[496 rows x 4 columns]\n",
            "     Entity Code         Day  people_vaccinated\n",
            "4237  India  IND  2021-01-15                  0\n",
            "4238  India  IND  2021-01-16             191181\n",
            "4239  India  IND  2021-01-17             224301\n",
            "4240  India  IND  2021-01-18             454049\n",
            "4241  India  IND  2021-01-19             674835\n",
            "...     ...  ...         ...                ...\n",
            "4345  India  IND  2021-05-07          132294827\n",
            "4346  India  IND  2021-05-08          133366482\n",
            "4347  India  IND  2021-05-09          133854676\n",
            "4348  India  IND  2021-05-10          135192013\n",
            "4349  India  IND  2021-05-11          136557345\n",
            "\n",
            "[113 rows x 4 columns]\n",
            "     Entity Code         Day  people_fully_vaccinated\n",
            "3327  India  IND  2021-02-13                     7668\n",
            "3328  India  IND  2021-02-15                    98118\n",
            "3329  India  IND  2021-02-16                   216339\n",
            "3330  India  IND  2021-02-17                   342116\n",
            "3331  India  IND  2021-02-18                   464932\n",
            "...     ...  ...         ...                      ...\n",
            "3406  India  IND  2021-05-07                 32895173\n",
            "3407  India  IND  2021-05-08                 34127375\n",
            "3408  India  IND  2021-05-09                 34450192\n",
            "3409  India  IND  2021-05-10                 35906905\n",
            "3410  India  IND  2021-05-11                 37305298\n",
            "\n",
            "[84 rows x 4 columns]\n",
            "      Entity Code         Day  short_term_positivity_rate\n",
            "15296  India  IND  2020-03-20                         2.1\n",
            "15297  India  IND  2020-03-21                         2.9\n",
            "15298  India  IND  2020-03-22                         3.6\n",
            "15299  India  IND  2020-03-23                         3.7\n",
            "15300  India  IND  2020-03-24                         4.3\n",
            "...      ...  ...         ...                         ...\n",
            "15708  India  IND  2021-05-06                        22.2\n",
            "15709  India  IND  2021-05-07                        22.3\n",
            "15710  India  IND  2021-05-08                        22.7\n",
            "15711  India  IND  2021-05-09                        22.6\n",
            "15712  India  IND  2021-05-10                        22.4\n",
            "\n",
            "[417 rows x 4 columns]\n",
            "      Entity Code         Day  restriction_gatherings\n",
            "37378  India  IND  2020-01-01                       0\n",
            "37379  India  IND  2020-01-02                       0\n",
            "37380  India  IND  2020-01-03                       0\n",
            "37381  India  IND  2020-01-04                       0\n",
            "37382  India  IND  2020-01-05                       0\n",
            "...      ...  ...         ...                     ...\n",
            "37869  India  IND  2021-05-06                       4\n",
            "37870  India  IND  2021-05-07                       4\n",
            "37871  India  IND  2021-05-08                       4\n",
            "37872  India  IND  2021-05-09                       4\n",
            "37873  India  IND  2021-05-10                       4\n",
            "\n",
            "[496 rows x 4 columns]\n",
            "      Entity Code         Day  school_closures\n",
            "35842  India  IND  2020-01-21                0\n",
            "35843  India  IND  2020-01-22                0\n",
            "35844  India  IND  2020-01-23                0\n",
            "35845  India  IND  2020-01-24                0\n",
            "35846  India  IND  2020-01-25                0\n",
            "...      ...  ...         ...              ...\n",
            "36313  India  IND  2021-05-06                3\n",
            "36314  India  IND  2021-05-07                3\n",
            "36315  India  IND  2021-05-08                3\n",
            "36316  India  IND  2021-05-09                3\n",
            "36317  India  IND  2021-05-10                3\n",
            "\n",
            "[476 rows x 4 columns]\n",
            "      Entity Code         Day  stay_home_requirements\n",
            "37370  India  IND  2020-01-01                       0\n",
            "37371  India  IND  2020-01-02                       0\n",
            "37372  India  IND  2020-01-03                       0\n",
            "37373  India  IND  2020-01-04                       0\n",
            "37374  India  IND  2020-01-05                       0\n",
            "...      ...  ...         ...                     ...\n",
            "37861  India  IND  2021-05-06                       3\n",
            "37862  India  IND  2021-05-07                       3\n",
            "37863  India  IND  2021-05-08                       3\n",
            "37864  India  IND  2021-05-09                       3\n",
            "37865  India  IND  2021-05-10                       3\n",
            "\n",
            "[496 rows x 4 columns]\n",
            "      Entity Code         Day  workplace_closures\n",
            "37364  India  IND  2020-01-01                   0\n",
            "37365  India  IND  2020-01-02                   0\n",
            "37366  India  IND  2020-01-03                   0\n",
            "37367  India  IND  2020-01-04                   0\n",
            "37368  India  IND  2020-01-05                   0\n",
            "...      ...  ...         ...                 ...\n",
            "37855  India  IND  2021-05-06                   3\n",
            "37856  India  IND  2021-05-07                   3\n",
            "37857  India  IND  2021-05-08                   3\n",
            "37858  India  IND  2021-05-09                   3\n",
            "37859  India  IND  2021-05-10                   3\n",
            "\n",
            "[496 rows x 4 columns]\n"
          ],
          "name": "stdout"
        },
        {
          "output_type": "execute_result",
          "data": {
            "text/html": [
              "<div>\n",
              "<style scoped>\n",
              "    .dataframe tbody tr th:only-of-type {\n",
              "        vertical-align: middle;\n",
              "    }\n",
              "\n",
              "    .dataframe tbody tr th {\n",
              "        vertical-align: top;\n",
              "    }\n",
              "\n",
              "    .dataframe thead th {\n",
              "        text-align: right;\n",
              "    }\n",
              "</style>\n",
              "<table border=\"1\" class=\"dataframe\">\n",
              "  <thead>\n",
              "    <tr style=\"text-align: right;\">\n",
              "      <th></th>\n",
              "      <th>Entity</th>\n",
              "      <th>Code</th>\n",
              "      <th>Day</th>\n",
              "      <th>workplace_closures</th>\n",
              "    </tr>\n",
              "  </thead>\n",
              "  <tbody>\n",
              "    <tr>\n",
              "      <th>37364</th>\n",
              "      <td>India</td>\n",
              "      <td>IND</td>\n",
              "      <td>2020-01-01</td>\n",
              "      <td>0</td>\n",
              "    </tr>\n",
              "    <tr>\n",
              "      <th>37365</th>\n",
              "      <td>India</td>\n",
              "      <td>IND</td>\n",
              "      <td>2020-01-02</td>\n",
              "      <td>0</td>\n",
              "    </tr>\n",
              "    <tr>\n",
              "      <th>37366</th>\n",
              "      <td>India</td>\n",
              "      <td>IND</td>\n",
              "      <td>2020-01-03</td>\n",
              "      <td>0</td>\n",
              "    </tr>\n",
              "    <tr>\n",
              "      <th>37367</th>\n",
              "      <td>India</td>\n",
              "      <td>IND</td>\n",
              "      <td>2020-01-04</td>\n",
              "      <td>0</td>\n",
              "    </tr>\n",
              "    <tr>\n",
              "      <th>37368</th>\n",
              "      <td>India</td>\n",
              "      <td>IND</td>\n",
              "      <td>2020-01-05</td>\n",
              "      <td>0</td>\n",
              "    </tr>\n",
              "    <tr>\n",
              "      <th>...</th>\n",
              "      <td>...</td>\n",
              "      <td>...</td>\n",
              "      <td>...</td>\n",
              "      <td>...</td>\n",
              "    </tr>\n",
              "    <tr>\n",
              "      <th>37855</th>\n",
              "      <td>India</td>\n",
              "      <td>IND</td>\n",
              "      <td>2021-05-06</td>\n",
              "      <td>3</td>\n",
              "    </tr>\n",
              "    <tr>\n",
              "      <th>37856</th>\n",
              "      <td>India</td>\n",
              "      <td>IND</td>\n",
              "      <td>2021-05-07</td>\n",
              "      <td>3</td>\n",
              "    </tr>\n",
              "    <tr>\n",
              "      <th>37857</th>\n",
              "      <td>India</td>\n",
              "      <td>IND</td>\n",
              "      <td>2021-05-08</td>\n",
              "      <td>3</td>\n",
              "    </tr>\n",
              "    <tr>\n",
              "      <th>37858</th>\n",
              "      <td>India</td>\n",
              "      <td>IND</td>\n",
              "      <td>2021-05-09</td>\n",
              "      <td>3</td>\n",
              "    </tr>\n",
              "    <tr>\n",
              "      <th>37859</th>\n",
              "      <td>India</td>\n",
              "      <td>IND</td>\n",
              "      <td>2021-05-10</td>\n",
              "      <td>3</td>\n",
              "    </tr>\n",
              "  </tbody>\n",
              "</table>\n",
              "<p>496 rows × 4 columns</p>\n",
              "</div>"
            ],
            "text/plain": [
              "      Entity Code         Day  workplace_closures\n",
              "37364  India  IND  2020-01-01                   0\n",
              "37365  India  IND  2020-01-02                   0\n",
              "37366  India  IND  2020-01-03                   0\n",
              "37367  India  IND  2020-01-04                   0\n",
              "37368  India  IND  2020-01-05                   0\n",
              "...      ...  ...         ...                 ...\n",
              "37855  India  IND  2021-05-06                   3\n",
              "37856  India  IND  2021-05-07                   3\n",
              "37857  India  IND  2021-05-08                   3\n",
              "37858  India  IND  2021-05-09                   3\n",
              "37859  India  IND  2021-05-10                   3\n",
              "\n",
              "[496 rows x 4 columns]"
            ]
          },
          "metadata": {
            "tags": []
          },
          "execution_count": 2
        }
      ]
    },
    {
      "cell_type": "code",
      "metadata": {
        "id": "xDoRzljlL9TM",
        "colab": {
          "base_uri": "https://localhost:8080/",
          "height": 406
        },
        "outputId": "29663210-d345-46e3-f630-185afe60dc81"
      },
      "source": [
        "# import our csv files\n",
        "IndiaAggregate = pd.read_csv('/content/countries-aggregated.csv')\n",
        "\n",
        "# Choosing only India's data\n",
        "IndiaAggregate = IndiaAggregate.loc[IndiaAggregate['Country'] == 'India']\n",
        "IndiaAggregate\n"
      ],
      "execution_count": null,
      "outputs": [
        {
          "output_type": "execute_result",
          "data": {
            "text/html": [
              "<div>\n",
              "<style scoped>\n",
              "    .dataframe tbody tr th:only-of-type {\n",
              "        vertical-align: middle;\n",
              "    }\n",
              "\n",
              "    .dataframe tbody tr th {\n",
              "        vertical-align: top;\n",
              "    }\n",
              "\n",
              "    .dataframe thead th {\n",
              "        text-align: right;\n",
              "    }\n",
              "</style>\n",
              "<table border=\"1\" class=\"dataframe\">\n",
              "  <thead>\n",
              "    <tr style=\"text-align: right;\">\n",
              "      <th></th>\n",
              "      <th>Date</th>\n",
              "      <th>Country</th>\n",
              "      <th>Confirmed</th>\n",
              "      <th>Recovered</th>\n",
              "      <th>Deaths</th>\n",
              "    </tr>\n",
              "  </thead>\n",
              "  <tbody>\n",
              "    <tr>\n",
              "      <th>37604</th>\n",
              "      <td>2020-01-22</td>\n",
              "      <td>India</td>\n",
              "      <td>0</td>\n",
              "      <td>0</td>\n",
              "      <td>0</td>\n",
              "    </tr>\n",
              "    <tr>\n",
              "      <th>37605</th>\n",
              "      <td>2020-01-23</td>\n",
              "      <td>India</td>\n",
              "      <td>0</td>\n",
              "      <td>0</td>\n",
              "      <td>0</td>\n",
              "    </tr>\n",
              "    <tr>\n",
              "      <th>37606</th>\n",
              "      <td>2020-01-24</td>\n",
              "      <td>India</td>\n",
              "      <td>0</td>\n",
              "      <td>0</td>\n",
              "      <td>0</td>\n",
              "    </tr>\n",
              "    <tr>\n",
              "      <th>37607</th>\n",
              "      <td>2020-01-25</td>\n",
              "      <td>India</td>\n",
              "      <td>0</td>\n",
              "      <td>0</td>\n",
              "      <td>0</td>\n",
              "    </tr>\n",
              "    <tr>\n",
              "      <th>37608</th>\n",
              "      <td>2020-01-26</td>\n",
              "      <td>India</td>\n",
              "      <td>0</td>\n",
              "      <td>0</td>\n",
              "      <td>0</td>\n",
              "    </tr>\n",
              "    <tr>\n",
              "      <th>...</th>\n",
              "      <td>...</td>\n",
              "      <td>...</td>\n",
              "      <td>...</td>\n",
              "      <td>...</td>\n",
              "      <td>...</td>\n",
              "    </tr>\n",
              "    <tr>\n",
              "      <th>38075</th>\n",
              "      <td>2021-05-07</td>\n",
              "      <td>India</td>\n",
              "      <td>21892676</td>\n",
              "      <td>17930960</td>\n",
              "      <td>238270</td>\n",
              "    </tr>\n",
              "    <tr>\n",
              "      <th>38076</th>\n",
              "      <td>2021-05-08</td>\n",
              "      <td>India</td>\n",
              "      <td>22296081</td>\n",
              "      <td>18317364</td>\n",
              "      <td>242347</td>\n",
              "    </tr>\n",
              "    <tr>\n",
              "      <th>38077</th>\n",
              "      <td>2021-05-09</td>\n",
              "      <td>India</td>\n",
              "      <td>22662575</td>\n",
              "      <td>18671222</td>\n",
              "      <td>246116</td>\n",
              "    </tr>\n",
              "    <tr>\n",
              "      <th>38078</th>\n",
              "      <td>2021-05-10</td>\n",
              "      <td>India</td>\n",
              "      <td>22992517</td>\n",
              "      <td>19027304</td>\n",
              "      <td>249992</td>\n",
              "    </tr>\n",
              "    <tr>\n",
              "      <th>38079</th>\n",
              "      <td>2021-05-11</td>\n",
              "      <td>India</td>\n",
              "      <td>22992517</td>\n",
              "      <td>19027304</td>\n",
              "      <td>249992</td>\n",
              "    </tr>\n",
              "  </tbody>\n",
              "</table>\n",
              "<p>476 rows × 5 columns</p>\n",
              "</div>"
            ],
            "text/plain": [
              "             Date Country  Confirmed  Recovered  Deaths\n",
              "37604  2020-01-22   India          0          0       0\n",
              "37605  2020-01-23   India          0          0       0\n",
              "37606  2020-01-24   India          0          0       0\n",
              "37607  2020-01-25   India          0          0       0\n",
              "37608  2020-01-26   India          0          0       0\n",
              "...           ...     ...        ...        ...     ...\n",
              "38075  2021-05-07   India   21892676   17930960  238270\n",
              "38076  2021-05-08   India   22296081   18317364  242347\n",
              "38077  2021-05-09   India   22662575   18671222  246116\n",
              "38078  2021-05-10   India   22992517   19027304  249992\n",
              "38079  2021-05-11   India   22992517   19027304  249992\n",
              "\n",
              "[476 rows x 5 columns]"
            ]
          },
          "metadata": {
            "tags": []
          },
          "execution_count": 3
        }
      ]
    },
    {
      "cell_type": "code",
      "metadata": {
        "id": "sQyckIyqC_4V",
        "colab": {
          "base_uri": "https://localhost:8080/",
          "height": 314
        },
        "outputId": "518aea7f-c111-4098-a3a5-1567b78ab29d"
      },
      "source": [
        "#import our covid csv files\n",
        "DailyCovidTest = pd.read_csv('/content/covid-19-daily-tests-vs-daily-new-confirmed-cases-per-million.csv')\n",
        "\n",
        "#Choosing only India's data\n",
        "DailyCovidTest = DailyCovidTest.loc[DailyCovidTest['Entity'] == 'India']\n",
        "DailyCovidTest.head()"
      ],
      "execution_count": null,
      "outputs": [
        {
          "output_type": "execute_result",
          "data": {
            "text/html": [
              "<div>\n",
              "<style scoped>\n",
              "    .dataframe tbody tr th:only-of-type {\n",
              "        vertical-align: middle;\n",
              "    }\n",
              "\n",
              "    .dataframe tbody tr th {\n",
              "        vertical-align: top;\n",
              "    }\n",
              "\n",
              "    .dataframe thead th {\n",
              "        text-align: right;\n",
              "    }\n",
              "</style>\n",
              "<table border=\"1\" class=\"dataframe\">\n",
              "  <thead>\n",
              "    <tr style=\"text-align: right;\">\n",
              "      <th></th>\n",
              "      <th>Entity</th>\n",
              "      <th>Code</th>\n",
              "      <th>Day</th>\n",
              "      <th>new_tests_per_thousand_7day_smoothed</th>\n",
              "      <th>142753-annotations</th>\n",
              "      <th>Daily new confirmed cases of COVID-19 per million people (rolling 7-day average, right-aligned)</th>\n",
              "      <th>Year</th>\n",
              "      <th>Continent</th>\n",
              "    </tr>\n",
              "  </thead>\n",
              "  <tbody>\n",
              "    <tr>\n",
              "      <th>35168</th>\n",
              "      <td>India</td>\n",
              "      <td>IND</td>\n",
              "      <td>2020-03-20</td>\n",
              "      <td>1.0</td>\n",
              "      <td>samples tested</td>\n",
              "      <td>0.01671</td>\n",
              "      <td>2015.0</td>\n",
              "      <td>Asia</td>\n",
              "    </tr>\n",
              "    <tr>\n",
              "      <th>35169</th>\n",
              "      <td>India</td>\n",
              "      <td>IND</td>\n",
              "      <td>2020-03-21</td>\n",
              "      <td>1.0</td>\n",
              "      <td>samples tested</td>\n",
              "      <td>0.02357</td>\n",
              "      <td>2015.0</td>\n",
              "      <td>Asia</td>\n",
              "    </tr>\n",
              "    <tr>\n",
              "      <th>35170</th>\n",
              "      <td>India</td>\n",
              "      <td>IND</td>\n",
              "      <td>2020-03-22</td>\n",
              "      <td>1.0</td>\n",
              "      <td>samples tested</td>\n",
              "      <td>0.02929</td>\n",
              "      <td>2015.0</td>\n",
              "      <td>Asia</td>\n",
              "    </tr>\n",
              "    <tr>\n",
              "      <th>35171</th>\n",
              "      <td>India</td>\n",
              "      <td>IND</td>\n",
              "      <td>2020-03-23</td>\n",
              "      <td>1.0</td>\n",
              "      <td>samples tested</td>\n",
              "      <td>0.03943</td>\n",
              "      <td>2015.0</td>\n",
              "      <td>Asia</td>\n",
              "    </tr>\n",
              "    <tr>\n",
              "      <th>35172</th>\n",
              "      <td>India</td>\n",
              "      <td>IND</td>\n",
              "      <td>2020-03-24</td>\n",
              "      <td>1.0</td>\n",
              "      <td>samples tested</td>\n",
              "      <td>0.04086</td>\n",
              "      <td>2015.0</td>\n",
              "      <td>Asia</td>\n",
              "    </tr>\n",
              "  </tbody>\n",
              "</table>\n",
              "</div>"
            ],
            "text/plain": [
              "      Entity Code  ...    Year  Continent\n",
              "35168  India  IND  ...  2015.0       Asia\n",
              "35169  India  IND  ...  2015.0       Asia\n",
              "35170  India  IND  ...  2015.0       Asia\n",
              "35171  India  IND  ...  2015.0       Asia\n",
              "35172  India  IND  ...  2015.0       Asia\n",
              "\n",
              "[5 rows x 8 columns]"
            ]
          },
          "metadata": {
            "tags": []
          },
          "execution_count": 4
        }
      ]
    },
    {
      "cell_type": "code",
      "metadata": {
        "id": "TlxdF4l1DAHh",
        "colab": {
          "base_uri": "https://localhost:8080/",
          "height": 406
        },
        "outputId": "250775c6-b158-4bdc-c7e2-527b831362d7"
      },
      "source": [
        "DailyCovidVaccination = pd.read_csv('/content/daily-covid-vaccination-doses-per-capita.csv')\n",
        "\n",
        "#Choosing only India's data\n",
        "DailyCovidVaccination = DailyCovidVaccination.loc[DailyCovidVaccination['Entity'] == 'India']\n",
        "DailyCovidVaccination"
      ],
      "execution_count": null,
      "outputs": [
        {
          "output_type": "execute_result",
          "data": {
            "text/html": [
              "<div>\n",
              "<style scoped>\n",
              "    .dataframe tbody tr th:only-of-type {\n",
              "        vertical-align: middle;\n",
              "    }\n",
              "\n",
              "    .dataframe tbody tr th {\n",
              "        vertical-align: top;\n",
              "    }\n",
              "\n",
              "    .dataframe thead th {\n",
              "        text-align: right;\n",
              "    }\n",
              "</style>\n",
              "<table border=\"1\" class=\"dataframe\">\n",
              "  <thead>\n",
              "    <tr style=\"text-align: right;\">\n",
              "      <th></th>\n",
              "      <th>Entity</th>\n",
              "      <th>Code</th>\n",
              "      <th>Day</th>\n",
              "      <th>new_vaccinations_smoothed_per_million</th>\n",
              "    </tr>\n",
              "  </thead>\n",
              "  <tbody>\n",
              "    <tr>\n",
              "      <th>7342</th>\n",
              "      <td>India</td>\n",
              "      <td>IND</td>\n",
              "      <td>2021-01-16</td>\n",
              "      <td>0.0139</td>\n",
              "    </tr>\n",
              "    <tr>\n",
              "      <th>7343</th>\n",
              "      <td>India</td>\n",
              "      <td>IND</td>\n",
              "      <td>2021-01-17</td>\n",
              "      <td>0.0081</td>\n",
              "    </tr>\n",
              "    <tr>\n",
              "      <th>7344</th>\n",
              "      <td>India</td>\n",
              "      <td>IND</td>\n",
              "      <td>2021-01-18</td>\n",
              "      <td>0.0110</td>\n",
              "    </tr>\n",
              "    <tr>\n",
              "      <th>7345</th>\n",
              "      <td>India</td>\n",
              "      <td>IND</td>\n",
              "      <td>2021-01-19</td>\n",
              "      <td>0.0122</td>\n",
              "    </tr>\n",
              "    <tr>\n",
              "      <th>7346</th>\n",
              "      <td>India</td>\n",
              "      <td>IND</td>\n",
              "      <td>2021-01-20</td>\n",
              "      <td>0.0117</td>\n",
              "    </tr>\n",
              "    <tr>\n",
              "      <th>...</th>\n",
              "      <td>...</td>\n",
              "      <td>...</td>\n",
              "      <td>...</td>\n",
              "      <td>...</td>\n",
              "    </tr>\n",
              "    <tr>\n",
              "      <th>7453</th>\n",
              "      <td>India</td>\n",
              "      <td>IND</td>\n",
              "      <td>2021-05-07</td>\n",
              "      <td>0.1366</td>\n",
              "    </tr>\n",
              "    <tr>\n",
              "      <th>7454</th>\n",
              "      <td>India</td>\n",
              "      <td>IND</td>\n",
              "      <td>2021-05-08</td>\n",
              "      <td>0.1436</td>\n",
              "    </tr>\n",
              "    <tr>\n",
              "      <th>7455</th>\n",
              "      <td>India</td>\n",
              "      <td>IND</td>\n",
              "      <td>2021-05-09</td>\n",
              "      <td>0.1459</td>\n",
              "    </tr>\n",
              "    <tr>\n",
              "      <th>7456</th>\n",
              "      <td>India</td>\n",
              "      <td>IND</td>\n",
              "      <td>2021-05-10</td>\n",
              "      <td>0.1555</td>\n",
              "    </tr>\n",
              "    <tr>\n",
              "      <th>7457</th>\n",
              "      <td>India</td>\n",
              "      <td>IND</td>\n",
              "      <td>2021-05-11</td>\n",
              "      <td>0.1668</td>\n",
              "    </tr>\n",
              "  </tbody>\n",
              "</table>\n",
              "<p>116 rows × 4 columns</p>\n",
              "</div>"
            ],
            "text/plain": [
              "     Entity Code         Day  new_vaccinations_smoothed_per_million\n",
              "7342  India  IND  2021-01-16                                 0.0139\n",
              "7343  India  IND  2021-01-17                                 0.0081\n",
              "7344  India  IND  2021-01-18                                 0.0110\n",
              "7345  India  IND  2021-01-19                                 0.0122\n",
              "7346  India  IND  2021-01-20                                 0.0117\n",
              "...     ...  ...         ...                                    ...\n",
              "7453  India  IND  2021-05-07                                 0.1366\n",
              "7454  India  IND  2021-05-08                                 0.1436\n",
              "7455  India  IND  2021-05-09                                 0.1459\n",
              "7456  India  IND  2021-05-10                                 0.1555\n",
              "7457  India  IND  2021-05-11                                 0.1668\n",
              "\n",
              "[116 rows x 4 columns]"
            ]
          },
          "metadata": {
            "tags": []
          },
          "execution_count": 5
        }
      ]
    },
    {
      "cell_type": "code",
      "metadata": {
        "id": "Hv100YikDARY",
        "colab": {
          "base_uri": "https://localhost:8080/",
          "height": 406
        },
        "outputId": "fd6ef9fb-e9c6-48ef-fd4f-42e20c24f7f0"
      },
      "source": [
        "InternalMovement = pd.read_csv('/content/internal-movement-covid.csv')\n",
        "\n",
        "#Choosing only India's data\n",
        "InternalMovement = InternalMovement.loc[InternalMovement['Entity'] == 'India']\n",
        "InternalMovement"
      ],
      "execution_count": null,
      "outputs": [
        {
          "output_type": "execute_result",
          "data": {
            "text/html": [
              "<div>\n",
              "<style scoped>\n",
              "    .dataframe tbody tr th:only-of-type {\n",
              "        vertical-align: middle;\n",
              "    }\n",
              "\n",
              "    .dataframe tbody tr th {\n",
              "        vertical-align: top;\n",
              "    }\n",
              "\n",
              "    .dataframe thead th {\n",
              "        text-align: right;\n",
              "    }\n",
              "</style>\n",
              "<table border=\"1\" class=\"dataframe\">\n",
              "  <thead>\n",
              "    <tr style=\"text-align: right;\">\n",
              "      <th></th>\n",
              "      <th>Entity</th>\n",
              "      <th>Code</th>\n",
              "      <th>Day</th>\n",
              "      <th>restrictions_internal_movements</th>\n",
              "    </tr>\n",
              "  </thead>\n",
              "  <tbody>\n",
              "    <tr>\n",
              "      <th>37377</th>\n",
              "      <td>India</td>\n",
              "      <td>IND</td>\n",
              "      <td>2020-01-01</td>\n",
              "      <td>0</td>\n",
              "    </tr>\n",
              "    <tr>\n",
              "      <th>37378</th>\n",
              "      <td>India</td>\n",
              "      <td>IND</td>\n",
              "      <td>2020-01-02</td>\n",
              "      <td>0</td>\n",
              "    </tr>\n",
              "    <tr>\n",
              "      <th>37379</th>\n",
              "      <td>India</td>\n",
              "      <td>IND</td>\n",
              "      <td>2020-01-03</td>\n",
              "      <td>0</td>\n",
              "    </tr>\n",
              "    <tr>\n",
              "      <th>37380</th>\n",
              "      <td>India</td>\n",
              "      <td>IND</td>\n",
              "      <td>2020-01-04</td>\n",
              "      <td>0</td>\n",
              "    </tr>\n",
              "    <tr>\n",
              "      <th>37381</th>\n",
              "      <td>India</td>\n",
              "      <td>IND</td>\n",
              "      <td>2020-01-05</td>\n",
              "      <td>0</td>\n",
              "    </tr>\n",
              "    <tr>\n",
              "      <th>...</th>\n",
              "      <td>...</td>\n",
              "      <td>...</td>\n",
              "      <td>...</td>\n",
              "      <td>...</td>\n",
              "    </tr>\n",
              "    <tr>\n",
              "      <th>37868</th>\n",
              "      <td>India</td>\n",
              "      <td>IND</td>\n",
              "      <td>2021-05-06</td>\n",
              "      <td>2</td>\n",
              "    </tr>\n",
              "    <tr>\n",
              "      <th>37869</th>\n",
              "      <td>India</td>\n",
              "      <td>IND</td>\n",
              "      <td>2021-05-07</td>\n",
              "      <td>2</td>\n",
              "    </tr>\n",
              "    <tr>\n",
              "      <th>37870</th>\n",
              "      <td>India</td>\n",
              "      <td>IND</td>\n",
              "      <td>2021-05-08</td>\n",
              "      <td>2</td>\n",
              "    </tr>\n",
              "    <tr>\n",
              "      <th>37871</th>\n",
              "      <td>India</td>\n",
              "      <td>IND</td>\n",
              "      <td>2021-05-09</td>\n",
              "      <td>2</td>\n",
              "    </tr>\n",
              "    <tr>\n",
              "      <th>37872</th>\n",
              "      <td>India</td>\n",
              "      <td>IND</td>\n",
              "      <td>2021-05-10</td>\n",
              "      <td>2</td>\n",
              "    </tr>\n",
              "  </tbody>\n",
              "</table>\n",
              "<p>496 rows × 4 columns</p>\n",
              "</div>"
            ],
            "text/plain": [
              "      Entity Code         Day  restrictions_internal_movements\n",
              "37377  India  IND  2020-01-01                                0\n",
              "37378  India  IND  2020-01-02                                0\n",
              "37379  India  IND  2020-01-03                                0\n",
              "37380  India  IND  2020-01-04                                0\n",
              "37381  India  IND  2020-01-05                                0\n",
              "...      ...  ...         ...                              ...\n",
              "37868  India  IND  2021-05-06                                2\n",
              "37869  India  IND  2021-05-07                                2\n",
              "37870  India  IND  2021-05-08                                2\n",
              "37871  India  IND  2021-05-09                                2\n",
              "37872  India  IND  2021-05-10                                2\n",
              "\n",
              "[496 rows x 4 columns]"
            ]
          },
          "metadata": {
            "tags": []
          },
          "execution_count": 6
        }
      ]
    },
    {
      "cell_type": "code",
      "metadata": {
        "id": "YGO0AsqfQRa9",
        "colab": {
          "base_uri": "https://localhost:8080/",
          "height": 197
        },
        "outputId": "fc39b2cb-f220-47a3-9dae-08d7e5694ea7"
      },
      "source": [
        "InternationalMovement = pd.read_csv('/content/international-travel-covid.csv')\n",
        "\n",
        "#Choosing only India's data\n",
        "InternationalMovement = InternationalMovement.loc[InternationalMovement['Entity'] == 'India']\n",
        "InternationalMovement.head()"
      ],
      "execution_count": null,
      "outputs": [
        {
          "output_type": "execute_result",
          "data": {
            "text/html": [
              "<div>\n",
              "<style scoped>\n",
              "    .dataframe tbody tr th:only-of-type {\n",
              "        vertical-align: middle;\n",
              "    }\n",
              "\n",
              "    .dataframe tbody tr th {\n",
              "        vertical-align: top;\n",
              "    }\n",
              "\n",
              "    .dataframe thead th {\n",
              "        text-align: right;\n",
              "    }\n",
              "</style>\n",
              "<table border=\"1\" class=\"dataframe\">\n",
              "  <thead>\n",
              "    <tr style=\"text-align: right;\">\n",
              "      <th></th>\n",
              "      <th>Entity</th>\n",
              "      <th>Code</th>\n",
              "      <th>Day</th>\n",
              "      <th>international_travel_controls</th>\n",
              "    </tr>\n",
              "  </thead>\n",
              "  <tbody>\n",
              "    <tr>\n",
              "      <th>37365</th>\n",
              "      <td>India</td>\n",
              "      <td>IND</td>\n",
              "      <td>2020-01-01</td>\n",
              "      <td>0</td>\n",
              "    </tr>\n",
              "    <tr>\n",
              "      <th>37366</th>\n",
              "      <td>India</td>\n",
              "      <td>IND</td>\n",
              "      <td>2020-01-02</td>\n",
              "      <td>0</td>\n",
              "    </tr>\n",
              "    <tr>\n",
              "      <th>37367</th>\n",
              "      <td>India</td>\n",
              "      <td>IND</td>\n",
              "      <td>2020-01-03</td>\n",
              "      <td>0</td>\n",
              "    </tr>\n",
              "    <tr>\n",
              "      <th>37368</th>\n",
              "      <td>India</td>\n",
              "      <td>IND</td>\n",
              "      <td>2020-01-04</td>\n",
              "      <td>0</td>\n",
              "    </tr>\n",
              "    <tr>\n",
              "      <th>37369</th>\n",
              "      <td>India</td>\n",
              "      <td>IND</td>\n",
              "      <td>2020-01-05</td>\n",
              "      <td>0</td>\n",
              "    </tr>\n",
              "  </tbody>\n",
              "</table>\n",
              "</div>"
            ],
            "text/plain": [
              "      Entity Code         Day  international_travel_controls\n",
              "37365  India  IND  2020-01-01                              0\n",
              "37366  India  IND  2020-01-02                              0\n",
              "37367  India  IND  2020-01-03                              0\n",
              "37368  India  IND  2020-01-04                              0\n",
              "37369  India  IND  2020-01-05                              0"
            ]
          },
          "metadata": {
            "tags": []
          },
          "execution_count": 7
        }
      ]
    },
    {
      "cell_type": "code",
      "metadata": {
        "id": "cx3Js_ZCQRnu",
        "colab": {
          "base_uri": "https://localhost:8080/",
          "height": 197
        },
        "outputId": "7e511ebd-c348-4332-e35c-226c149b8cc1"
      },
      "source": [
        "PeopleVaccinated = pd.read_csv('/content/people-vaccinated-covid.csv')\n",
        "\n",
        "#Choosing only India's data\n",
        "PeopleVaccinated = PeopleVaccinated.loc[PeopleVaccinated['Entity'] == 'India']\n",
        "PeopleVaccinated.head()"
      ],
      "execution_count": null,
      "outputs": [
        {
          "output_type": "execute_result",
          "data": {
            "text/html": [
              "<div>\n",
              "<style scoped>\n",
              "    .dataframe tbody tr th:only-of-type {\n",
              "        vertical-align: middle;\n",
              "    }\n",
              "\n",
              "    .dataframe tbody tr th {\n",
              "        vertical-align: top;\n",
              "    }\n",
              "\n",
              "    .dataframe thead th {\n",
              "        text-align: right;\n",
              "    }\n",
              "</style>\n",
              "<table border=\"1\" class=\"dataframe\">\n",
              "  <thead>\n",
              "    <tr style=\"text-align: right;\">\n",
              "      <th></th>\n",
              "      <th>Entity</th>\n",
              "      <th>Code</th>\n",
              "      <th>Day</th>\n",
              "      <th>people_vaccinated</th>\n",
              "    </tr>\n",
              "  </thead>\n",
              "  <tbody>\n",
              "    <tr>\n",
              "      <th>4237</th>\n",
              "      <td>India</td>\n",
              "      <td>IND</td>\n",
              "      <td>2021-01-15</td>\n",
              "      <td>0</td>\n",
              "    </tr>\n",
              "    <tr>\n",
              "      <th>4238</th>\n",
              "      <td>India</td>\n",
              "      <td>IND</td>\n",
              "      <td>2021-01-16</td>\n",
              "      <td>191181</td>\n",
              "    </tr>\n",
              "    <tr>\n",
              "      <th>4239</th>\n",
              "      <td>India</td>\n",
              "      <td>IND</td>\n",
              "      <td>2021-01-17</td>\n",
              "      <td>224301</td>\n",
              "    </tr>\n",
              "    <tr>\n",
              "      <th>4240</th>\n",
              "      <td>India</td>\n",
              "      <td>IND</td>\n",
              "      <td>2021-01-18</td>\n",
              "      <td>454049</td>\n",
              "    </tr>\n",
              "    <tr>\n",
              "      <th>4241</th>\n",
              "      <td>India</td>\n",
              "      <td>IND</td>\n",
              "      <td>2021-01-19</td>\n",
              "      <td>674835</td>\n",
              "    </tr>\n",
              "  </tbody>\n",
              "</table>\n",
              "</div>"
            ],
            "text/plain": [
              "     Entity Code         Day  people_vaccinated\n",
              "4237  India  IND  2021-01-15                  0\n",
              "4238  India  IND  2021-01-16             191181\n",
              "4239  India  IND  2021-01-17             224301\n",
              "4240  India  IND  2021-01-18             454049\n",
              "4241  India  IND  2021-01-19             674835"
            ]
          },
          "metadata": {
            "tags": []
          },
          "execution_count": 8
        }
      ]
    },
    {
      "cell_type": "code",
      "metadata": {
        "id": "hsvCvrfeQR06",
        "colab": {
          "base_uri": "https://localhost:8080/",
          "height": 197
        },
        "outputId": "bd0275ea-44b2-4b40-9293-4473dc29edbe"
      },
      "source": [
        "PeopleFullyVaccinated = pd.read_csv('/content/people-fully-vaccinated-covid.csv')\n",
        "\n",
        "#Choosing only India's data\n",
        "PeopleFullyVaccinated = PeopleFullyVaccinated.loc[PeopleFullyVaccinated['Entity'] == 'India']\n",
        "PeopleFullyVaccinated.head()"
      ],
      "execution_count": null,
      "outputs": [
        {
          "output_type": "execute_result",
          "data": {
            "text/html": [
              "<div>\n",
              "<style scoped>\n",
              "    .dataframe tbody tr th:only-of-type {\n",
              "        vertical-align: middle;\n",
              "    }\n",
              "\n",
              "    .dataframe tbody tr th {\n",
              "        vertical-align: top;\n",
              "    }\n",
              "\n",
              "    .dataframe thead th {\n",
              "        text-align: right;\n",
              "    }\n",
              "</style>\n",
              "<table border=\"1\" class=\"dataframe\">\n",
              "  <thead>\n",
              "    <tr style=\"text-align: right;\">\n",
              "      <th></th>\n",
              "      <th>Entity</th>\n",
              "      <th>Code</th>\n",
              "      <th>Day</th>\n",
              "      <th>people_fully_vaccinated</th>\n",
              "    </tr>\n",
              "  </thead>\n",
              "  <tbody>\n",
              "    <tr>\n",
              "      <th>3327</th>\n",
              "      <td>India</td>\n",
              "      <td>IND</td>\n",
              "      <td>2021-02-13</td>\n",
              "      <td>7668</td>\n",
              "    </tr>\n",
              "    <tr>\n",
              "      <th>3328</th>\n",
              "      <td>India</td>\n",
              "      <td>IND</td>\n",
              "      <td>2021-02-15</td>\n",
              "      <td>98118</td>\n",
              "    </tr>\n",
              "    <tr>\n",
              "      <th>3329</th>\n",
              "      <td>India</td>\n",
              "      <td>IND</td>\n",
              "      <td>2021-02-16</td>\n",
              "      <td>216339</td>\n",
              "    </tr>\n",
              "    <tr>\n",
              "      <th>3330</th>\n",
              "      <td>India</td>\n",
              "      <td>IND</td>\n",
              "      <td>2021-02-17</td>\n",
              "      <td>342116</td>\n",
              "    </tr>\n",
              "    <tr>\n",
              "      <th>3331</th>\n",
              "      <td>India</td>\n",
              "      <td>IND</td>\n",
              "      <td>2021-02-18</td>\n",
              "      <td>464932</td>\n",
              "    </tr>\n",
              "  </tbody>\n",
              "</table>\n",
              "</div>"
            ],
            "text/plain": [
              "     Entity Code         Day  people_fully_vaccinated\n",
              "3327  India  IND  2021-02-13                     7668\n",
              "3328  India  IND  2021-02-15                    98118\n",
              "3329  India  IND  2021-02-16                   216339\n",
              "3330  India  IND  2021-02-17                   342116\n",
              "3331  India  IND  2021-02-18                   464932"
            ]
          },
          "metadata": {
            "tags": []
          },
          "execution_count": 9
        }
      ]
    },
    {
      "cell_type": "code",
      "metadata": {
        "id": "Wb3HaSOtQSDI",
        "colab": {
          "base_uri": "https://localhost:8080/",
          "height": 197
        },
        "outputId": "510e0474-ab04-4115-bfef-5a8efb0fe6d6"
      },
      "source": [
        "PositivityRate = pd.read_csv('/content/positive-rate-daily-smoothed.csv')\n",
        "\n",
        "#Choosing only India's data\n",
        "PositivityRate = PositivityRate.loc[PositivityRate['Entity'] == 'India']\n",
        "PositivityRate.head()"
      ],
      "execution_count": null,
      "outputs": [
        {
          "output_type": "execute_result",
          "data": {
            "text/html": [
              "<div>\n",
              "<style scoped>\n",
              "    .dataframe tbody tr th:only-of-type {\n",
              "        vertical-align: middle;\n",
              "    }\n",
              "\n",
              "    .dataframe tbody tr th {\n",
              "        vertical-align: top;\n",
              "    }\n",
              "\n",
              "    .dataframe thead th {\n",
              "        text-align: right;\n",
              "    }\n",
              "</style>\n",
              "<table border=\"1\" class=\"dataframe\">\n",
              "  <thead>\n",
              "    <tr style=\"text-align: right;\">\n",
              "      <th></th>\n",
              "      <th>Entity</th>\n",
              "      <th>Code</th>\n",
              "      <th>Day</th>\n",
              "      <th>short_term_positivity_rate</th>\n",
              "    </tr>\n",
              "  </thead>\n",
              "  <tbody>\n",
              "    <tr>\n",
              "      <th>15296</th>\n",
              "      <td>India</td>\n",
              "      <td>IND</td>\n",
              "      <td>2020-03-20</td>\n",
              "      <td>2.1</td>\n",
              "    </tr>\n",
              "    <tr>\n",
              "      <th>15297</th>\n",
              "      <td>India</td>\n",
              "      <td>IND</td>\n",
              "      <td>2020-03-21</td>\n",
              "      <td>2.9</td>\n",
              "    </tr>\n",
              "    <tr>\n",
              "      <th>15298</th>\n",
              "      <td>India</td>\n",
              "      <td>IND</td>\n",
              "      <td>2020-03-22</td>\n",
              "      <td>3.6</td>\n",
              "    </tr>\n",
              "    <tr>\n",
              "      <th>15299</th>\n",
              "      <td>India</td>\n",
              "      <td>IND</td>\n",
              "      <td>2020-03-23</td>\n",
              "      <td>3.7</td>\n",
              "    </tr>\n",
              "    <tr>\n",
              "      <th>15300</th>\n",
              "      <td>India</td>\n",
              "      <td>IND</td>\n",
              "      <td>2020-03-24</td>\n",
              "      <td>4.3</td>\n",
              "    </tr>\n",
              "  </tbody>\n",
              "</table>\n",
              "</div>"
            ],
            "text/plain": [
              "      Entity Code         Day  short_term_positivity_rate\n",
              "15296  India  IND  2020-03-20                         2.1\n",
              "15297  India  IND  2020-03-21                         2.9\n",
              "15298  India  IND  2020-03-22                         3.6\n",
              "15299  India  IND  2020-03-23                         3.7\n",
              "15300  India  IND  2020-03-24                         4.3"
            ]
          },
          "metadata": {
            "tags": []
          },
          "execution_count": 10
        }
      ]
    },
    {
      "cell_type": "code",
      "metadata": {
        "id": "WhQ-tlW3QSLp",
        "colab": {
          "base_uri": "https://localhost:8080/",
          "height": 197
        },
        "outputId": "10f721ce-550f-439b-d05b-5ca68e9ba207"
      },
      "source": [
        "PublicGathering = pd.read_csv('/content/public-gathering-rules-covid.csv')\n",
        "\n",
        "#Choosing only India's data\n",
        "PublicGathering = PublicGathering.loc[PublicGathering['Entity'] == 'India']\n",
        "PublicGathering.head()"
      ],
      "execution_count": null,
      "outputs": [
        {
          "output_type": "execute_result",
          "data": {
            "text/html": [
              "<div>\n",
              "<style scoped>\n",
              "    .dataframe tbody tr th:only-of-type {\n",
              "        vertical-align: middle;\n",
              "    }\n",
              "\n",
              "    .dataframe tbody tr th {\n",
              "        vertical-align: top;\n",
              "    }\n",
              "\n",
              "    .dataframe thead th {\n",
              "        text-align: right;\n",
              "    }\n",
              "</style>\n",
              "<table border=\"1\" class=\"dataframe\">\n",
              "  <thead>\n",
              "    <tr style=\"text-align: right;\">\n",
              "      <th></th>\n",
              "      <th>Entity</th>\n",
              "      <th>Code</th>\n",
              "      <th>Day</th>\n",
              "      <th>restriction_gatherings</th>\n",
              "    </tr>\n",
              "  </thead>\n",
              "  <tbody>\n",
              "    <tr>\n",
              "      <th>37378</th>\n",
              "      <td>India</td>\n",
              "      <td>IND</td>\n",
              "      <td>2020-01-01</td>\n",
              "      <td>0</td>\n",
              "    </tr>\n",
              "    <tr>\n",
              "      <th>37379</th>\n",
              "      <td>India</td>\n",
              "      <td>IND</td>\n",
              "      <td>2020-01-02</td>\n",
              "      <td>0</td>\n",
              "    </tr>\n",
              "    <tr>\n",
              "      <th>37380</th>\n",
              "      <td>India</td>\n",
              "      <td>IND</td>\n",
              "      <td>2020-01-03</td>\n",
              "      <td>0</td>\n",
              "    </tr>\n",
              "    <tr>\n",
              "      <th>37381</th>\n",
              "      <td>India</td>\n",
              "      <td>IND</td>\n",
              "      <td>2020-01-04</td>\n",
              "      <td>0</td>\n",
              "    </tr>\n",
              "    <tr>\n",
              "      <th>37382</th>\n",
              "      <td>India</td>\n",
              "      <td>IND</td>\n",
              "      <td>2020-01-05</td>\n",
              "      <td>0</td>\n",
              "    </tr>\n",
              "  </tbody>\n",
              "</table>\n",
              "</div>"
            ],
            "text/plain": [
              "      Entity Code         Day  restriction_gatherings\n",
              "37378  India  IND  2020-01-01                       0\n",
              "37379  India  IND  2020-01-02                       0\n",
              "37380  India  IND  2020-01-03                       0\n",
              "37381  India  IND  2020-01-04                       0\n",
              "37382  India  IND  2020-01-05                       0"
            ]
          },
          "metadata": {
            "tags": []
          },
          "execution_count": 11
        }
      ]
    },
    {
      "cell_type": "code",
      "metadata": {
        "id": "rfc0aj50RMTq",
        "colab": {
          "base_uri": "https://localhost:8080/",
          "height": 197
        },
        "outputId": "e6a1a963-7a43-4d9a-9ca6-c269f53c5c0e"
      },
      "source": [
        "SchoolClosure = pd.read_csv('/content/school-closures-covid.csv')\n",
        "\n",
        "#Choosing only India's data\n",
        "SchoolClosure = SchoolClosure.loc[SchoolClosure['Entity'] == 'India']\n",
        "SchoolClosure.head()"
      ],
      "execution_count": null,
      "outputs": [
        {
          "output_type": "execute_result",
          "data": {
            "text/html": [
              "<div>\n",
              "<style scoped>\n",
              "    .dataframe tbody tr th:only-of-type {\n",
              "        vertical-align: middle;\n",
              "    }\n",
              "\n",
              "    .dataframe tbody tr th {\n",
              "        vertical-align: top;\n",
              "    }\n",
              "\n",
              "    .dataframe thead th {\n",
              "        text-align: right;\n",
              "    }\n",
              "</style>\n",
              "<table border=\"1\" class=\"dataframe\">\n",
              "  <thead>\n",
              "    <tr style=\"text-align: right;\">\n",
              "      <th></th>\n",
              "      <th>Entity</th>\n",
              "      <th>Code</th>\n",
              "      <th>Day</th>\n",
              "      <th>school_closures</th>\n",
              "    </tr>\n",
              "  </thead>\n",
              "  <tbody>\n",
              "    <tr>\n",
              "      <th>35842</th>\n",
              "      <td>India</td>\n",
              "      <td>IND</td>\n",
              "      <td>2020-01-21</td>\n",
              "      <td>0</td>\n",
              "    </tr>\n",
              "    <tr>\n",
              "      <th>35843</th>\n",
              "      <td>India</td>\n",
              "      <td>IND</td>\n",
              "      <td>2020-01-22</td>\n",
              "      <td>0</td>\n",
              "    </tr>\n",
              "    <tr>\n",
              "      <th>35844</th>\n",
              "      <td>India</td>\n",
              "      <td>IND</td>\n",
              "      <td>2020-01-23</td>\n",
              "      <td>0</td>\n",
              "    </tr>\n",
              "    <tr>\n",
              "      <th>35845</th>\n",
              "      <td>India</td>\n",
              "      <td>IND</td>\n",
              "      <td>2020-01-24</td>\n",
              "      <td>0</td>\n",
              "    </tr>\n",
              "    <tr>\n",
              "      <th>35846</th>\n",
              "      <td>India</td>\n",
              "      <td>IND</td>\n",
              "      <td>2020-01-25</td>\n",
              "      <td>0</td>\n",
              "    </tr>\n",
              "  </tbody>\n",
              "</table>\n",
              "</div>"
            ],
            "text/plain": [
              "      Entity Code         Day  school_closures\n",
              "35842  India  IND  2020-01-21                0\n",
              "35843  India  IND  2020-01-22                0\n",
              "35844  India  IND  2020-01-23                0\n",
              "35845  India  IND  2020-01-24                0\n",
              "35846  India  IND  2020-01-25                0"
            ]
          },
          "metadata": {
            "tags": []
          },
          "execution_count": 12
        }
      ]
    },
    {
      "cell_type": "code",
      "metadata": {
        "id": "KhpOTKbeRMch",
        "colab": {
          "base_uri": "https://localhost:8080/",
          "height": 406
        },
        "outputId": "bf0aef2e-2a05-4b9b-b41b-ab0dcd9fc252"
      },
      "source": [
        "StayatHome = pd.read_csv('/content/stay-at-home-covid.csv')\n",
        "\n",
        "#Choosing only India's data\n",
        "StayatHome = StayatHome.loc[StayatHome['Entity'] == 'India']\n",
        "StayatHome"
      ],
      "execution_count": null,
      "outputs": [
        {
          "output_type": "execute_result",
          "data": {
            "text/html": [
              "<div>\n",
              "<style scoped>\n",
              "    .dataframe tbody tr th:only-of-type {\n",
              "        vertical-align: middle;\n",
              "    }\n",
              "\n",
              "    .dataframe tbody tr th {\n",
              "        vertical-align: top;\n",
              "    }\n",
              "\n",
              "    .dataframe thead th {\n",
              "        text-align: right;\n",
              "    }\n",
              "</style>\n",
              "<table border=\"1\" class=\"dataframe\">\n",
              "  <thead>\n",
              "    <tr style=\"text-align: right;\">\n",
              "      <th></th>\n",
              "      <th>Entity</th>\n",
              "      <th>Code</th>\n",
              "      <th>Day</th>\n",
              "      <th>stay_home_requirements</th>\n",
              "    </tr>\n",
              "  </thead>\n",
              "  <tbody>\n",
              "    <tr>\n",
              "      <th>37370</th>\n",
              "      <td>India</td>\n",
              "      <td>IND</td>\n",
              "      <td>2020-01-01</td>\n",
              "      <td>0</td>\n",
              "    </tr>\n",
              "    <tr>\n",
              "      <th>37371</th>\n",
              "      <td>India</td>\n",
              "      <td>IND</td>\n",
              "      <td>2020-01-02</td>\n",
              "      <td>0</td>\n",
              "    </tr>\n",
              "    <tr>\n",
              "      <th>37372</th>\n",
              "      <td>India</td>\n",
              "      <td>IND</td>\n",
              "      <td>2020-01-03</td>\n",
              "      <td>0</td>\n",
              "    </tr>\n",
              "    <tr>\n",
              "      <th>37373</th>\n",
              "      <td>India</td>\n",
              "      <td>IND</td>\n",
              "      <td>2020-01-04</td>\n",
              "      <td>0</td>\n",
              "    </tr>\n",
              "    <tr>\n",
              "      <th>37374</th>\n",
              "      <td>India</td>\n",
              "      <td>IND</td>\n",
              "      <td>2020-01-05</td>\n",
              "      <td>0</td>\n",
              "    </tr>\n",
              "    <tr>\n",
              "      <th>...</th>\n",
              "      <td>...</td>\n",
              "      <td>...</td>\n",
              "      <td>...</td>\n",
              "      <td>...</td>\n",
              "    </tr>\n",
              "    <tr>\n",
              "      <th>37861</th>\n",
              "      <td>India</td>\n",
              "      <td>IND</td>\n",
              "      <td>2021-05-06</td>\n",
              "      <td>3</td>\n",
              "    </tr>\n",
              "    <tr>\n",
              "      <th>37862</th>\n",
              "      <td>India</td>\n",
              "      <td>IND</td>\n",
              "      <td>2021-05-07</td>\n",
              "      <td>3</td>\n",
              "    </tr>\n",
              "    <tr>\n",
              "      <th>37863</th>\n",
              "      <td>India</td>\n",
              "      <td>IND</td>\n",
              "      <td>2021-05-08</td>\n",
              "      <td>3</td>\n",
              "    </tr>\n",
              "    <tr>\n",
              "      <th>37864</th>\n",
              "      <td>India</td>\n",
              "      <td>IND</td>\n",
              "      <td>2021-05-09</td>\n",
              "      <td>3</td>\n",
              "    </tr>\n",
              "    <tr>\n",
              "      <th>37865</th>\n",
              "      <td>India</td>\n",
              "      <td>IND</td>\n",
              "      <td>2021-05-10</td>\n",
              "      <td>3</td>\n",
              "    </tr>\n",
              "  </tbody>\n",
              "</table>\n",
              "<p>496 rows × 4 columns</p>\n",
              "</div>"
            ],
            "text/plain": [
              "      Entity Code         Day  stay_home_requirements\n",
              "37370  India  IND  2020-01-01                       0\n",
              "37371  India  IND  2020-01-02                       0\n",
              "37372  India  IND  2020-01-03                       0\n",
              "37373  India  IND  2020-01-04                       0\n",
              "37374  India  IND  2020-01-05                       0\n",
              "...      ...  ...         ...                     ...\n",
              "37861  India  IND  2021-05-06                       3\n",
              "37862  India  IND  2021-05-07                       3\n",
              "37863  India  IND  2021-05-08                       3\n",
              "37864  India  IND  2021-05-09                       3\n",
              "37865  India  IND  2021-05-10                       3\n",
              "\n",
              "[496 rows x 4 columns]"
            ]
          },
          "metadata": {
            "tags": []
          },
          "execution_count": 13
        }
      ]
    },
    {
      "cell_type": "code",
      "metadata": {
        "id": "puHlThNWRMlC",
        "colab": {
          "base_uri": "https://localhost:8080/",
          "height": 406
        },
        "outputId": "3c0b6bae-c07c-407e-e00d-f287a6c51b2b"
      },
      "source": [
        "WorkplaceClosure = pd.read_csv('/content/workplace-closures-covid.csv')\n",
        "\n",
        "#Choosing only India's data\n",
        "WorkplaceClosure = WorkplaceClosure.loc[WorkplaceClosure['Entity'] == 'India']\n",
        "WorkplaceClosure"
      ],
      "execution_count": null,
      "outputs": [
        {
          "output_type": "execute_result",
          "data": {
            "text/html": [
              "<div>\n",
              "<style scoped>\n",
              "    .dataframe tbody tr th:only-of-type {\n",
              "        vertical-align: middle;\n",
              "    }\n",
              "\n",
              "    .dataframe tbody tr th {\n",
              "        vertical-align: top;\n",
              "    }\n",
              "\n",
              "    .dataframe thead th {\n",
              "        text-align: right;\n",
              "    }\n",
              "</style>\n",
              "<table border=\"1\" class=\"dataframe\">\n",
              "  <thead>\n",
              "    <tr style=\"text-align: right;\">\n",
              "      <th></th>\n",
              "      <th>Entity</th>\n",
              "      <th>Code</th>\n",
              "      <th>Day</th>\n",
              "      <th>workplace_closures</th>\n",
              "    </tr>\n",
              "  </thead>\n",
              "  <tbody>\n",
              "    <tr>\n",
              "      <th>37364</th>\n",
              "      <td>India</td>\n",
              "      <td>IND</td>\n",
              "      <td>2020-01-01</td>\n",
              "      <td>0</td>\n",
              "    </tr>\n",
              "    <tr>\n",
              "      <th>37365</th>\n",
              "      <td>India</td>\n",
              "      <td>IND</td>\n",
              "      <td>2020-01-02</td>\n",
              "      <td>0</td>\n",
              "    </tr>\n",
              "    <tr>\n",
              "      <th>37366</th>\n",
              "      <td>India</td>\n",
              "      <td>IND</td>\n",
              "      <td>2020-01-03</td>\n",
              "      <td>0</td>\n",
              "    </tr>\n",
              "    <tr>\n",
              "      <th>37367</th>\n",
              "      <td>India</td>\n",
              "      <td>IND</td>\n",
              "      <td>2020-01-04</td>\n",
              "      <td>0</td>\n",
              "    </tr>\n",
              "    <tr>\n",
              "      <th>37368</th>\n",
              "      <td>India</td>\n",
              "      <td>IND</td>\n",
              "      <td>2020-01-05</td>\n",
              "      <td>0</td>\n",
              "    </tr>\n",
              "    <tr>\n",
              "      <th>...</th>\n",
              "      <td>...</td>\n",
              "      <td>...</td>\n",
              "      <td>...</td>\n",
              "      <td>...</td>\n",
              "    </tr>\n",
              "    <tr>\n",
              "      <th>37855</th>\n",
              "      <td>India</td>\n",
              "      <td>IND</td>\n",
              "      <td>2021-05-06</td>\n",
              "      <td>3</td>\n",
              "    </tr>\n",
              "    <tr>\n",
              "      <th>37856</th>\n",
              "      <td>India</td>\n",
              "      <td>IND</td>\n",
              "      <td>2021-05-07</td>\n",
              "      <td>3</td>\n",
              "    </tr>\n",
              "    <tr>\n",
              "      <th>37857</th>\n",
              "      <td>India</td>\n",
              "      <td>IND</td>\n",
              "      <td>2021-05-08</td>\n",
              "      <td>3</td>\n",
              "    </tr>\n",
              "    <tr>\n",
              "      <th>37858</th>\n",
              "      <td>India</td>\n",
              "      <td>IND</td>\n",
              "      <td>2021-05-09</td>\n",
              "      <td>3</td>\n",
              "    </tr>\n",
              "    <tr>\n",
              "      <th>37859</th>\n",
              "      <td>India</td>\n",
              "      <td>IND</td>\n",
              "      <td>2021-05-10</td>\n",
              "      <td>3</td>\n",
              "    </tr>\n",
              "  </tbody>\n",
              "</table>\n",
              "<p>496 rows × 4 columns</p>\n",
              "</div>"
            ],
            "text/plain": [
              "      Entity Code         Day  workplace_closures\n",
              "37364  India  IND  2020-01-01                   0\n",
              "37365  India  IND  2020-01-02                   0\n",
              "37366  India  IND  2020-01-03                   0\n",
              "37367  India  IND  2020-01-04                   0\n",
              "37368  India  IND  2020-01-05                   0\n",
              "...      ...  ...         ...                 ...\n",
              "37855  India  IND  2021-05-06                   3\n",
              "37856  India  IND  2021-05-07                   3\n",
              "37857  India  IND  2021-05-08                   3\n",
              "37858  India  IND  2021-05-09                   3\n",
              "37859  India  IND  2021-05-10                   3\n",
              "\n",
              "[496 rows x 4 columns]"
            ]
          },
          "metadata": {
            "tags": []
          },
          "execution_count": 14
        }
      ]
    },
    {
      "cell_type": "markdown",
      "metadata": {
        "id": "NE72DghWO3dj"
      },
      "source": [
        "# Merging Datasets"
      ]
    },
    {
      "cell_type": "markdown",
      "metadata": {
        "id": "HTe2EZh0SyaS"
      },
      "source": [
        "Merging datasets into one"
      ]
    },
    {
      "cell_type": "code",
      "metadata": {
        "id": "VyzSBdbYNnuM",
        "colab": {
          "base_uri": "https://localhost:8080/",
          "height": 406
        },
        "outputId": "f4a0fead-ab8a-4784-8596-4e19ffa946b5"
      },
      "source": [
        "# Rename the columns on the IndiaAggregate dataframe  for easier merging \n",
        "IndiaAggregate.columns = ['Day',\t'Country',\t'Confirmed',\t'Recovered',\t'Deaths']\n",
        "IndiaAggregate"
      ],
      "execution_count": null,
      "outputs": [
        {
          "output_type": "execute_result",
          "data": {
            "text/html": [
              "<div>\n",
              "<style scoped>\n",
              "    .dataframe tbody tr th:only-of-type {\n",
              "        vertical-align: middle;\n",
              "    }\n",
              "\n",
              "    .dataframe tbody tr th {\n",
              "        vertical-align: top;\n",
              "    }\n",
              "\n",
              "    .dataframe thead th {\n",
              "        text-align: right;\n",
              "    }\n",
              "</style>\n",
              "<table border=\"1\" class=\"dataframe\">\n",
              "  <thead>\n",
              "    <tr style=\"text-align: right;\">\n",
              "      <th></th>\n",
              "      <th>Day</th>\n",
              "      <th>Country</th>\n",
              "      <th>Confirmed</th>\n",
              "      <th>Recovered</th>\n",
              "      <th>Deaths</th>\n",
              "    </tr>\n",
              "  </thead>\n",
              "  <tbody>\n",
              "    <tr>\n",
              "      <th>37604</th>\n",
              "      <td>2020-01-22</td>\n",
              "      <td>India</td>\n",
              "      <td>0</td>\n",
              "      <td>0</td>\n",
              "      <td>0</td>\n",
              "    </tr>\n",
              "    <tr>\n",
              "      <th>37605</th>\n",
              "      <td>2020-01-23</td>\n",
              "      <td>India</td>\n",
              "      <td>0</td>\n",
              "      <td>0</td>\n",
              "      <td>0</td>\n",
              "    </tr>\n",
              "    <tr>\n",
              "      <th>37606</th>\n",
              "      <td>2020-01-24</td>\n",
              "      <td>India</td>\n",
              "      <td>0</td>\n",
              "      <td>0</td>\n",
              "      <td>0</td>\n",
              "    </tr>\n",
              "    <tr>\n",
              "      <th>37607</th>\n",
              "      <td>2020-01-25</td>\n",
              "      <td>India</td>\n",
              "      <td>0</td>\n",
              "      <td>0</td>\n",
              "      <td>0</td>\n",
              "    </tr>\n",
              "    <tr>\n",
              "      <th>37608</th>\n",
              "      <td>2020-01-26</td>\n",
              "      <td>India</td>\n",
              "      <td>0</td>\n",
              "      <td>0</td>\n",
              "      <td>0</td>\n",
              "    </tr>\n",
              "    <tr>\n",
              "      <th>...</th>\n",
              "      <td>...</td>\n",
              "      <td>...</td>\n",
              "      <td>...</td>\n",
              "      <td>...</td>\n",
              "      <td>...</td>\n",
              "    </tr>\n",
              "    <tr>\n",
              "      <th>38075</th>\n",
              "      <td>2021-05-07</td>\n",
              "      <td>India</td>\n",
              "      <td>21892676</td>\n",
              "      <td>17930960</td>\n",
              "      <td>238270</td>\n",
              "    </tr>\n",
              "    <tr>\n",
              "      <th>38076</th>\n",
              "      <td>2021-05-08</td>\n",
              "      <td>India</td>\n",
              "      <td>22296081</td>\n",
              "      <td>18317364</td>\n",
              "      <td>242347</td>\n",
              "    </tr>\n",
              "    <tr>\n",
              "      <th>38077</th>\n",
              "      <td>2021-05-09</td>\n",
              "      <td>India</td>\n",
              "      <td>22662575</td>\n",
              "      <td>18671222</td>\n",
              "      <td>246116</td>\n",
              "    </tr>\n",
              "    <tr>\n",
              "      <th>38078</th>\n",
              "      <td>2021-05-10</td>\n",
              "      <td>India</td>\n",
              "      <td>22992517</td>\n",
              "      <td>19027304</td>\n",
              "      <td>249992</td>\n",
              "    </tr>\n",
              "    <tr>\n",
              "      <th>38079</th>\n",
              "      <td>2021-05-11</td>\n",
              "      <td>India</td>\n",
              "      <td>22992517</td>\n",
              "      <td>19027304</td>\n",
              "      <td>249992</td>\n",
              "    </tr>\n",
              "  </tbody>\n",
              "</table>\n",
              "<p>476 rows × 5 columns</p>\n",
              "</div>"
            ],
            "text/plain": [
              "              Day Country  Confirmed  Recovered  Deaths\n",
              "37604  2020-01-22   India          0          0       0\n",
              "37605  2020-01-23   India          0          0       0\n",
              "37606  2020-01-24   India          0          0       0\n",
              "37607  2020-01-25   India          0          0       0\n",
              "37608  2020-01-26   India          0          0       0\n",
              "...           ...     ...        ...        ...     ...\n",
              "38075  2021-05-07   India   21892676   17930960  238270\n",
              "38076  2021-05-08   India   22296081   18317364  242347\n",
              "38077  2021-05-09   India   22662575   18671222  246116\n",
              "38078  2021-05-10   India   22992517   19027304  249992\n",
              "38079  2021-05-11   India   22992517   19027304  249992\n",
              "\n",
              "[476 rows x 5 columns]"
            ]
          },
          "metadata": {
            "tags": []
          },
          "execution_count": 15
        }
      ]
    },
    {
      "cell_type": "code",
      "metadata": {
        "id": "7yE743NlS2Ge"
      },
      "source": [
        "df = InternationalMovement.merge(IndiaAggregate,how='left',on='Day')\n",
        "df = df.merge(DailyCovidVaccination,how='left',on='Day')\n",
        "df = df.merge(InternalMovement, how='left',on='Day')\n",
        "df = df.merge(DailyCovidTest, how='left',on='Day')\n",
        "df = df.merge(PeopleFullyVaccinated, how='left',on='Day')\n",
        "df = df.merge(PeopleVaccinated, how='left',on='Day')\n",
        "df = df.merge(PositivityRate, how='left',on='Day')\n",
        "df = df.merge(PublicGathering, how='left',on='Day')\n",
        "df = df.merge(SchoolClosure, how='left',on='Day')\n",
        "df = df.merge(StayatHome, how='left',on='Day')\n",
        "df = df.merge(WorkplaceClosure, how='left',on='Day')"
      ],
      "execution_count": null,
      "outputs": []
    },
    {
      "cell_type": "code",
      "metadata": {
        "id": "J2Q2sfAmyQlk",
        "colab": {
          "base_uri": "https://localhost:8080/",
          "height": 776
        },
        "outputId": "f986787e-8db8-4141-8006-093795f21540"
      },
      "source": [
        "df"
      ],
      "execution_count": null,
      "outputs": [
        {
          "output_type": "execute_result",
          "data": {
            "text/html": [
              "<div>\n",
              "<style scoped>\n",
              "    .dataframe tbody tr th:only-of-type {\n",
              "        vertical-align: middle;\n",
              "    }\n",
              "\n",
              "    .dataframe tbody tr th {\n",
              "        vertical-align: top;\n",
              "    }\n",
              "\n",
              "    .dataframe thead th {\n",
              "        text-align: right;\n",
              "    }\n",
              "</style>\n",
              "<table border=\"1\" class=\"dataframe\">\n",
              "  <thead>\n",
              "    <tr style=\"text-align: right;\">\n",
              "      <th></th>\n",
              "      <th>Entity_x</th>\n",
              "      <th>Code_x</th>\n",
              "      <th>Day</th>\n",
              "      <th>international_travel_controls</th>\n",
              "      <th>Country</th>\n",
              "      <th>Confirmed</th>\n",
              "      <th>Recovered</th>\n",
              "      <th>Deaths</th>\n",
              "      <th>Entity_y</th>\n",
              "      <th>Code_y</th>\n",
              "      <th>new_vaccinations_smoothed_per_million</th>\n",
              "      <th>Entity_x</th>\n",
              "      <th>Code_x</th>\n",
              "      <th>restrictions_internal_movements</th>\n",
              "      <th>Entity_y</th>\n",
              "      <th>Code_y</th>\n",
              "      <th>new_tests_per_thousand_7day_smoothed</th>\n",
              "      <th>142753-annotations</th>\n",
              "      <th>Daily new confirmed cases of COVID-19 per million people (rolling 7-day average, right-aligned)</th>\n",
              "      <th>Year</th>\n",
              "      <th>Continent</th>\n",
              "      <th>Entity_x</th>\n",
              "      <th>Code_x</th>\n",
              "      <th>people_fully_vaccinated</th>\n",
              "      <th>Entity_y</th>\n",
              "      <th>Code_y</th>\n",
              "      <th>people_vaccinated</th>\n",
              "      <th>Entity_x</th>\n",
              "      <th>Code_x</th>\n",
              "      <th>short_term_positivity_rate</th>\n",
              "      <th>Entity_y</th>\n",
              "      <th>Code_y</th>\n",
              "      <th>restriction_gatherings</th>\n",
              "      <th>Entity_x</th>\n",
              "      <th>Code_x</th>\n",
              "      <th>school_closures</th>\n",
              "      <th>Entity_y</th>\n",
              "      <th>Code_y</th>\n",
              "      <th>stay_home_requirements</th>\n",
              "      <th>Entity</th>\n",
              "      <th>Code</th>\n",
              "      <th>workplace_closures</th>\n",
              "    </tr>\n",
              "  </thead>\n",
              "  <tbody>\n",
              "    <tr>\n",
              "      <th>0</th>\n",
              "      <td>India</td>\n",
              "      <td>IND</td>\n",
              "      <td>2020-01-01</td>\n",
              "      <td>0</td>\n",
              "      <td>NaN</td>\n",
              "      <td>NaN</td>\n",
              "      <td>NaN</td>\n",
              "      <td>NaN</td>\n",
              "      <td>NaN</td>\n",
              "      <td>NaN</td>\n",
              "      <td>NaN</td>\n",
              "      <td>India</td>\n",
              "      <td>IND</td>\n",
              "      <td>0</td>\n",
              "      <td>NaN</td>\n",
              "      <td>NaN</td>\n",
              "      <td>NaN</td>\n",
              "      <td>NaN</td>\n",
              "      <td>NaN</td>\n",
              "      <td>NaN</td>\n",
              "      <td>NaN</td>\n",
              "      <td>NaN</td>\n",
              "      <td>NaN</td>\n",
              "      <td>NaN</td>\n",
              "      <td>NaN</td>\n",
              "      <td>NaN</td>\n",
              "      <td>NaN</td>\n",
              "      <td>NaN</td>\n",
              "      <td>NaN</td>\n",
              "      <td>NaN</td>\n",
              "      <td>India</td>\n",
              "      <td>IND</td>\n",
              "      <td>0</td>\n",
              "      <td>NaN</td>\n",
              "      <td>NaN</td>\n",
              "      <td>NaN</td>\n",
              "      <td>India</td>\n",
              "      <td>IND</td>\n",
              "      <td>0</td>\n",
              "      <td>India</td>\n",
              "      <td>IND</td>\n",
              "      <td>0</td>\n",
              "    </tr>\n",
              "    <tr>\n",
              "      <th>1</th>\n",
              "      <td>India</td>\n",
              "      <td>IND</td>\n",
              "      <td>2020-01-02</td>\n",
              "      <td>0</td>\n",
              "      <td>NaN</td>\n",
              "      <td>NaN</td>\n",
              "      <td>NaN</td>\n",
              "      <td>NaN</td>\n",
              "      <td>NaN</td>\n",
              "      <td>NaN</td>\n",
              "      <td>NaN</td>\n",
              "      <td>India</td>\n",
              "      <td>IND</td>\n",
              "      <td>0</td>\n",
              "      <td>NaN</td>\n",
              "      <td>NaN</td>\n",
              "      <td>NaN</td>\n",
              "      <td>NaN</td>\n",
              "      <td>NaN</td>\n",
              "      <td>NaN</td>\n",
              "      <td>NaN</td>\n",
              "      <td>NaN</td>\n",
              "      <td>NaN</td>\n",
              "      <td>NaN</td>\n",
              "      <td>NaN</td>\n",
              "      <td>NaN</td>\n",
              "      <td>NaN</td>\n",
              "      <td>NaN</td>\n",
              "      <td>NaN</td>\n",
              "      <td>NaN</td>\n",
              "      <td>India</td>\n",
              "      <td>IND</td>\n",
              "      <td>0</td>\n",
              "      <td>NaN</td>\n",
              "      <td>NaN</td>\n",
              "      <td>NaN</td>\n",
              "      <td>India</td>\n",
              "      <td>IND</td>\n",
              "      <td>0</td>\n",
              "      <td>India</td>\n",
              "      <td>IND</td>\n",
              "      <td>0</td>\n",
              "    </tr>\n",
              "    <tr>\n",
              "      <th>2</th>\n",
              "      <td>India</td>\n",
              "      <td>IND</td>\n",
              "      <td>2020-01-03</td>\n",
              "      <td>0</td>\n",
              "      <td>NaN</td>\n",
              "      <td>NaN</td>\n",
              "      <td>NaN</td>\n",
              "      <td>NaN</td>\n",
              "      <td>NaN</td>\n",
              "      <td>NaN</td>\n",
              "      <td>NaN</td>\n",
              "      <td>India</td>\n",
              "      <td>IND</td>\n",
              "      <td>0</td>\n",
              "      <td>NaN</td>\n",
              "      <td>NaN</td>\n",
              "      <td>NaN</td>\n",
              "      <td>NaN</td>\n",
              "      <td>NaN</td>\n",
              "      <td>NaN</td>\n",
              "      <td>NaN</td>\n",
              "      <td>NaN</td>\n",
              "      <td>NaN</td>\n",
              "      <td>NaN</td>\n",
              "      <td>NaN</td>\n",
              "      <td>NaN</td>\n",
              "      <td>NaN</td>\n",
              "      <td>NaN</td>\n",
              "      <td>NaN</td>\n",
              "      <td>NaN</td>\n",
              "      <td>India</td>\n",
              "      <td>IND</td>\n",
              "      <td>0</td>\n",
              "      <td>NaN</td>\n",
              "      <td>NaN</td>\n",
              "      <td>NaN</td>\n",
              "      <td>India</td>\n",
              "      <td>IND</td>\n",
              "      <td>0</td>\n",
              "      <td>India</td>\n",
              "      <td>IND</td>\n",
              "      <td>0</td>\n",
              "    </tr>\n",
              "    <tr>\n",
              "      <th>3</th>\n",
              "      <td>India</td>\n",
              "      <td>IND</td>\n",
              "      <td>2020-01-04</td>\n",
              "      <td>0</td>\n",
              "      <td>NaN</td>\n",
              "      <td>NaN</td>\n",
              "      <td>NaN</td>\n",
              "      <td>NaN</td>\n",
              "      <td>NaN</td>\n",
              "      <td>NaN</td>\n",
              "      <td>NaN</td>\n",
              "      <td>India</td>\n",
              "      <td>IND</td>\n",
              "      <td>0</td>\n",
              "      <td>NaN</td>\n",
              "      <td>NaN</td>\n",
              "      <td>NaN</td>\n",
              "      <td>NaN</td>\n",
              "      <td>NaN</td>\n",
              "      <td>NaN</td>\n",
              "      <td>NaN</td>\n",
              "      <td>NaN</td>\n",
              "      <td>NaN</td>\n",
              "      <td>NaN</td>\n",
              "      <td>NaN</td>\n",
              "      <td>NaN</td>\n",
              "      <td>NaN</td>\n",
              "      <td>NaN</td>\n",
              "      <td>NaN</td>\n",
              "      <td>NaN</td>\n",
              "      <td>India</td>\n",
              "      <td>IND</td>\n",
              "      <td>0</td>\n",
              "      <td>NaN</td>\n",
              "      <td>NaN</td>\n",
              "      <td>NaN</td>\n",
              "      <td>India</td>\n",
              "      <td>IND</td>\n",
              "      <td>0</td>\n",
              "      <td>India</td>\n",
              "      <td>IND</td>\n",
              "      <td>0</td>\n",
              "    </tr>\n",
              "    <tr>\n",
              "      <th>4</th>\n",
              "      <td>India</td>\n",
              "      <td>IND</td>\n",
              "      <td>2020-01-05</td>\n",
              "      <td>0</td>\n",
              "      <td>NaN</td>\n",
              "      <td>NaN</td>\n",
              "      <td>NaN</td>\n",
              "      <td>NaN</td>\n",
              "      <td>NaN</td>\n",
              "      <td>NaN</td>\n",
              "      <td>NaN</td>\n",
              "      <td>India</td>\n",
              "      <td>IND</td>\n",
              "      <td>0</td>\n",
              "      <td>NaN</td>\n",
              "      <td>NaN</td>\n",
              "      <td>NaN</td>\n",
              "      <td>NaN</td>\n",
              "      <td>NaN</td>\n",
              "      <td>NaN</td>\n",
              "      <td>NaN</td>\n",
              "      <td>NaN</td>\n",
              "      <td>NaN</td>\n",
              "      <td>NaN</td>\n",
              "      <td>NaN</td>\n",
              "      <td>NaN</td>\n",
              "      <td>NaN</td>\n",
              "      <td>NaN</td>\n",
              "      <td>NaN</td>\n",
              "      <td>NaN</td>\n",
              "      <td>India</td>\n",
              "      <td>IND</td>\n",
              "      <td>0</td>\n",
              "      <td>NaN</td>\n",
              "      <td>NaN</td>\n",
              "      <td>NaN</td>\n",
              "      <td>India</td>\n",
              "      <td>IND</td>\n",
              "      <td>0</td>\n",
              "      <td>India</td>\n",
              "      <td>IND</td>\n",
              "      <td>0</td>\n",
              "    </tr>\n",
              "    <tr>\n",
              "      <th>...</th>\n",
              "      <td>...</td>\n",
              "      <td>...</td>\n",
              "      <td>...</td>\n",
              "      <td>...</td>\n",
              "      <td>...</td>\n",
              "      <td>...</td>\n",
              "      <td>...</td>\n",
              "      <td>...</td>\n",
              "      <td>...</td>\n",
              "      <td>...</td>\n",
              "      <td>...</td>\n",
              "      <td>...</td>\n",
              "      <td>...</td>\n",
              "      <td>...</td>\n",
              "      <td>...</td>\n",
              "      <td>...</td>\n",
              "      <td>...</td>\n",
              "      <td>...</td>\n",
              "      <td>...</td>\n",
              "      <td>...</td>\n",
              "      <td>...</td>\n",
              "      <td>...</td>\n",
              "      <td>...</td>\n",
              "      <td>...</td>\n",
              "      <td>...</td>\n",
              "      <td>...</td>\n",
              "      <td>...</td>\n",
              "      <td>...</td>\n",
              "      <td>...</td>\n",
              "      <td>...</td>\n",
              "      <td>...</td>\n",
              "      <td>...</td>\n",
              "      <td>...</td>\n",
              "      <td>...</td>\n",
              "      <td>...</td>\n",
              "      <td>...</td>\n",
              "      <td>...</td>\n",
              "      <td>...</td>\n",
              "      <td>...</td>\n",
              "      <td>...</td>\n",
              "      <td>...</td>\n",
              "      <td>...</td>\n",
              "    </tr>\n",
              "    <tr>\n",
              "      <th>491</th>\n",
              "      <td>India</td>\n",
              "      <td>IND</td>\n",
              "      <td>2021-05-06</td>\n",
              "      <td>3</td>\n",
              "      <td>India</td>\n",
              "      <td>21491598.0</td>\n",
              "      <td>17612351.0</td>\n",
              "      <td>234083.0</td>\n",
              "      <td>India</td>\n",
              "      <td>IND</td>\n",
              "      <td>0.1380</td>\n",
              "      <td>India</td>\n",
              "      <td>IND</td>\n",
              "      <td>2</td>\n",
              "      <td>India</td>\n",
              "      <td>IND</td>\n",
              "      <td>1274.0</td>\n",
              "      <td>samples tested</td>\n",
              "      <td>282.46514</td>\n",
              "      <td>2015.0</td>\n",
              "      <td>Asia</td>\n",
              "      <td>India</td>\n",
              "      <td>IND</td>\n",
              "      <td>31544713.0</td>\n",
              "      <td>India</td>\n",
              "      <td>IND</td>\n",
              "      <td>131058890.0</td>\n",
              "      <td>India</td>\n",
              "      <td>IND</td>\n",
              "      <td>22.2</td>\n",
              "      <td>India</td>\n",
              "      <td>IND</td>\n",
              "      <td>4</td>\n",
              "      <td>India</td>\n",
              "      <td>IND</td>\n",
              "      <td>3.0</td>\n",
              "      <td>India</td>\n",
              "      <td>IND</td>\n",
              "      <td>3</td>\n",
              "      <td>India</td>\n",
              "      <td>IND</td>\n",
              "      <td>3</td>\n",
              "    </tr>\n",
              "    <tr>\n",
              "      <th>492</th>\n",
              "      <td>India</td>\n",
              "      <td>IND</td>\n",
              "      <td>2021-05-07</td>\n",
              "      <td>3</td>\n",
              "      <td>India</td>\n",
              "      <td>21892676.0</td>\n",
              "      <td>17930960.0</td>\n",
              "      <td>238270.0</td>\n",
              "      <td>India</td>\n",
              "      <td>IND</td>\n",
              "      <td>0.1366</td>\n",
              "      <td>India</td>\n",
              "      <td>IND</td>\n",
              "      <td>2</td>\n",
              "      <td>India</td>\n",
              "      <td>IND</td>\n",
              "      <td>1264.0</td>\n",
              "      <td>samples tested</td>\n",
              "      <td>282.37043</td>\n",
              "      <td>2015.0</td>\n",
              "      <td>Asia</td>\n",
              "      <td>India</td>\n",
              "      <td>IND</td>\n",
              "      <td>32895173.0</td>\n",
              "      <td>India</td>\n",
              "      <td>IND</td>\n",
              "      <td>132294827.0</td>\n",
              "      <td>India</td>\n",
              "      <td>IND</td>\n",
              "      <td>22.3</td>\n",
              "      <td>India</td>\n",
              "      <td>IND</td>\n",
              "      <td>4</td>\n",
              "      <td>India</td>\n",
              "      <td>IND</td>\n",
              "      <td>3.0</td>\n",
              "      <td>India</td>\n",
              "      <td>IND</td>\n",
              "      <td>3</td>\n",
              "      <td>India</td>\n",
              "      <td>IND</td>\n",
              "      <td>3</td>\n",
              "    </tr>\n",
              "    <tr>\n",
              "      <th>493</th>\n",
              "      <td>India</td>\n",
              "      <td>IND</td>\n",
              "      <td>2021-05-08</td>\n",
              "      <td>3</td>\n",
              "      <td>India</td>\n",
              "      <td>22296081.0</td>\n",
              "      <td>18317364.0</td>\n",
              "      <td>242347.0</td>\n",
              "      <td>India</td>\n",
              "      <td>IND</td>\n",
              "      <td>0.1436</td>\n",
              "      <td>India</td>\n",
              "      <td>IND</td>\n",
              "      <td>2</td>\n",
              "      <td>India</td>\n",
              "      <td>IND</td>\n",
              "      <td>1250.0</td>\n",
              "      <td>samples tested</td>\n",
              "      <td>283.50057</td>\n",
              "      <td>2015.0</td>\n",
              "      <td>Asia</td>\n",
              "      <td>India</td>\n",
              "      <td>IND</td>\n",
              "      <td>34127375.0</td>\n",
              "      <td>India</td>\n",
              "      <td>IND</td>\n",
              "      <td>133366482.0</td>\n",
              "      <td>India</td>\n",
              "      <td>IND</td>\n",
              "      <td>22.7</td>\n",
              "      <td>India</td>\n",
              "      <td>IND</td>\n",
              "      <td>4</td>\n",
              "      <td>India</td>\n",
              "      <td>IND</td>\n",
              "      <td>3.0</td>\n",
              "      <td>India</td>\n",
              "      <td>IND</td>\n",
              "      <td>3</td>\n",
              "      <td>India</td>\n",
              "      <td>IND</td>\n",
              "      <td>3</td>\n",
              "    </tr>\n",
              "    <tr>\n",
              "      <th>494</th>\n",
              "      <td>India</td>\n",
              "      <td>IND</td>\n",
              "      <td>2021-05-09</td>\n",
              "      <td>3</td>\n",
              "      <td>India</td>\n",
              "      <td>22662575.0</td>\n",
              "      <td>18671222.0</td>\n",
              "      <td>246116.0</td>\n",
              "      <td>India</td>\n",
              "      <td>IND</td>\n",
              "      <td>0.1459</td>\n",
              "      <td>India</td>\n",
              "      <td>IND</td>\n",
              "      <td>2</td>\n",
              "      <td>India</td>\n",
              "      <td>IND</td>\n",
              "      <td>1256.0</td>\n",
              "      <td>samples tested</td>\n",
              "      <td>283.33857</td>\n",
              "      <td>2015.0</td>\n",
              "      <td>Asia</td>\n",
              "      <td>India</td>\n",
              "      <td>IND</td>\n",
              "      <td>34450192.0</td>\n",
              "      <td>India</td>\n",
              "      <td>IND</td>\n",
              "      <td>133854676.0</td>\n",
              "      <td>India</td>\n",
              "      <td>IND</td>\n",
              "      <td>22.6</td>\n",
              "      <td>India</td>\n",
              "      <td>IND</td>\n",
              "      <td>4</td>\n",
              "      <td>India</td>\n",
              "      <td>IND</td>\n",
              "      <td>3.0</td>\n",
              "      <td>India</td>\n",
              "      <td>IND</td>\n",
              "      <td>3</td>\n",
              "      <td>India</td>\n",
              "      <td>IND</td>\n",
              "      <td>3</td>\n",
              "    </tr>\n",
              "    <tr>\n",
              "      <th>495</th>\n",
              "      <td>India</td>\n",
              "      <td>IND</td>\n",
              "      <td>2021-05-10</td>\n",
              "      <td>3</td>\n",
              "      <td>India</td>\n",
              "      <td>22992517.0</td>\n",
              "      <td>19027304.0</td>\n",
              "      <td>249992.0</td>\n",
              "      <td>India</td>\n",
              "      <td>IND</td>\n",
              "      <td>0.1555</td>\n",
              "      <td>India</td>\n",
              "      <td>IND</td>\n",
              "      <td>2</td>\n",
              "      <td>India</td>\n",
              "      <td>IND</td>\n",
              "      <td>1253.0</td>\n",
              "      <td>samples tested</td>\n",
              "      <td>280.50486</td>\n",
              "      <td>2015.0</td>\n",
              "      <td>Asia</td>\n",
              "      <td>India</td>\n",
              "      <td>IND</td>\n",
              "      <td>35906905.0</td>\n",
              "      <td>India</td>\n",
              "      <td>IND</td>\n",
              "      <td>135192013.0</td>\n",
              "      <td>India</td>\n",
              "      <td>IND</td>\n",
              "      <td>22.4</td>\n",
              "      <td>India</td>\n",
              "      <td>IND</td>\n",
              "      <td>4</td>\n",
              "      <td>India</td>\n",
              "      <td>IND</td>\n",
              "      <td>3.0</td>\n",
              "      <td>India</td>\n",
              "      <td>IND</td>\n",
              "      <td>3</td>\n",
              "      <td>India</td>\n",
              "      <td>IND</td>\n",
              "      <td>3</td>\n",
              "    </tr>\n",
              "  </tbody>\n",
              "</table>\n",
              "<p>496 rows × 42 columns</p>\n",
              "</div>"
            ],
            "text/plain": [
              "    Entity_x Code_x         Day  ...  Entity Code  workplace_closures\n",
              "0      India    IND  2020-01-01  ...   India  IND                   0\n",
              "1      India    IND  2020-01-02  ...   India  IND                   0\n",
              "2      India    IND  2020-01-03  ...   India  IND                   0\n",
              "3      India    IND  2020-01-04  ...   India  IND                   0\n",
              "4      India    IND  2020-01-05  ...   India  IND                   0\n",
              "..       ...    ...         ...  ...     ...  ...                 ...\n",
              "491    India    IND  2021-05-06  ...   India  IND                   3\n",
              "492    India    IND  2021-05-07  ...   India  IND                   3\n",
              "493    India    IND  2021-05-08  ...   India  IND                   3\n",
              "494    India    IND  2021-05-09  ...   India  IND                   3\n",
              "495    India    IND  2021-05-10  ...   India  IND                   3\n",
              "\n",
              "[496 rows x 42 columns]"
            ]
          },
          "metadata": {
            "tags": []
          },
          "execution_count": 17
        }
      ]
    },
    {
      "cell_type": "markdown",
      "metadata": {
        "id": "10KvmXL6ZzOZ"
      },
      "source": [
        "Dropping Columns in DataFrame"
      ]
    },
    {
      "cell_type": "code",
      "metadata": {
        "id": "3ZEL-bB6Z30v",
        "colab": {
          "base_uri": "https://localhost:8080/",
          "height": 776
        },
        "outputId": "07f2c5b3-224c-490a-f50c-658980d580a2"
      },
      "source": [
        "#create a list of column names to drop\n",
        "drop_list=['Entity_x','Entity_y','Code_x','Code_y','142753-annotations','Year','Continent','new_tests_per_thousand_7day_smoothed', 'Entity']\n",
        "df.drop(drop_list,axis=1,inplace=True)\n",
        "df"
      ],
      "execution_count": null,
      "outputs": [
        {
          "output_type": "execute_result",
          "data": {
            "text/html": [
              "<div>\n",
              "<style scoped>\n",
              "    .dataframe tbody tr th:only-of-type {\n",
              "        vertical-align: middle;\n",
              "    }\n",
              "\n",
              "    .dataframe tbody tr th {\n",
              "        vertical-align: top;\n",
              "    }\n",
              "\n",
              "    .dataframe thead th {\n",
              "        text-align: right;\n",
              "    }\n",
              "</style>\n",
              "<table border=\"1\" class=\"dataframe\">\n",
              "  <thead>\n",
              "    <tr style=\"text-align: right;\">\n",
              "      <th></th>\n",
              "      <th>Day</th>\n",
              "      <th>international_travel_controls</th>\n",
              "      <th>Country</th>\n",
              "      <th>Confirmed</th>\n",
              "      <th>Recovered</th>\n",
              "      <th>Deaths</th>\n",
              "      <th>new_vaccinations_smoothed_per_million</th>\n",
              "      <th>restrictions_internal_movements</th>\n",
              "      <th>Daily new confirmed cases of COVID-19 per million people (rolling 7-day average, right-aligned)</th>\n",
              "      <th>people_fully_vaccinated</th>\n",
              "      <th>people_vaccinated</th>\n",
              "      <th>short_term_positivity_rate</th>\n",
              "      <th>restriction_gatherings</th>\n",
              "      <th>school_closures</th>\n",
              "      <th>stay_home_requirements</th>\n",
              "      <th>Code</th>\n",
              "      <th>workplace_closures</th>\n",
              "    </tr>\n",
              "  </thead>\n",
              "  <tbody>\n",
              "    <tr>\n",
              "      <th>0</th>\n",
              "      <td>2020-01-01</td>\n",
              "      <td>0</td>\n",
              "      <td>NaN</td>\n",
              "      <td>NaN</td>\n",
              "      <td>NaN</td>\n",
              "      <td>NaN</td>\n",
              "      <td>NaN</td>\n",
              "      <td>0</td>\n",
              "      <td>NaN</td>\n",
              "      <td>NaN</td>\n",
              "      <td>NaN</td>\n",
              "      <td>NaN</td>\n",
              "      <td>0</td>\n",
              "      <td>NaN</td>\n",
              "      <td>0</td>\n",
              "      <td>IND</td>\n",
              "      <td>0</td>\n",
              "    </tr>\n",
              "    <tr>\n",
              "      <th>1</th>\n",
              "      <td>2020-01-02</td>\n",
              "      <td>0</td>\n",
              "      <td>NaN</td>\n",
              "      <td>NaN</td>\n",
              "      <td>NaN</td>\n",
              "      <td>NaN</td>\n",
              "      <td>NaN</td>\n",
              "      <td>0</td>\n",
              "      <td>NaN</td>\n",
              "      <td>NaN</td>\n",
              "      <td>NaN</td>\n",
              "      <td>NaN</td>\n",
              "      <td>0</td>\n",
              "      <td>NaN</td>\n",
              "      <td>0</td>\n",
              "      <td>IND</td>\n",
              "      <td>0</td>\n",
              "    </tr>\n",
              "    <tr>\n",
              "      <th>2</th>\n",
              "      <td>2020-01-03</td>\n",
              "      <td>0</td>\n",
              "      <td>NaN</td>\n",
              "      <td>NaN</td>\n",
              "      <td>NaN</td>\n",
              "      <td>NaN</td>\n",
              "      <td>NaN</td>\n",
              "      <td>0</td>\n",
              "      <td>NaN</td>\n",
              "      <td>NaN</td>\n",
              "      <td>NaN</td>\n",
              "      <td>NaN</td>\n",
              "      <td>0</td>\n",
              "      <td>NaN</td>\n",
              "      <td>0</td>\n",
              "      <td>IND</td>\n",
              "      <td>0</td>\n",
              "    </tr>\n",
              "    <tr>\n",
              "      <th>3</th>\n",
              "      <td>2020-01-04</td>\n",
              "      <td>0</td>\n",
              "      <td>NaN</td>\n",
              "      <td>NaN</td>\n",
              "      <td>NaN</td>\n",
              "      <td>NaN</td>\n",
              "      <td>NaN</td>\n",
              "      <td>0</td>\n",
              "      <td>NaN</td>\n",
              "      <td>NaN</td>\n",
              "      <td>NaN</td>\n",
              "      <td>NaN</td>\n",
              "      <td>0</td>\n",
              "      <td>NaN</td>\n",
              "      <td>0</td>\n",
              "      <td>IND</td>\n",
              "      <td>0</td>\n",
              "    </tr>\n",
              "    <tr>\n",
              "      <th>4</th>\n",
              "      <td>2020-01-05</td>\n",
              "      <td>0</td>\n",
              "      <td>NaN</td>\n",
              "      <td>NaN</td>\n",
              "      <td>NaN</td>\n",
              "      <td>NaN</td>\n",
              "      <td>NaN</td>\n",
              "      <td>0</td>\n",
              "      <td>NaN</td>\n",
              "      <td>NaN</td>\n",
              "      <td>NaN</td>\n",
              "      <td>NaN</td>\n",
              "      <td>0</td>\n",
              "      <td>NaN</td>\n",
              "      <td>0</td>\n",
              "      <td>IND</td>\n",
              "      <td>0</td>\n",
              "    </tr>\n",
              "    <tr>\n",
              "      <th>...</th>\n",
              "      <td>...</td>\n",
              "      <td>...</td>\n",
              "      <td>...</td>\n",
              "      <td>...</td>\n",
              "      <td>...</td>\n",
              "      <td>...</td>\n",
              "      <td>...</td>\n",
              "      <td>...</td>\n",
              "      <td>...</td>\n",
              "      <td>...</td>\n",
              "      <td>...</td>\n",
              "      <td>...</td>\n",
              "      <td>...</td>\n",
              "      <td>...</td>\n",
              "      <td>...</td>\n",
              "      <td>...</td>\n",
              "      <td>...</td>\n",
              "    </tr>\n",
              "    <tr>\n",
              "      <th>491</th>\n",
              "      <td>2021-05-06</td>\n",
              "      <td>3</td>\n",
              "      <td>India</td>\n",
              "      <td>21491598.0</td>\n",
              "      <td>17612351.0</td>\n",
              "      <td>234083.0</td>\n",
              "      <td>0.1380</td>\n",
              "      <td>2</td>\n",
              "      <td>282.46514</td>\n",
              "      <td>31544713.0</td>\n",
              "      <td>131058890.0</td>\n",
              "      <td>22.2</td>\n",
              "      <td>4</td>\n",
              "      <td>3.0</td>\n",
              "      <td>3</td>\n",
              "      <td>IND</td>\n",
              "      <td>3</td>\n",
              "    </tr>\n",
              "    <tr>\n",
              "      <th>492</th>\n",
              "      <td>2021-05-07</td>\n",
              "      <td>3</td>\n",
              "      <td>India</td>\n",
              "      <td>21892676.0</td>\n",
              "      <td>17930960.0</td>\n",
              "      <td>238270.0</td>\n",
              "      <td>0.1366</td>\n",
              "      <td>2</td>\n",
              "      <td>282.37043</td>\n",
              "      <td>32895173.0</td>\n",
              "      <td>132294827.0</td>\n",
              "      <td>22.3</td>\n",
              "      <td>4</td>\n",
              "      <td>3.0</td>\n",
              "      <td>3</td>\n",
              "      <td>IND</td>\n",
              "      <td>3</td>\n",
              "    </tr>\n",
              "    <tr>\n",
              "      <th>493</th>\n",
              "      <td>2021-05-08</td>\n",
              "      <td>3</td>\n",
              "      <td>India</td>\n",
              "      <td>22296081.0</td>\n",
              "      <td>18317364.0</td>\n",
              "      <td>242347.0</td>\n",
              "      <td>0.1436</td>\n",
              "      <td>2</td>\n",
              "      <td>283.50057</td>\n",
              "      <td>34127375.0</td>\n",
              "      <td>133366482.0</td>\n",
              "      <td>22.7</td>\n",
              "      <td>4</td>\n",
              "      <td>3.0</td>\n",
              "      <td>3</td>\n",
              "      <td>IND</td>\n",
              "      <td>3</td>\n",
              "    </tr>\n",
              "    <tr>\n",
              "      <th>494</th>\n",
              "      <td>2021-05-09</td>\n",
              "      <td>3</td>\n",
              "      <td>India</td>\n",
              "      <td>22662575.0</td>\n",
              "      <td>18671222.0</td>\n",
              "      <td>246116.0</td>\n",
              "      <td>0.1459</td>\n",
              "      <td>2</td>\n",
              "      <td>283.33857</td>\n",
              "      <td>34450192.0</td>\n",
              "      <td>133854676.0</td>\n",
              "      <td>22.6</td>\n",
              "      <td>4</td>\n",
              "      <td>3.0</td>\n",
              "      <td>3</td>\n",
              "      <td>IND</td>\n",
              "      <td>3</td>\n",
              "    </tr>\n",
              "    <tr>\n",
              "      <th>495</th>\n",
              "      <td>2021-05-10</td>\n",
              "      <td>3</td>\n",
              "      <td>India</td>\n",
              "      <td>22992517.0</td>\n",
              "      <td>19027304.0</td>\n",
              "      <td>249992.0</td>\n",
              "      <td>0.1555</td>\n",
              "      <td>2</td>\n",
              "      <td>280.50486</td>\n",
              "      <td>35906905.0</td>\n",
              "      <td>135192013.0</td>\n",
              "      <td>22.4</td>\n",
              "      <td>4</td>\n",
              "      <td>3.0</td>\n",
              "      <td>3</td>\n",
              "      <td>IND</td>\n",
              "      <td>3</td>\n",
              "    </tr>\n",
              "  </tbody>\n",
              "</table>\n",
              "<p>496 rows × 17 columns</p>\n",
              "</div>"
            ],
            "text/plain": [
              "            Day  international_travel_controls  ... Code  workplace_closures\n",
              "0    2020-01-01                              0  ...  IND                   0\n",
              "1    2020-01-02                              0  ...  IND                   0\n",
              "2    2020-01-03                              0  ...  IND                   0\n",
              "3    2020-01-04                              0  ...  IND                   0\n",
              "4    2020-01-05                              0  ...  IND                   0\n",
              "..          ...                            ...  ...  ...                 ...\n",
              "491  2021-05-06                              3  ...  IND                   3\n",
              "492  2021-05-07                              3  ...  IND                   3\n",
              "493  2021-05-08                              3  ...  IND                   3\n",
              "494  2021-05-09                              3  ...  IND                   3\n",
              "495  2021-05-10                              3  ...  IND                   3\n",
              "\n",
              "[496 rows x 17 columns]"
            ]
          },
          "metadata": {
            "tags": []
          },
          "execution_count": 18
        }
      ]
    },
    {
      "cell_type": "markdown",
      "metadata": {
        "id": "NioQXvMzbcDm"
      },
      "source": [
        "Cleaning Data"
      ]
    },
    {
      "cell_type": "code",
      "metadata": {
        "id": "RXupg651bdi9",
        "colab": {
          "base_uri": "https://localhost:8080/"
        },
        "outputId": "02e70653-623c-4e98-d721-3c00de26a5b1"
      },
      "source": [
        "#Check for missing values in DataFrame\n",
        "df.isnull().sum()"
      ],
      "execution_count": null,
      "outputs": [
        {
          "output_type": "execute_result",
          "data": {
            "text/plain": [
              "Day                                                                                                  0\n",
              "international_travel_controls                                                                        0\n",
              "Country                                                                                             21\n",
              "Confirmed                                                                                           21\n",
              "Recovered                                                                                           21\n",
              "Deaths                                                                                              21\n",
              "new_vaccinations_smoothed_per_million                                                              381\n",
              "restrictions_internal_movements                                                                      0\n",
              "Daily new confirmed cases of COVID-19 per million people (rolling 7-day average, right-aligned)     31\n",
              "people_fully_vaccinated                                                                            413\n",
              "people_vaccinated                                                                                  384\n",
              "short_term_positivity_rate                                                                          79\n",
              "restriction_gatherings                                                                               0\n",
              "school_closures                                                                                     20\n",
              "stay_home_requirements                                                                               0\n",
              "Code                                                                                                 0\n",
              "workplace_closures                                                                                   0\n",
              "dtype: int64"
            ]
          },
          "metadata": {
            "tags": []
          },
          "execution_count": 19
        }
      ]
    },
    {
      "cell_type": "code",
      "metadata": {
        "id": "SWmHubOpi81M"
      },
      "source": [
        "# Impute short-term positivity rate using median\n",
        "# we chose to impute the median as it is a better measure of central tendency.\n",
        "df['short_term_positivity_rate'].fillna(df['short_term_positivity_rate'].median(),inplace=True)"
      ],
      "execution_count": null,
      "outputs": []
    },
    {
      "cell_type": "code",
      "metadata": {
        "id": "bEWUnDu_llV1"
      },
      "source": [
        "#Fill the missing values with 0 because there was no vaccination carried out on these dates because there was no vaccination between January 2020 and December 2020.\n",
        "df['new_vaccinations_smoothed_per_million'].fillna(0,inplace=True)\n",
        "df['people_vaccinated'].fillna(0,inplace=True)\n",
        "df['people_fully_vaccinated'].fillna(0,inplace=True)"
      ],
      "execution_count": null,
      "outputs": []
    },
    {
      "cell_type": "code",
      "metadata": {
        "id": "rjgBgskAmEVm",
        "colab": {
          "base_uri": "https://localhost:8080/"
        },
        "outputId": "5838638c-2f85-4808-f026-80ad813ec972"
      },
      "source": [
        "#confirm if all the missing values are accounted for\n",
        "df.isnull().sum()"
      ],
      "execution_count": null,
      "outputs": [
        {
          "output_type": "execute_result",
          "data": {
            "text/plain": [
              "Day                                                                                                 0\n",
              "international_travel_controls                                                                       0\n",
              "Country                                                                                            21\n",
              "Confirmed                                                                                          21\n",
              "Recovered                                                                                          21\n",
              "Deaths                                                                                             21\n",
              "new_vaccinations_smoothed_per_million                                                               0\n",
              "restrictions_internal_movements                                                                     0\n",
              "Daily new confirmed cases of COVID-19 per million people (rolling 7-day average, right-aligned)    31\n",
              "people_fully_vaccinated                                                                             0\n",
              "people_vaccinated                                                                                   0\n",
              "short_term_positivity_rate                                                                          0\n",
              "restriction_gatherings                                                                              0\n",
              "school_closures                                                                                    20\n",
              "stay_home_requirements                                                                              0\n",
              "Code                                                                                                0\n",
              "workplace_closures                                                                                  0\n",
              "dtype: int64"
            ]
          },
          "metadata": {
            "tags": []
          },
          "execution_count": 22
        }
      ]
    },
    {
      "cell_type": "code",
      "metadata": {
        "id": "xV7CYeu7kI7S"
      },
      "source": [
        "#drop the single rows of missing values in remaining columns\n",
        "df.dropna(inplace=True)\n"
      ],
      "execution_count": null,
      "outputs": []
    },
    {
      "cell_type": "code",
      "metadata": {
        "id": "vE8K_FmHm5NX",
        "colab": {
          "base_uri": "https://localhost:8080/"
        },
        "outputId": "9551ac2d-55ae-47da-c215-a01d2529403f"
      },
      "source": [
        "#confirm if all the missing values are accounted for\n",
        "df.isnull().sum()"
      ],
      "execution_count": null,
      "outputs": [
        {
          "output_type": "execute_result",
          "data": {
            "text/plain": [
              "Day                                                                                                0\n",
              "international_travel_controls                                                                      0\n",
              "Country                                                                                            0\n",
              "Confirmed                                                                                          0\n",
              "Recovered                                                                                          0\n",
              "Deaths                                                                                             0\n",
              "new_vaccinations_smoothed_per_million                                                              0\n",
              "restrictions_internal_movements                                                                    0\n",
              "Daily new confirmed cases of COVID-19 per million people (rolling 7-day average, right-aligned)    0\n",
              "people_fully_vaccinated                                                                            0\n",
              "people_vaccinated                                                                                  0\n",
              "short_term_positivity_rate                                                                         0\n",
              "restriction_gatherings                                                                             0\n",
              "school_closures                                                                                    0\n",
              "stay_home_requirements                                                                             0\n",
              "Code                                                                                               0\n",
              "workplace_closures                                                                                 0\n",
              "dtype: int64"
            ]
          },
          "metadata": {
            "tags": []
          },
          "execution_count": 24
        }
      ]
    },
    {
      "cell_type": "code",
      "metadata": {
        "id": "vkN2Gwa4naX2",
        "colab": {
          "base_uri": "https://localhost:8080/"
        },
        "outputId": "ddecfbb6-8de5-4bbe-9b4d-4937a737772a"
      },
      "source": [
        "#Check for duplicates\n",
        "df.duplicated().sum()\n",
        "#No duplicates was found."
      ],
      "execution_count": null,
      "outputs": [
        {
          "output_type": "execute_result",
          "data": {
            "text/plain": [
              "0"
            ]
          },
          "metadata": {
            "tags": []
          },
          "execution_count": 25
        }
      ]
    },
    {
      "cell_type": "code",
      "metadata": {
        "id": "SKcoOg-KpZbY",
        "colab": {
          "base_uri": "https://localhost:8080/",
          "height": 334
        },
        "outputId": "09314625-352f-4700-e73d-9cc5b46ad30f"
      },
      "source": [
        "#fixing messy column names to be similar\n",
        "df.columns = df.columns.str.strip().str.lower().str.replace(' ', '_').str.replace('(', '').str.replace(')', '')\n",
        "df.head(5)"
      ],
      "execution_count": null,
      "outputs": [
        {
          "output_type": "execute_result",
          "data": {
            "text/html": [
              "<div>\n",
              "<style scoped>\n",
              "    .dataframe tbody tr th:only-of-type {\n",
              "        vertical-align: middle;\n",
              "    }\n",
              "\n",
              "    .dataframe tbody tr th {\n",
              "        vertical-align: top;\n",
              "    }\n",
              "\n",
              "    .dataframe thead th {\n",
              "        text-align: right;\n",
              "    }\n",
              "</style>\n",
              "<table border=\"1\" class=\"dataframe\">\n",
              "  <thead>\n",
              "    <tr style=\"text-align: right;\">\n",
              "      <th></th>\n",
              "      <th>day</th>\n",
              "      <th>international_travel_controls</th>\n",
              "      <th>country</th>\n",
              "      <th>confirmed</th>\n",
              "      <th>recovered</th>\n",
              "      <th>deaths</th>\n",
              "      <th>new_vaccinations_smoothed_per_million</th>\n",
              "      <th>restrictions_internal_movements</th>\n",
              "      <th>daily_new_confirmed_cases_of_covid-19_per_million_people_rolling_7-day_average,_right-aligned</th>\n",
              "      <th>people_fully_vaccinated</th>\n",
              "      <th>people_vaccinated</th>\n",
              "      <th>short_term_positivity_rate</th>\n",
              "      <th>restriction_gatherings</th>\n",
              "      <th>school_closures</th>\n",
              "      <th>stay_home_requirements</th>\n",
              "      <th>code</th>\n",
              "      <th>workplace_closures</th>\n",
              "    </tr>\n",
              "  </thead>\n",
              "  <tbody>\n",
              "    <tr>\n",
              "      <th>31</th>\n",
              "      <td>2020-02-01</td>\n",
              "      <td>1</td>\n",
              "      <td>India</td>\n",
              "      <td>1.0</td>\n",
              "      <td>0.0</td>\n",
              "      <td>0.0</td>\n",
              "      <td>0.0</td>\n",
              "      <td>0</td>\n",
              "      <td>0.00033</td>\n",
              "      <td>0.0</td>\n",
              "      <td>0.0</td>\n",
              "      <td>5.1</td>\n",
              "      <td>0</td>\n",
              "      <td>0.0</td>\n",
              "      <td>1</td>\n",
              "      <td>IND</td>\n",
              "      <td>0</td>\n",
              "    </tr>\n",
              "    <tr>\n",
              "      <th>32</th>\n",
              "      <td>2020-02-02</td>\n",
              "      <td>1</td>\n",
              "      <td>India</td>\n",
              "      <td>2.0</td>\n",
              "      <td>0.0</td>\n",
              "      <td>0.0</td>\n",
              "      <td>0.0</td>\n",
              "      <td>0</td>\n",
              "      <td>0.00050</td>\n",
              "      <td>0.0</td>\n",
              "      <td>0.0</td>\n",
              "      <td>5.1</td>\n",
              "      <td>0</td>\n",
              "      <td>0.0</td>\n",
              "      <td>1</td>\n",
              "      <td>IND</td>\n",
              "      <td>0</td>\n",
              "    </tr>\n",
              "    <tr>\n",
              "      <th>33</th>\n",
              "      <td>2020-02-03</td>\n",
              "      <td>1</td>\n",
              "      <td>India</td>\n",
              "      <td>3.0</td>\n",
              "      <td>0.0</td>\n",
              "      <td>0.0</td>\n",
              "      <td>0.0</td>\n",
              "      <td>0</td>\n",
              "      <td>0.00060</td>\n",
              "      <td>0.0</td>\n",
              "      <td>0.0</td>\n",
              "      <td>5.1</td>\n",
              "      <td>0</td>\n",
              "      <td>0.0</td>\n",
              "      <td>1</td>\n",
              "      <td>IND</td>\n",
              "      <td>0</td>\n",
              "    </tr>\n",
              "    <tr>\n",
              "      <th>34</th>\n",
              "      <td>2020-02-04</td>\n",
              "      <td>1</td>\n",
              "      <td>India</td>\n",
              "      <td>3.0</td>\n",
              "      <td>0.0</td>\n",
              "      <td>0.0</td>\n",
              "      <td>0.0</td>\n",
              "      <td>0</td>\n",
              "      <td>0.00050</td>\n",
              "      <td>0.0</td>\n",
              "      <td>0.0</td>\n",
              "      <td>5.1</td>\n",
              "      <td>0</td>\n",
              "      <td>0.0</td>\n",
              "      <td>1</td>\n",
              "      <td>IND</td>\n",
              "      <td>0</td>\n",
              "    </tr>\n",
              "    <tr>\n",
              "      <th>35</th>\n",
              "      <td>2020-02-05</td>\n",
              "      <td>1</td>\n",
              "      <td>India</td>\n",
              "      <td>3.0</td>\n",
              "      <td>0.0</td>\n",
              "      <td>0.0</td>\n",
              "      <td>0.0</td>\n",
              "      <td>0</td>\n",
              "      <td>0.00043</td>\n",
              "      <td>0.0</td>\n",
              "      <td>0.0</td>\n",
              "      <td>5.1</td>\n",
              "      <td>0</td>\n",
              "      <td>0.0</td>\n",
              "      <td>1</td>\n",
              "      <td>IND</td>\n",
              "      <td>0</td>\n",
              "    </tr>\n",
              "  </tbody>\n",
              "</table>\n",
              "</div>"
            ],
            "text/plain": [
              "           day  international_travel_controls  ... code  workplace_closures\n",
              "31  2020-02-01                              1  ...  IND                   0\n",
              "32  2020-02-02                              1  ...  IND                   0\n",
              "33  2020-02-03                              1  ...  IND                   0\n",
              "34  2020-02-04                              1  ...  IND                   0\n",
              "35  2020-02-05                              1  ...  IND                   0\n",
              "\n",
              "[5 rows x 17 columns]"
            ]
          },
          "metadata": {
            "tags": []
          },
          "execution_count": 26
        }
      ]
    },
    {
      "cell_type": "code",
      "metadata": {
        "id": "CavDsHR5pnhA"
      },
      "source": [
        "#convert day from object to date and time format\n",
        "df['day'] = pd.to_datetime(df['day'])"
      ],
      "execution_count": null,
      "outputs": []
    },
    {
      "cell_type": "code",
      "metadata": {
        "id": "icGj8apRvXmw",
        "colab": {
          "base_uri": "https://localhost:8080/"
        },
        "outputId": "354ba670-5df6-45b9-a675-4280b563cdb4"
      },
      "source": [
        "#check if coversion was successful\n",
        "df.dtypes"
      ],
      "execution_count": null,
      "outputs": [
        {
          "output_type": "execute_result",
          "data": {
            "text/plain": [
              "day                                                                                              datetime64[ns]\n",
              "international_travel_controls                                                                             int64\n",
              "country                                                                                                  object\n",
              "confirmed                                                                                               float64\n",
              "recovered                                                                                               float64\n",
              "deaths                                                                                                  float64\n",
              "new_vaccinations_smoothed_per_million                                                                   float64\n",
              "restrictions_internal_movements                                                                           int64\n",
              "daily_new_confirmed_cases_of_covid-19_per_million_people_rolling_7-day_average,_right-aligned           float64\n",
              "people_fully_vaccinated                                                                                 float64\n",
              "people_vaccinated                                                                                       float64\n",
              "short_term_positivity_rate                                                                              float64\n",
              "restriction_gatherings                                                                                    int64\n",
              "school_closures                                                                                         float64\n",
              "stay_home_requirements                                                                                    int64\n",
              "code                                                                                                     object\n",
              "workplace_closures                                                                                        int64\n",
              "dtype: object"
            ]
          },
          "metadata": {
            "tags": []
          },
          "execution_count": 28
        }
      ]
    },
    {
      "cell_type": "code",
      "metadata": {
        "id": "eGPIIi-Tv6YG"
      },
      "source": [
        "#Convert our merged data into CSV fie\n",
        "df.to_csv('IndiaCompleteDataset.csv')"
      ],
      "execution_count": null,
      "outputs": []
    },
    {
      "cell_type": "markdown",
      "metadata": {
        "id": "tlpdoazi13Qa"
      },
      "source": [
        "**Data Analysis**"
      ]
    },
    {
      "cell_type": "code",
      "metadata": {
        "id": "kCseWw14wEiO",
        "colab": {
          "base_uri": "https://localhost:8080/",
          "height": 334
        },
        "outputId": "77a4f263-7e86-4457-aece-478eff1b9722"
      },
      "source": [
        "\n",
        "indiadf = pd.read_csv(\"/content/IndiaCompleteDataset.csv\")\n",
        "indiadf.head()"
      ],
      "execution_count": null,
      "outputs": [
        {
          "output_type": "execute_result",
          "data": {
            "text/html": [
              "<div>\n",
              "<style scoped>\n",
              "    .dataframe tbody tr th:only-of-type {\n",
              "        vertical-align: middle;\n",
              "    }\n",
              "\n",
              "    .dataframe tbody tr th {\n",
              "        vertical-align: top;\n",
              "    }\n",
              "\n",
              "    .dataframe thead th {\n",
              "        text-align: right;\n",
              "    }\n",
              "</style>\n",
              "<table border=\"1\" class=\"dataframe\">\n",
              "  <thead>\n",
              "    <tr style=\"text-align: right;\">\n",
              "      <th></th>\n",
              "      <th>Unnamed: 0</th>\n",
              "      <th>day</th>\n",
              "      <th>international_travel_controls</th>\n",
              "      <th>country</th>\n",
              "      <th>confirmed</th>\n",
              "      <th>recovered</th>\n",
              "      <th>deaths</th>\n",
              "      <th>new_vaccinations_smoothed_per_million</th>\n",
              "      <th>restrictions_internal_movements</th>\n",
              "      <th>daily_new_confirmed_cases_of_covid-19_per_million_people_rolling_7-day_average,_right-aligned</th>\n",
              "      <th>people_fully_vaccinated</th>\n",
              "      <th>people_vaccinated</th>\n",
              "      <th>short_term_positivity_rate</th>\n",
              "      <th>restriction_gatherings</th>\n",
              "      <th>school_closures</th>\n",
              "      <th>stay_home_requirements</th>\n",
              "      <th>code</th>\n",
              "      <th>workplace_closures</th>\n",
              "    </tr>\n",
              "  </thead>\n",
              "  <tbody>\n",
              "    <tr>\n",
              "      <th>0</th>\n",
              "      <td>31</td>\n",
              "      <td>2020-02-01</td>\n",
              "      <td>1</td>\n",
              "      <td>India</td>\n",
              "      <td>1.0</td>\n",
              "      <td>0.0</td>\n",
              "      <td>0.0</td>\n",
              "      <td>0.0</td>\n",
              "      <td>0</td>\n",
              "      <td>0.00033</td>\n",
              "      <td>0.0</td>\n",
              "      <td>0.0</td>\n",
              "      <td>5.1</td>\n",
              "      <td>0</td>\n",
              "      <td>0.0</td>\n",
              "      <td>1</td>\n",
              "      <td>IND</td>\n",
              "      <td>0</td>\n",
              "    </tr>\n",
              "    <tr>\n",
              "      <th>1</th>\n",
              "      <td>32</td>\n",
              "      <td>2020-02-02</td>\n",
              "      <td>1</td>\n",
              "      <td>India</td>\n",
              "      <td>2.0</td>\n",
              "      <td>0.0</td>\n",
              "      <td>0.0</td>\n",
              "      <td>0.0</td>\n",
              "      <td>0</td>\n",
              "      <td>0.00050</td>\n",
              "      <td>0.0</td>\n",
              "      <td>0.0</td>\n",
              "      <td>5.1</td>\n",
              "      <td>0</td>\n",
              "      <td>0.0</td>\n",
              "      <td>1</td>\n",
              "      <td>IND</td>\n",
              "      <td>0</td>\n",
              "    </tr>\n",
              "    <tr>\n",
              "      <th>2</th>\n",
              "      <td>33</td>\n",
              "      <td>2020-02-03</td>\n",
              "      <td>1</td>\n",
              "      <td>India</td>\n",
              "      <td>3.0</td>\n",
              "      <td>0.0</td>\n",
              "      <td>0.0</td>\n",
              "      <td>0.0</td>\n",
              "      <td>0</td>\n",
              "      <td>0.00060</td>\n",
              "      <td>0.0</td>\n",
              "      <td>0.0</td>\n",
              "      <td>5.1</td>\n",
              "      <td>0</td>\n",
              "      <td>0.0</td>\n",
              "      <td>1</td>\n",
              "      <td>IND</td>\n",
              "      <td>0</td>\n",
              "    </tr>\n",
              "    <tr>\n",
              "      <th>3</th>\n",
              "      <td>34</td>\n",
              "      <td>2020-02-04</td>\n",
              "      <td>1</td>\n",
              "      <td>India</td>\n",
              "      <td>3.0</td>\n",
              "      <td>0.0</td>\n",
              "      <td>0.0</td>\n",
              "      <td>0.0</td>\n",
              "      <td>0</td>\n",
              "      <td>0.00050</td>\n",
              "      <td>0.0</td>\n",
              "      <td>0.0</td>\n",
              "      <td>5.1</td>\n",
              "      <td>0</td>\n",
              "      <td>0.0</td>\n",
              "      <td>1</td>\n",
              "      <td>IND</td>\n",
              "      <td>0</td>\n",
              "    </tr>\n",
              "    <tr>\n",
              "      <th>4</th>\n",
              "      <td>35</td>\n",
              "      <td>2020-02-05</td>\n",
              "      <td>1</td>\n",
              "      <td>India</td>\n",
              "      <td>3.0</td>\n",
              "      <td>0.0</td>\n",
              "      <td>0.0</td>\n",
              "      <td>0.0</td>\n",
              "      <td>0</td>\n",
              "      <td>0.00043</td>\n",
              "      <td>0.0</td>\n",
              "      <td>0.0</td>\n",
              "      <td>5.1</td>\n",
              "      <td>0</td>\n",
              "      <td>0.0</td>\n",
              "      <td>1</td>\n",
              "      <td>IND</td>\n",
              "      <td>0</td>\n",
              "    </tr>\n",
              "  </tbody>\n",
              "</table>\n",
              "</div>"
            ],
            "text/plain": [
              "   Unnamed: 0         day  ...  code workplace_closures\n",
              "0          31  2020-02-01  ...   IND                  0\n",
              "1          32  2020-02-02  ...   IND                  0\n",
              "2          33  2020-02-03  ...   IND                  0\n",
              "3          34  2020-02-04  ...   IND                  0\n",
              "4          35  2020-02-05  ...   IND                  0\n",
              "\n",
              "[5 rows x 18 columns]"
            ]
          },
          "metadata": {
            "tags": []
          },
          "execution_count": 30
        }
      ]
    },
    {
      "cell_type": "markdown",
      "metadata": {
        "id": "5MDOJmw9xkm7"
      },
      "source": [
        "# To compare the death toll pre, during and post-lockdown.\n",
        "(Since we will calculate various measures for different parameters pre, during & post lockdown, we will create dataframes for each time frame in the code for the first parameter, then reference these datasets later when needed.) \n"
      ]
    },
    {
      "cell_type": "markdown",
      "metadata": {
        "id": "bTAhQhU-ec7Y"
      },
      "source": [
        "# To compare the positivity rates pre, during & post lockdown"
      ]
    },
    {
      "cell_type": "code",
      "metadata": {
        "id": "XeqjUAI5eoZm",
        "colab": {
          "base_uri": "https://localhost:8080/"
        },
        "outputId": "d575da68-8198-4388-92ea-a574e841651e"
      },
      "source": [
        "# We will now compare the positivy rates for pre, during and post lockdown\n",
        "# Using the dataset created above for pre lockdown, we will calculate the average positivity rates during that period\n",
        "\n",
        "avgprpre = pre_lockdown_df['short_term_positivity_rate'].mean()\n",
        "print (\"The average positivity rate pre-lockdown is : \", avgprpre)\n",
        "\n"
      ],
      "execution_count": null,
      "outputs": [
        {
          "output_type": "stream",
          "text": [
            "The average positivity rate pre-lockdown is :  4.932075471698109\n"
          ],
          "name": "stdout"
        }
      ]
    },
    {
      "cell_type": "code",
      "metadata": {
        "id": "BAoo4cTagilg",
        "colab": {
          "base_uri": "https://localhost:8080/"
        },
        "outputId": "bbddc64a-c861-4270-fdd8-dda772efe1bb"
      },
      "source": [
        "# Using the dataset created above for during lockdown, we will calculate the average positivity rates during that period\n",
        "\n",
        "avgprduring = post_lockdown_df['short_term_positivity_rate'].mean()\n",
        "print (\"The average positivity rate post-lockdown is : \", avgprduring)\n"
      ],
      "execution_count": null,
      "outputs": [
        {
          "output_type": "stream",
          "text": [
            "The average positivity rate post-lockdown is :  6.767151162790696\n"
          ],
          "name": "stdout"
        }
      ]
    },
    {
      "cell_type": "code",
      "metadata": {
        "id": "htrWFVaZhc_u",
        "colab": {
          "base_uri": "https://localhost:8080/"
        },
        "outputId": "ced8d367-aade-4b73-d6e5-e3b526a8153d"
      },
      "source": [
        "# Using the dataset created above for post lockdowbn, we will then calculate the average positivity rates during that period\n",
        "\n",
        "avgprpost = post_lockdown_df['short_term_positivity_rate'].mean()\n",
        "print (\"The average positivity rate post-lockdown is : \", avgprpost)"
      ],
      "execution_count": null,
      "outputs": [
        {
          "output_type": "stream",
          "text": [
            "The average positivity rate post-lockdown is :  6.767151162790696\n"
          ],
          "name": "stdout"
        }
      ]
    },
    {
      "cell_type": "code",
      "metadata": {
        "id": "cTwnejgZpYLI"
      },
      "source": [
        "#Conclusion\n",
        "print (\"In conclusion, from the data we can see that the lockdown had a slight positive effect on the positivity rate as we had an average positivity rate of \" , avgprpre ,\"  pre-lockdown, \", avgprduring ,\" during lockdown and \", avgprpost ,\" post lockdown, illustrating a decrease during lockdown period.\")"
      ],
      "execution_count": null,
      "outputs": []
    },
    {
      "cell_type": "code",
      "metadata": {
        "id": "hWwcmBtFxkm8"
      },
      "source": [
        "# Since we know that lockdown was from 24 March 2020 - 30 June 2020, we will create 3 dataframes for each period \n",
        "# We will filter the dates to for each period\n",
        "# Create pre lockdown dataframe\n",
        "pre_lockdown_df = df[(df['day'] <= '2020-03-24')]\n",
        "pre_lockdown_df.sort_values(\"day\", ascending= True)\n",
        "\n",
        "# Create during lockdown dataframe\n",
        "during_lockdown_df = df[(df['day'] < '2020-06-01') & (df['day'] > '2020-03-24')]\n",
        "\n",
        "# Create post-lockdown dataframe\n",
        "post_lockdown_df = df[(df['day'] >= '2020-06-01')]\n",
        "\n"
      ],
      "execution_count": null,
      "outputs": []
    },
    {
      "cell_type": "code",
      "metadata": {
        "id": "Gwk8Txefo3VC",
        "colab": {
          "base_uri": "https://localhost:8080/"
        },
        "outputId": "c2098bbb-2103-4775-f978-6b05f464acc2"
      },
      "source": [
        "# We will calculate average number of deaths pre-lockdown\n",
        "avgpre = pre_lockdown_df['deaths'].mean()\n",
        "print (\"The average number of deaths pre-lockdown is : \", avgpre)\n"
      ],
      "execution_count": null,
      "outputs": [
        {
          "output_type": "stream",
          "text": [
            "The average number of deaths pre-lockdown is :  1.0566037735849056\n"
          ],
          "name": "stdout"
        }
      ]
    },
    {
      "cell_type": "code",
      "metadata": {
        "id": "yAGtn2mfY_tU",
        "colab": {
          "base_uri": "https://localhost:8080/"
        },
        "outputId": "8450ab54-8521-4aca-e157-c22dedc8b782"
      },
      "source": [
        "# We will calculate the average number of deaths during lockdown\n",
        "\n",
        "avgduring = during_lockdown_df['deaths'].mean()\n",
        "print (\"The average number of deaths post-lockdown is : \", avgduring)\n"
      ],
      "execution_count": null,
      "outputs": [
        {
          "output_type": "stream",
          "text": [
            "The average number of deaths post-lockdown is :  1599.1323529411766\n"
          ],
          "name": "stdout"
        }
      ]
    },
    {
      "cell_type": "code",
      "metadata": {
        "id": "oXwU4pmTxkm-",
        "colab": {
          "base_uri": "https://localhost:8080/"
        },
        "outputId": "fde1d564-d8d0-4f31-e876-9eb62385417a"
      },
      "source": [
        "# We will calculate the average number of deaths post-lockdown\n",
        "\n",
        "avgpost = post_lockdown_df['deaths'].mean()\n",
        "print (\"The average number of deaths post-lockdown is : \", avgpost)\n"
      ],
      "execution_count": null,
      "outputs": [
        {
          "output_type": "stream",
          "text": [
            "The average number of deaths post-lockdown is :  112771.56976744186\n"
          ],
          "name": "stdout"
        }
      ]
    },
    {
      "cell_type": "code",
      "metadata": {
        "id": "41dk458oZmTi",
        "colab": {
          "base_uri": "https://localhost:8080/"
        },
        "outputId": "ded6d341-d936-4e42-8bcc-33934a3f8f05"
      },
      "source": [
        "#Conclusion\n",
        "print (\"In conclusion, from the data we can see that the lockdown had no net effect on the deaths due to the pandemic. We had an average of \" , avgpre ,\" deaths pre-lockdown, \", avgduring ,\" deaths during lockdown and \", avgpost ,\" deaths post lockdown, showing a steady rise in the average number of deaths regardless of lockdown.\")"
      ],
      "execution_count": null,
      "outputs": [
        {
          "output_type": "stream",
          "text": [
            "In conclusion, from the data we can see that the lockdown had no net effect on the deaths due to the pandemic. We had an average of  1.0566037735849056  deaths pre-lockdown,  1599.1323529411766  deaths during lockdown and  112771.56976744186  deaths post lockdown, showing a steady rise in the average number of deaths regardless of lockdown.\n"
          ],
          "name": "stdout"
        }
      ]
    },
    {
      "cell_type": "code",
      "metadata": {
        "id": "lwzf8Ndg2Zh7",
        "colab": {
          "base_uri": "https://localhost:8080/"
        },
        "outputId": "15df9b33-311b-4b4f-8228-bea0baa3ae31"
      },
      "source": [
        "# To compare the death toll pre and post-lockdown.\n",
        "# There was a lockdown  24 March 2020 - 30 June 2020\n",
        "# filter the dates to start with dates pre_lockdown\n",
        "pre_lockdown_df = df[(df['day'] <= '2020-03-24')]\n",
        "pre_lockdown_df.sort_values(\"day\", ascending= True)\n",
        "\n",
        "# count the total number of confirmed deaths. \n",
        "\n",
        "Totalpre = pre_lockdown_df['deaths'].sum()\n",
        "print (\"The total number of deaths pre-lockdown is : \", Totalpre)\n",
        "\n"
      ],
      "execution_count": null,
      "outputs": [
        {
          "output_type": "stream",
          "text": [
            "The total number of deaths pre-lockdown is :  56.0\n"
          ],
          "name": "stdout"
        }
      ]
    },
    {
      "cell_type": "code",
      "metadata": {
        "id": "C9iPKMVUKYG1",
        "colab": {
          "base_uri": "https://localhost:8080/"
        },
        "outputId": "6949b138-7f77-4733-a6ba-06efad857e9c"
      },
      "source": [
        "# post_lockdown confirmed dates\n",
        "post_lockdown_df = df[(df['day'] >= '2020-06-01')]\n",
        "post_lockdown_df\n",
        "Totalpost = post_lockdown_df['deaths'].sum()\n",
        "print (\"The total number of deaths post-lockdown is : \", Totalpost)\n"
      ],
      "execution_count": null,
      "outputs": [
        {
          "output_type": "stream",
          "text": [
            "The total number of deaths post-lockdown is :  38793420.0\n"
          ],
          "name": "stdout"
        }
      ]
    },
    {
      "cell_type": "markdown",
      "metadata": {
        "id": "JpJliHlWk6TX"
      },
      "source": [
        "# To compare positivity rates before start of vaccination and after"
      ]
    },
    {
      "cell_type": "code",
      "metadata": {
        "id": "kx-gXGfdlFup",
        "colab": {
          "base_uri": "https://localhost:8080/",
          "height": 626
        },
        "outputId": "2ba4b8f1-25cc-4861-c085-b187dfbb79e4"
      },
      "source": [
        "# We will now compare the positivity rates  for before the vaccination exercise began and after\n",
        "# Since we know that vaccination began on 16th January 2020, we will create 2 dataframes for each period \n",
        "pre_vaccine_df = df[(df['day'] < '2021-01-16')]\n",
        "pre_vaccine_df.sort_values(\"day\", ascending= True)\n",
        "\n",
        "post_vaccine_df = df[(df['day'] >= '2021-01-16')]\n",
        "post_vaccine_df.sort_values(\"day\", ascending= True)"
      ],
      "execution_count": null,
      "outputs": [
        {
          "output_type": "execute_result",
          "data": {
            "text/html": [
              "<div>\n",
              "<style scoped>\n",
              "    .dataframe tbody tr th:only-of-type {\n",
              "        vertical-align: middle;\n",
              "    }\n",
              "\n",
              "    .dataframe tbody tr th {\n",
              "        vertical-align: top;\n",
              "    }\n",
              "\n",
              "    .dataframe thead th {\n",
              "        text-align: right;\n",
              "    }\n",
              "</style>\n",
              "<table border=\"1\" class=\"dataframe\">\n",
              "  <thead>\n",
              "    <tr style=\"text-align: right;\">\n",
              "      <th></th>\n",
              "      <th>day</th>\n",
              "      <th>international_travel_controls</th>\n",
              "      <th>country</th>\n",
              "      <th>confirmed</th>\n",
              "      <th>recovered</th>\n",
              "      <th>deaths</th>\n",
              "      <th>new_vaccinations_smoothed_per_million</th>\n",
              "      <th>restrictions_internal_movements</th>\n",
              "      <th>daily_new_confirmed_cases_of_covid-19_per_million_people_rolling_7-day_average,_right-aligned</th>\n",
              "      <th>people_fully_vaccinated</th>\n",
              "      <th>people_vaccinated</th>\n",
              "      <th>short_term_positivity_rate</th>\n",
              "      <th>restriction_gatherings</th>\n",
              "      <th>school_closures</th>\n",
              "      <th>stay_home_requirements</th>\n",
              "      <th>code</th>\n",
              "      <th>workplace_closures</th>\n",
              "      <th>month_year</th>\n",
              "    </tr>\n",
              "  </thead>\n",
              "  <tbody>\n",
              "    <tr>\n",
              "      <th>381</th>\n",
              "      <td>2021-01-16</td>\n",
              "      <td>3</td>\n",
              "      <td>India</td>\n",
              "      <td>10557985.0</td>\n",
              "      <td>10196885.0</td>\n",
              "      <td>152274.0</td>\n",
              "      <td>0.0139</td>\n",
              "      <td>1</td>\n",
              "      <td>11.14929</td>\n",
              "      <td>0.0</td>\n",
              "      <td>191181.0</td>\n",
              "      <td>2.0</td>\n",
              "      <td>4</td>\n",
              "      <td>3.0</td>\n",
              "      <td>2</td>\n",
              "      <td>IND</td>\n",
              "      <td>2</td>\n",
              "      <td>2021-01</td>\n",
              "    </tr>\n",
              "    <tr>\n",
              "      <th>382</th>\n",
              "      <td>2021-01-17</td>\n",
              "      <td>3</td>\n",
              "      <td>India</td>\n",
              "      <td>10571773.0</td>\n",
              "      <td>10211342.0</td>\n",
              "      <td>152419.0</td>\n",
              "      <td>0.0081</td>\n",
              "      <td>1</td>\n",
              "      <td>10.88800</td>\n",
              "      <td>0.0</td>\n",
              "      <td>224301.0</td>\n",
              "      <td>1.9</td>\n",
              "      <td>4</td>\n",
              "      <td>3.0</td>\n",
              "      <td>2</td>\n",
              "      <td>IND</td>\n",
              "      <td>2</td>\n",
              "      <td>2021-01</td>\n",
              "    </tr>\n",
              "    <tr>\n",
              "      <th>383</th>\n",
              "      <td>2021-01-18</td>\n",
              "      <td>3</td>\n",
              "      <td>India</td>\n",
              "      <td>10581823.0</td>\n",
              "      <td>10228753.0</td>\n",
              "      <td>152556.0</td>\n",
              "      <td>0.0110</td>\n",
              "      <td>1</td>\n",
              "      <td>10.62571</td>\n",
              "      <td>0.0</td>\n",
              "      <td>454049.0</td>\n",
              "      <td>1.9</td>\n",
              "      <td>4</td>\n",
              "      <td>3.0</td>\n",
              "      <td>2</td>\n",
              "      <td>IND</td>\n",
              "      <td>2</td>\n",
              "      <td>2021-01</td>\n",
              "    </tr>\n",
              "    <tr>\n",
              "      <th>384</th>\n",
              "      <td>2021-01-19</td>\n",
              "      <td>3</td>\n",
              "      <td>India</td>\n",
              "      <td>10595639.0</td>\n",
              "      <td>10245741.0</td>\n",
              "      <td>152718.0</td>\n",
              "      <td>0.0122</td>\n",
              "      <td>1</td>\n",
              "      <td>10.40300</td>\n",
              "      <td>0.0</td>\n",
              "      <td>674835.0</td>\n",
              "      <td>2.0</td>\n",
              "      <td>4</td>\n",
              "      <td>3.0</td>\n",
              "      <td>2</td>\n",
              "      <td>IND</td>\n",
              "      <td>2</td>\n",
              "      <td>2021-01</td>\n",
              "    </tr>\n",
              "    <tr>\n",
              "      <th>385</th>\n",
              "      <td>2021-01-20</td>\n",
              "      <td>3</td>\n",
              "      <td>India</td>\n",
              "      <td>10610883.0</td>\n",
              "      <td>10265706.0</td>\n",
              "      <td>152869.0</td>\n",
              "      <td>0.0117</td>\n",
              "      <td>1</td>\n",
              "      <td>10.22671</td>\n",
              "      <td>0.0</td>\n",
              "      <td>806484.0</td>\n",
              "      <td>1.9</td>\n",
              "      <td>4</td>\n",
              "      <td>3.0</td>\n",
              "      <td>2</td>\n",
              "      <td>IND</td>\n",
              "      <td>2</td>\n",
              "      <td>2021-01</td>\n",
              "    </tr>\n",
              "    <tr>\n",
              "      <th>...</th>\n",
              "      <td>...</td>\n",
              "      <td>...</td>\n",
              "      <td>...</td>\n",
              "      <td>...</td>\n",
              "      <td>...</td>\n",
              "      <td>...</td>\n",
              "      <td>...</td>\n",
              "      <td>...</td>\n",
              "      <td>...</td>\n",
              "      <td>...</td>\n",
              "      <td>...</td>\n",
              "      <td>...</td>\n",
              "      <td>...</td>\n",
              "      <td>...</td>\n",
              "      <td>...</td>\n",
              "      <td>...</td>\n",
              "      <td>...</td>\n",
              "      <td>...</td>\n",
              "    </tr>\n",
              "    <tr>\n",
              "      <th>491</th>\n",
              "      <td>2021-05-06</td>\n",
              "      <td>3</td>\n",
              "      <td>India</td>\n",
              "      <td>21491598.0</td>\n",
              "      <td>17612351.0</td>\n",
              "      <td>234083.0</td>\n",
              "      <td>0.1380</td>\n",
              "      <td>2</td>\n",
              "      <td>282.46514</td>\n",
              "      <td>31544713.0</td>\n",
              "      <td>131058890.0</td>\n",
              "      <td>22.2</td>\n",
              "      <td>4</td>\n",
              "      <td>3.0</td>\n",
              "      <td>3</td>\n",
              "      <td>IND</td>\n",
              "      <td>3</td>\n",
              "      <td>2021-05</td>\n",
              "    </tr>\n",
              "    <tr>\n",
              "      <th>492</th>\n",
              "      <td>2021-05-07</td>\n",
              "      <td>3</td>\n",
              "      <td>India</td>\n",
              "      <td>21892676.0</td>\n",
              "      <td>17930960.0</td>\n",
              "      <td>238270.0</td>\n",
              "      <td>0.1366</td>\n",
              "      <td>2</td>\n",
              "      <td>282.37043</td>\n",
              "      <td>32895173.0</td>\n",
              "      <td>132294827.0</td>\n",
              "      <td>22.3</td>\n",
              "      <td>4</td>\n",
              "      <td>3.0</td>\n",
              "      <td>3</td>\n",
              "      <td>IND</td>\n",
              "      <td>3</td>\n",
              "      <td>2021-05</td>\n",
              "    </tr>\n",
              "    <tr>\n",
              "      <th>493</th>\n",
              "      <td>2021-05-08</td>\n",
              "      <td>3</td>\n",
              "      <td>India</td>\n",
              "      <td>22296081.0</td>\n",
              "      <td>18317364.0</td>\n",
              "      <td>242347.0</td>\n",
              "      <td>0.1436</td>\n",
              "      <td>2</td>\n",
              "      <td>283.50057</td>\n",
              "      <td>34127375.0</td>\n",
              "      <td>133366482.0</td>\n",
              "      <td>22.7</td>\n",
              "      <td>4</td>\n",
              "      <td>3.0</td>\n",
              "      <td>3</td>\n",
              "      <td>IND</td>\n",
              "      <td>3</td>\n",
              "      <td>2021-05</td>\n",
              "    </tr>\n",
              "    <tr>\n",
              "      <th>494</th>\n",
              "      <td>2021-05-09</td>\n",
              "      <td>3</td>\n",
              "      <td>India</td>\n",
              "      <td>22662575.0</td>\n",
              "      <td>18671222.0</td>\n",
              "      <td>246116.0</td>\n",
              "      <td>0.1459</td>\n",
              "      <td>2</td>\n",
              "      <td>283.33857</td>\n",
              "      <td>34450192.0</td>\n",
              "      <td>133854676.0</td>\n",
              "      <td>22.6</td>\n",
              "      <td>4</td>\n",
              "      <td>3.0</td>\n",
              "      <td>3</td>\n",
              "      <td>IND</td>\n",
              "      <td>3</td>\n",
              "      <td>2021-05</td>\n",
              "    </tr>\n",
              "    <tr>\n",
              "      <th>495</th>\n",
              "      <td>2021-05-10</td>\n",
              "      <td>3</td>\n",
              "      <td>India</td>\n",
              "      <td>22992517.0</td>\n",
              "      <td>19027304.0</td>\n",
              "      <td>249992.0</td>\n",
              "      <td>0.1555</td>\n",
              "      <td>2</td>\n",
              "      <td>280.50486</td>\n",
              "      <td>35906905.0</td>\n",
              "      <td>135192013.0</td>\n",
              "      <td>22.4</td>\n",
              "      <td>4</td>\n",
              "      <td>3.0</td>\n",
              "      <td>3</td>\n",
              "      <td>IND</td>\n",
              "      <td>3</td>\n",
              "      <td>2021-05</td>\n",
              "    </tr>\n",
              "  </tbody>\n",
              "</table>\n",
              "<p>115 rows × 18 columns</p>\n",
              "</div>"
            ],
            "text/plain": [
              "           day  international_travel_controls  ... workplace_closures  month_year\n",
              "381 2021-01-16                              3  ...                  2     2021-01\n",
              "382 2021-01-17                              3  ...                  2     2021-01\n",
              "383 2021-01-18                              3  ...                  2     2021-01\n",
              "384 2021-01-19                              3  ...                  2     2021-01\n",
              "385 2021-01-20                              3  ...                  2     2021-01\n",
              "..         ...                            ...  ...                ...         ...\n",
              "491 2021-05-06                              3  ...                  3     2021-05\n",
              "492 2021-05-07                              3  ...                  3     2021-05\n",
              "493 2021-05-08                              3  ...                  3     2021-05\n",
              "494 2021-05-09                              3  ...                  3     2021-05\n",
              "495 2021-05-10                              3  ...                  3     2021-05\n",
              "\n",
              "[115 rows x 18 columns]"
            ]
          },
          "metadata": {
            "tags": []
          },
          "execution_count": 74
        }
      ]
    },
    {
      "cell_type": "code",
      "metadata": {
        "id": "EhCGHbewm0oM",
        "colab": {
          "base_uri": "https://localhost:8080/"
        },
        "outputId": "13f13498-7038-43a5-a7eb-b848e362de45"
      },
      "source": [
        "# Average positivity rate pre-vaccine\n",
        "# Using the dataset created above for pre vaccine, we will calculate the average positivity rates during that period\n",
        "\n",
        "avgprprevaccine = pre_vaccine_df['short_term_positivity_rate'].mean()\n",
        "print (\"The average positivity rate before the vaccination exercise began is : \", avgprprevaccine)"
      ],
      "execution_count": null,
      "outputs": [
        {
          "output_type": "stream",
          "text": [
            "The average positivity rate before the vaccination exercise began is :  5.961142857142855\n"
          ],
          "name": "stdout"
        }
      ]
    },
    {
      "cell_type": "code",
      "metadata": {
        "id": "IjwK2pjhoCgk",
        "colab": {
          "base_uri": "https://localhost:8080/"
        },
        "outputId": "01c46d62-20c0-4717-9bcc-c5a7de404a75"
      },
      "source": [
        "# Using the dataset created above for post vaccination period, we will then calculate the average positivity rates during that period\n",
        "\n",
        "avgprpostvaccine = post_vaccine_df['short_term_positivity_rate'].mean()\n",
        "print (\"The average positivity rate post-lockdown is : \", avgprpostvaccine)"
      ],
      "execution_count": null,
      "outputs": [
        {
          "output_type": "stream",
          "text": [
            "The average positivity rate post-lockdown is :  7.191304347826088\n"
          ],
          "name": "stdout"
        }
      ]
    },
    {
      "cell_type": "code",
      "metadata": {
        "id": "o_PasCVloPGq",
        "colab": {
          "base_uri": "https://localhost:8080/"
        },
        "outputId": "2b431d36-9fad-444a-d10c-80f1b9a6ce65"
      },
      "source": [
        "#Conclusion\n",
        "print (\"In conclusion, from the data we can see that vaccination had no net effect on the positivity rates. We had an average positivity rate of \" , avgprprevaccine ,\"  before vaccination began, and \", avgprpostvaccine ,\" after vaccination began. \")"
      ],
      "execution_count": null,
      "outputs": [
        {
          "output_type": "stream",
          "text": [
            "In conclusion, from the data we can see that vaccination had no net effect on the positivity rates. We had an average positivity rate of  5.961142857142855   before vaccination began, and  7.191304347826088  after vaccination began. \n"
          ],
          "name": "stdout"
        }
      ]
    },
    {
      "cell_type": "markdown",
      "metadata": {
        "id": "ORZ9MoPvcGxE"
      },
      "source": [
        "## How many people were vaccinated monthly?"
      ]
    },
    {
      "cell_type": "code",
      "metadata": {
        "id": "2iTpdUP9JKsn",
        "colab": {
          "base_uri": "https://localhost:8080/"
        },
        "outputId": "af4db094-7edd-49bc-8774-a8eb9b012f6d"
      },
      "source": [
        "# Count the number of people vaccinated monthly\n",
        "# Calculate the difference between rows - By default, periods = 1\n",
        "\n",
        "difference = pp.diff();\n",
        "\n",
        "print(\"Difference between rows(Period=1):\");\n",
        "\n",
        "print(difference);"
      ],
      "execution_count": null,
      "outputs": [
        {
          "output_type": "stream",
          "text": [
            "Difference between rows(Period=1):\n",
            "month_year\n",
            "2020-02             NaN\n",
            "2020-03    0.000000e+00\n",
            "2020-04    0.000000e+00\n",
            "2020-05    0.000000e+00\n",
            "2020-06    0.000000e+00\n",
            "2020-07    0.000000e+00\n",
            "2020-08    0.000000e+00\n",
            "2020-09    0.000000e+00\n",
            "2020-10    0.000000e+00\n",
            "2020-11    0.000000e+00\n",
            "2020-12    0.000000e+00\n",
            "2021-01    2.832321e+07\n",
            "2021-02    1.928243e+08\n",
            "2021-03    7.544309e+08\n",
            "2021-04    1.635415e+09\n",
            "2021-05   -1.306138e+09\n",
            "Freq: M, Name: people_vaccinated, dtype: float64\n"
          ],
          "name": "stdout"
        }
      ]
    },
    {
      "cell_type": "code",
      "metadata": {
        "id": "20m_PWE1iuLF",
        "colab": {
          "base_uri": "https://localhost:8080/"
        },
        "outputId": "8b82fbde-cc4c-491a-b60b-fccfe0b1bfa7"
      },
      "source": [
        "# How many people were vaccinated monthly?\n",
        "# creating a diffent column with month and year\n",
        "df['month_year'] = pd.DatetimeIndex(df['day']).to_period('M')\n",
        "df.head()\n",
        "\n",
        "#group_by command\n",
        "pp = df.groupby(by= 'month_year')['people_vaccinated'].sum()\n",
        "pp"
      ],
      "execution_count": null,
      "outputs": [
        {
          "output_type": "execute_result",
          "data": {
            "text/plain": [
              "month_year\n",
              "2020-02    0.000000e+00\n",
              "2020-03    0.000000e+00\n",
              "2020-04    0.000000e+00\n",
              "2020-05    0.000000e+00\n",
              "2020-06    0.000000e+00\n",
              "2020-07    0.000000e+00\n",
              "2020-08    0.000000e+00\n",
              "2020-09    0.000000e+00\n",
              "2020-10    0.000000e+00\n",
              "2020-11    0.000000e+00\n",
              "2020-12    0.000000e+00\n",
              "2021-01    2.832321e+07\n",
              "2021-02    2.211475e+08\n",
              "2021-03    9.755784e+08\n",
              "2021-04    2.610993e+09\n",
              "2021-05    1.304855e+09\n",
              "Freq: M, Name: people_vaccinated, dtype: float64"
            ]
          },
          "metadata": {
            "tags": []
          },
          "execution_count": 70
        }
      ]
    },
    {
      "cell_type": "code",
      "metadata": {
        "id": "Am9GhMSPpMEV",
        "colab": {
          "base_uri": "https://localhost:8080/",
          "height": 507
        },
        "outputId": "664041b8-1aff-4cd1-c5de-5e7a2cea3f75"
      },
      "source": [
        "# Small vizualization\n",
        "ppbar = pp.plot(kind = 'bar')\n",
        "ppbar = pp.plot.bar(figsize= (15,7))\n",
        "plt.xlabel('Time (in Months)')\n",
        "plt.ylabel('Number of vaccinated individuals (\\'0000)')\n",
        "plt.title('Number of Vaccination Administered')\n",
        "\n"
      ],
      "execution_count": null,
      "outputs": [
        {
          "output_type": "execute_result",
          "data": {
            "text/plain": [
              "Text(0.5, 1.0, 'Number of Vaccination Administered')"
            ]
          },
          "metadata": {
            "tags": []
          },
          "execution_count": 71
        },
        {
          "output_type": "display_data",
          "data": {
            "image/png": "[encoded data removed]",
            "text/plain": [
              "<Figure size 1080x504 with 1 Axes>"
            ]
          },
          "metadata": {
            "tags": [],
            "needs_background": "light"
          }
        }
      ]
    },
    {
      "cell_type": "markdown",
      "metadata": {
        "id": "nZq66csTbNoc"
      },
      "source": [
        "April stands out as the month when the highest number of vaccinations were administered"
      ]
    },
    {
      "cell_type": "code",
      "metadata": {
        "id": "xZG5r0H9VfeE",
        "colab": {
          "base_uri": "https://localhost:8080/"
        },
        "outputId": "2a7d527f-b595-43cb-cf32-5b6e86d4df03"
      },
      "source": [
        "# Find the total number of infections during the month that recorded the highst number of vaccination that is April 2021\n",
        "# April of 2021 had the highest number of vaccinations\n",
        "# We need to know the first day of the month and the last day of the month\n",
        "# set the desired start date and end date to filter *df*\n",
        "start_date = '2021-04-01'\n",
        "end_date = '2021-04-30'\n",
        "\n",
        "# set the df5\n",
        "df5 = (indiadf['day'] > start_date) & (indiadf['day'] <= end_date)\n",
        "\n",
        "# assign df5 to dfr to return the rows with days between our specified start/end dates\n",
        "dfr = indiadf.loc[df5]\n",
        "\n",
        "# count the total number of vaccinations during the month of april 2021\n",
        "Total_vaccinations = dfr['people_vaccinated'].sum()\n",
        "print (\"The total number of vaccinations in the moth of April 2021 is : \", Total_vaccinations)"
      ],
      "execution_count": null,
      "outputs": [
        {
          "output_type": "stream",
          "text": [
            "The total number of vaccinations in the moth of April 2021 is :  2551844117.0\n"
          ],
          "name": "stdout"
        }
      ]
    },
    {
      "cell_type": "code",
      "metadata": {
        "id": "0MlyrmXZlo7W",
        "colab": {
          "base_uri": "https://localhost:8080/"
        },
        "outputId": "e8ee23ba-fe27-425b-da36-4e4a3ec0ad46"
      },
      "source": [
        "sy1 = dfr.groupby(by= 'day')['people_vaccinated','confirmed','recovered','deaths'].sum()\n",
        "print(sy1.to_string(), sep='\\n')"
      ],
      "execution_count": null,
      "outputs": [
        {
          "output_type": "stream",
          "text": [
            "            people_vaccinated   confirmed   recovered    deaths\n",
            "day                                                            \n",
            "2021-04-02         63081589.0  12392260.0  11569241.0  164110.0\n",
            "2021-04-03         65739470.0  12485509.0  11629289.0  164623.0\n",
            "2021-04-04         68678838.0  12589067.0  11682136.0  165101.0\n",
            "2021-04-05         72277309.0  12686049.0  11732279.0  165547.0\n",
            "2021-04-06         75937015.0  12801785.0  11792135.0  166177.0\n",
            "2021-04-07         78763027.0  12928574.0  11851393.0  166862.0\n",
            "2021-04-08         82456522.0  13060542.0  11913292.0  167642.0\n",
            "2021-04-09         85763852.0  13205926.0  11990859.0  168436.0\n",
            "2021-04-10         88885961.0  13358805.0  12081443.0  169275.0\n",
            "2021-04-11         91587400.0  13527717.0  12156529.0  170179.0\n",
            "2021-04-12         95043039.0  13689453.0  12253697.0  171058.0\n",
            "2021-04-13         97301914.0  13873825.0  12336036.0  172085.0\n",
            "2021-04-14        100179199.0  14074564.0  12429564.0  173123.0\n",
            "2021-04-15        102349255.0  14291917.0  12547866.0  174308.0\n",
            "2021-04-16        104408484.0  14526609.0  12671220.0  175649.0\n",
            "2021-04-17        106431076.0  14788003.0  12809638.0  177150.0\n",
            "2021-04-18        107371770.0  15061805.0  12953817.0  178769.0\n",
            "2021-04-19        109659181.0  15320972.0  13108565.0  180530.0\n",
            "2021-04-20                0.0  15616130.0  13276039.0  182553.0\n",
            "2021-04-21        111673361.0  15930774.0  13454880.0  184657.0\n",
            "2021-04-22        113584269.0  16263695.0  13648159.0  186920.0\n",
            "2021-04-23                0.0  16610481.0  13867997.0  189544.0\n",
            "2021-04-24                0.0  16960172.0  14085110.0  192311.0\n",
            "2021-04-25        117795008.0  17313163.0  14304382.0  195123.0\n",
            "2021-04-26        119886252.0  17636186.0  14556089.0  197894.0\n",
            "2021-04-27        121263287.0  17997113.0  14817240.0  201187.0\n",
            "2021-04-28        122538179.0  18376421.0  15086740.0  204832.0\n",
            "2021-04-29        123811908.0  18762976.0  15384418.0  208330.0\n",
            "2021-04-30        125376952.0  19164969.0  15684406.0  211853.0\n"
          ],
          "name": "stdout"
        },
        {
          "output_type": "stream",
          "text": [
            "/usr/local/lib/python3.7/dist-packages/ipykernel_launcher.py:1: FutureWarning: Indexing with multiple keys (implicitly converted to a tuple of keys) will be deprecated, use a list instead.\n",
            "  \"\"\"Entry point for launching an IPython kernel.\n"
          ],
          "name": "stderr"
        }
      ]
    },
    {
      "cell_type": "code",
      "metadata": {
        "id": "v_jWiNGjlx-3",
        "colab": {
          "base_uri": "https://localhost:8080/",
          "height": 290
        },
        "outputId": "32551370-5d35-4b39-99b9-2795be259cb4"
      },
      "source": [
        "lines = sy1.plot.line()"
      ],
      "execution_count": null,
      "outputs": [
        {
          "output_type": "display_data",
          "data": {
            "image/png": "[encoded data removed]",
            "text/plain": [
              "<Figure size 432x288 with 1 Axes>"
            ]
          },
          "metadata": {
            "tags": [],
            "needs_background": "light"
          }
        }
      ]
    },
    {
      "cell_type": "code",
      "metadata": {
        "id": "Gcck7q3wff5I",
        "colab": {
          "base_uri": "https://localhost:8080/"
        },
        "outputId": "46e6a8bb-d72e-413b-d088-9be0c3adeae2"
      },
      "source": [
        "# Find the total number of infections during the month that recorded the lowest number of vaccination that is january 2021\n",
        "# We need to know the first day of the month and the last day of the month\n",
        "# set the desired start date and end date to filter *df*\n",
        "start_date = '2021-01-01'\n",
        "end_date = '2021-01-31'\n",
        "\n",
        "# set the df5\n",
        "df6 = (indiadf['day'] > start_date) & (indiadf['day'] <= end_date)\n",
        "\n",
        "# assign df5 to dfr to return the rows with days between our specified start/end dates\n",
        "dfr1 = indiadf.loc[df6]\n",
        "\n",
        "# count the total number of vaccinations during the month of april 2021\n",
        "Total_vaccinations2 = dfr1['people_vaccinated'].sum()\n",
        "print (\"The total number of vaccinations in the moth of January 2021 is : \", Total_vaccinations2)"
      ],
      "execution_count": null,
      "outputs": [
        {
          "output_type": "stream",
          "text": [
            "The total number of vaccinations in the moth of January 2021 is :  28323206.0\n"
          ],
          "name": "stdout"
        }
      ]
    },
    {
      "cell_type": "code",
      "metadata": {
        "id": "y04ieLhHgPQu",
        "colab": {
          "base_uri": "https://localhost:8080/"
        },
        "outputId": "f73135c7-dd76-46ba-964c-7a742c180270"
      },
      "source": [
        "# group confirmed cases recoveriesand deaths by day with the gvt strictiness to movements.\n",
        "# 2 means the goverment was so strict as per the data description.\n",
        "check = dfr1.groupby(by= 'day')['people_vaccinated','confirmed','recovered','deaths'].sum()\n",
        "print(check.to_string(), sep='\\n')"
      ],
      "execution_count": null,
      "outputs": [
        {
          "output_type": "stream",
          "text": [
            "            people_vaccinated   confirmed   recovered    deaths\n",
            "day                                                            \n",
            "2021-01-02                0.0  10323965.0   9927310.0  149435.0\n",
            "2021-01-03                0.0  10340469.0   9946867.0  149649.0\n",
            "2021-01-04                0.0  10356844.0   9975958.0  149850.0\n",
            "2021-01-05                0.0  10374932.0   9997272.0  150114.0\n",
            "2021-01-06                0.0  10395278.0  10016859.0  150336.0\n",
            "2021-01-07                0.0  10413417.0  10037398.0  150570.0\n",
            "2021-01-08                0.0  10413417.0  10037398.0  150570.0\n",
            "2021-01-09                0.0  10450284.0  10075950.0  150999.0\n",
            "2021-01-10                0.0  10466595.0  10092909.0  151160.0\n",
            "2021-01-11                0.0  10479179.0  10111294.0  151327.0\n",
            "2021-01-12                0.0  10495147.0  10129111.0  151529.0\n",
            "2021-01-13                0.0  10512093.0  10146763.0  151727.0\n",
            "2021-01-14                0.0  10527683.0  10162738.0  151918.0\n",
            "2021-01-15                0.0  10542841.0  10179715.0  152093.0\n",
            "2021-01-16           191181.0  10557985.0  10196885.0  152274.0\n",
            "2021-01-17           224301.0  10571773.0  10211342.0  152419.0\n",
            "2021-01-18           454049.0  10581823.0  10228753.0  152556.0\n",
            "2021-01-19           674835.0  10595639.0  10245741.0  152718.0\n",
            "2021-01-20           806484.0  10610883.0  10265706.0  152869.0\n",
            "2021-01-21          1043534.0  10625428.0  10283702.0  153032.0\n",
            "2021-01-22          1390592.0  10639684.0  10300838.0  153184.0\n",
            "2021-01-23          1582201.0  10654533.0  10316786.0  153339.0\n",
            "2021-01-24          1615504.0  10667736.0  10330084.0  153470.0\n",
            "2021-01-25          2023809.0  10676838.0  10345985.0  153587.0\n",
            "2021-01-26          2029480.0  10689527.0  10359305.0  153724.0\n",
            "2021-01-27          2355979.0  10701193.0  10373606.0  153847.0\n",
            "2021-01-28          2928053.0  10720048.0  10394352.0  154010.0\n",
            "2021-01-29          3500027.0  10733130.0  10409146.0  154147.0\n",
            "2021-01-30          3744334.0  10746174.0  10423109.0  154274.0\n",
            "2021-01-31          3758843.0  10757610.0  10434983.0  154392.0\n"
          ],
          "name": "stdout"
        },
        {
          "output_type": "stream",
          "text": [
            "/usr/local/lib/python3.7/dist-packages/ipykernel_launcher.py:3: FutureWarning: Indexing with multiple keys (implicitly converted to a tuple of keys) will be deprecated, use a list instead.\n",
            "  This is separate from the ipykernel package so we can avoid doing imports until\n"
          ],
          "name": "stderr"
        }
      ]
    },
    {
      "cell_type": "code",
      "metadata": {
        "id": "8oy_c51WlRT5",
        "colab": {
          "base_uri": "https://localhost:8080/",
          "height": 290
        },
        "outputId": "fe41ff85-133a-42bd-946a-6b8a233cca09"
      },
      "source": [
        "lines = check.plot.line()"
      ],
      "execution_count": null,
      "outputs": [
        {
          "output_type": "display_data",
          "data": {
            "image/png": "[encoded data removed]",
            "text/plain": [
              "<Figure size 432x288 with 1 Axes>"
            ]
          },
          "metadata": {
            "tags": [],
            "needs_background": "light"
          }
        }
      ]
    },
    {
      "cell_type": "markdown",
      "metadata": {
        "id": "du6DXnOHmYh4"
      },
      "source": [
        ""
      ]
    },
    {
      "cell_type": "markdown",
      "metadata": {
        "id": "IxITr3hTpq6l"
      },
      "source": [
        "**To determine the total number of infections during the lockdown period in India.**"
      ]
    },
    {
      "cell_type": "code",
      "metadata": {
        "id": "s8JIJBscw73T",
        "colab": {
          "base_uri": "https://localhost:8080/"
        },
        "outputId": "24aaa5dc-fb47-465d-e959-fc023e9dc319"
      },
      "source": [
        " # To have a better view of the data\n",
        "print(indiadf.to_string(), sep='\\n')"
      ],
      "execution_count": null,
      "outputs": [
        {
          "output_type": "stream",
          "text": [
            "     Unnamed: 0         day  international_travel_controls country   confirmed   recovered    deaths  new_vaccinations_smoothed_per_million  restrictions_internal_movements  daily_new_confirmed_cases_of_covid-19_per_million_people_rolling_7-day_average,_right-aligned  people_fully_vaccinated  people_vaccinated  short_term_positivity_rate  restriction_gatherings  school_closures  stay_home_requirements code  workplace_closures\n",
            "0            31  2020-02-01                              1   India         1.0         0.0       0.0                                 0.0000                                0                                                                                        0.00033                      0.0                0.0                         5.1                       0              0.0                       1  IND                   0\n",
            "1            32  2020-02-02                              1   India         2.0         0.0       0.0                                 0.0000                                0                                                                                        0.00050                      0.0                0.0                         5.1                       0              0.0                       1  IND                   0\n",
            "2            33  2020-02-03                              1   India         3.0         0.0       0.0                                 0.0000                                0                                                                                        0.00060                      0.0                0.0                         5.1                       0              0.0                       1  IND                   0\n",
            "3            34  2020-02-04                              1   India         3.0         0.0       0.0                                 0.0000                                0                                                                                        0.00050                      0.0                0.0                         5.1                       0              0.0                       1  IND                   0\n",
            "4            35  2020-02-05                              1   India         3.0         0.0       0.0                                 0.0000                                0                                                                                        0.00043                      0.0                0.0                         5.1                       0              0.0                       1  IND                   0\n",
            "5            36  2020-02-06                              1   India         3.0         0.0       0.0                                 0.0000                                0                                                                                        0.00029                      0.0                0.0                         5.1                       0              0.0                       1  IND                   0\n",
            "6            37  2020-02-07                              1   India         3.0         0.0       0.0                                 0.0000                                0                                                                                        0.00029                      0.0                0.0                         5.1                       0              0.0                       1  IND                   0\n",
            "7            38  2020-02-08                              1   India         3.0         0.0       0.0                                 0.0000                                0                                                                                        0.00029                      0.0                0.0                         5.1                       0              0.0                       1  IND                   0\n",
            "8            39  2020-02-09                              1   India         3.0         0.0       0.0                                 0.0000                                0                                                                                        0.00014                      0.0                0.0                         5.1                       0              0.0                       1  IND                   0\n",
            "9            40  2020-02-10                              1   India         3.0         0.0       0.0                                 0.0000                                0                                                                                        0.00000                      0.0                0.0                         5.1                       0              0.0                       1  IND                   0\n",
            "10           41  2020-02-11                              1   India         3.0         0.0       0.0                                 0.0000                                0                                                                                        0.00000                      0.0                0.0                         5.1                       0              0.0                       1  IND                   0\n",
            "11           42  2020-02-12                              1   India         3.0         0.0       0.0                                 0.0000                                0                                                                                        0.00000                      0.0                0.0                         5.1                       0              0.0                       1  IND                   0\n",
            "12           43  2020-02-13                              1   India         3.0         0.0       0.0                                 0.0000                                0                                                                                        0.00000                      0.0                0.0                         5.1                       0              0.0                       1  IND                   0\n",
            "13           44  2020-02-14                              1   India         3.0         0.0       0.0                                 0.0000                                0                                                                                        0.00000                      0.0                0.0                         5.1                       0              0.0                       1  IND                   0\n",
            "14           45  2020-02-15                              1   India         3.0         0.0       0.0                                 0.0000                                0                                                                                        0.00000                      0.0                0.0                         5.1                       0              0.0                       1  IND                   0\n",
            "15           46  2020-02-16                              1   India         3.0         3.0       0.0                                 0.0000                                0                                                                                        0.00000                      0.0                0.0                         5.1                       0              0.0                       1  IND                   0\n",
            "16           47  2020-02-17                              1   India         3.0         3.0       0.0                                 0.0000                                0                                                                                        0.00000                      0.0                0.0                         5.1                       0              0.0                       1  IND                   0\n",
            "17           48  2020-02-18                              1   India         3.0         3.0       0.0                                 0.0000                                0                                                                                        0.00000                      0.0                0.0                         5.1                       0              0.0                       1  IND                   0\n",
            "18           49  2020-02-19                              1   India         3.0         3.0       0.0                                 0.0000                                0                                                                                        0.00000                      0.0                0.0                         5.1                       0              0.0                       1  IND                   0\n",
            "19           50  2020-02-20                              1   India         3.0         3.0       0.0                                 0.0000                                0                                                                                        0.00000                      0.0                0.0                         5.1                       0              0.0                       1  IND                   0\n",
            "20           51  2020-02-21                              1   India         3.0         3.0       0.0                                 0.0000                                0                                                                                        0.00000                      0.0                0.0                         5.1                       0              0.0                       1  IND                   0\n",
            "21           52  2020-02-22                              1   India         3.0         3.0       0.0                                 0.0000                                0                                                                                        0.00000                      0.0                0.0                         5.1                       0              0.0                       1  IND                   0\n",
            "22           53  2020-02-23                              1   India         3.0         3.0       0.0                                 0.0000                                0                                                                                        0.00000                      0.0                0.0                         5.1                       0              0.0                       1  IND                   0\n",
            "23           54  2020-02-24                              1   India         3.0         3.0       0.0                                 0.0000                                0                                                                                        0.00000                      0.0                0.0                         5.1                       0              0.0                       1  IND                   0\n",
            "24           55  2020-02-25                              1   India         3.0         3.0       0.0                                 0.0000                                0                                                                                        0.00000                      0.0                0.0                         5.1                       0              0.0                       1  IND                   0\n",
            "25           56  2020-02-26                              1   India         3.0         3.0       0.0                                 0.0000                                0                                                                                        0.00000                      0.0                0.0                         5.1                       0              0.0                       1  IND                   0\n",
            "26           57  2020-02-27                              1   India         3.0         3.0       0.0                                 0.0000                                0                                                                                        0.00000                      0.0                0.0                         5.1                       0              0.0                       1  IND                   0\n",
            "27           58  2020-02-28                              1   India         3.0         3.0       0.0                                 0.0000                                0                                                                                        0.00000                      0.0                0.0                         5.1                       0              0.0                       1  IND                   0\n",
            "28           59  2020-02-29                              1   India         3.0         3.0       0.0                                 0.0000                                0                                                                                        0.00000                      0.0                0.0                         5.1                       0              0.0                       1  IND                   0\n",
            "29           60  2020-03-01                              1   India         3.0         3.0       0.0                                 0.0000                                0                                                                                        0.00000                      0.0                0.0                         5.1                       0              0.0                       1  IND                   0\n",
            "30           61  2020-03-02                              1   India         5.0         3.0       0.0                                 0.0000                                0                                                                                        0.00014                      0.0                0.0                         5.1                       0              0.0                       1  IND                   0\n",
            "31           62  2020-03-03                              1   India         5.0         3.0       0.0                                 0.0000                                0                                                                                        0.00014                      0.0                0.0                         5.1                       0              0.0                       1  IND                   0\n",
            "32           63  2020-03-04                              1   India        28.0         3.0       0.0                                 0.0000                                0                                                                                        0.00257                      0.0                0.0                         5.1                       0              0.0                       1  IND                   0\n",
            "33           64  2020-03-05                              1   India        30.0         3.0       0.0                                 0.0000                                0                                                                                        0.00271                      0.0                0.0                         5.1                       0              2.0                       1  IND                   0\n",
            "34           65  2020-03-06                              1   India        31.0         3.0       0.0                                 0.0000                                0                                                                                        0.00286                      0.0                0.0                         5.1                       0              2.0                       1  IND                   0\n",
            "35           66  2020-03-07                              1   India        34.0         3.0       0.0                                 0.0000                                0                                                                                        0.00314                      0.0                0.0                         5.1                       0              2.0                       1  IND                   0\n",
            "36           67  2020-03-08                              1   India        39.0         3.0       0.0                                 0.0000                                0                                                                                        0.00371                      0.0                0.0                         5.1                       0              2.0                       1  IND                   0\n",
            "37           68  2020-03-09                              1   India        43.0         3.0       0.0                                 0.0000                                0                                                                                        0.00400                      0.0                0.0                         5.1                       0              2.0                       1  IND                   0\n",
            "38           69  2020-03-10                              1   India        56.0         4.0       0.0                                 0.0000                                0                                                                                        0.00529                      0.0                0.0                         5.1                       0              2.0                       1  IND                   0\n",
            "39           70  2020-03-11                              1   India        62.0         4.0       1.0                                 0.0000                                0                                                                                        0.00343                      0.0                0.0                         5.1                       0              2.0                       1  IND                   0\n",
            "40           71  2020-03-12                              1   India        73.0         4.0       1.0                                 0.0000                                0                                                                                        0.00443                      0.0                0.0                         5.1                       0              2.0                       1  IND                   0\n",
            "41           72  2020-03-13                              2   India        82.0         4.0       2.0                                 0.0000                                0                                                                                        0.00529                      0.0                0.0                         5.1                       0              3.0                       1  IND                   0\n",
            "42           73  2020-03-14                              2   India       102.0         4.0       2.0                                 0.0000                                0                                                                                        0.00700                      0.0                0.0                         5.1                       0              3.0                       1  IND                   0\n",
            "43           74  2020-03-15                              3   India       113.0        13.0       2.0                                 0.0000                                0                                                                                        0.00757                      0.0                0.0                         5.1                       0              3.0                       1  IND                   0\n",
            "44           75  2020-03-16                              3   India       119.0        13.0       2.0                                 0.0000                                1                                                                                        0.00771                      0.0                0.0                         5.1                       0              3.0                       1  IND                   1\n",
            "45           76  2020-03-17                              3   India       142.0        14.0       3.0                                 0.0000                                1                                                                                        0.00886                      0.0                0.0                         5.1                       0              3.0                       1  IND                   1\n",
            "46           77  2020-03-18                              3   India       156.0        14.0       3.0                                 0.0000                                1                                                                                        0.00971                      0.0                0.0                         5.1                       0              3.0                       1  IND                   1\n",
            "47           78  2020-03-19                              3   India       194.0        15.0       4.0                                 0.0000                                1                                                                                        0.01257                      0.0                0.0                         5.1                       4              3.0                       1  IND                   1\n",
            "48           79  2020-03-20                              3   India       244.0        20.0       5.0                                 0.0000                                2                                                                                        0.01671                      0.0                0.0                         2.1                       4              3.0                       1  IND                   1\n",
            "49           80  2020-03-21                              3   India       330.0        23.0       4.0                                 0.0000                                2                                                                                        0.02357                      0.0                0.0                         2.9                       4              3.0                       1  IND                   3\n",
            "50           81  2020-03-22                              4   India       396.0        27.0       7.0                                 0.0000                                2                                                                                        0.02929                      0.0                0.0                         3.6                       4              3.0                       3  IND                   3\n",
            "51           82  2020-03-23                              4   India       499.0        27.0      10.0                                 0.0000                                2                                                                                        0.03943                      0.0                0.0                         3.7                       4              3.0                       3  IND                   3\n",
            "52           83  2020-03-24                              4   India       536.0        40.0      10.0                                 0.0000                                2                                                                                        0.04086                      0.0                0.0                         4.3                       4              3.0                       3  IND                   3\n",
            "53           84  2020-03-25                              4   India       657.0        43.0      12.0                                 0.0000                                2                                                                                        0.05200                      0.0                0.0                         4.2                       4              3.0                       3  IND                   3\n",
            "54           85  2020-03-26                              4   India       727.0        45.0      20.0                                 0.0000                                2                                                                                        0.05529                      0.0                0.0                         4.1                       4              3.0                       3  IND                   3\n",
            "55           86  2020-03-27                              4   India       887.0        73.0      20.0                                 0.0000                                2                                                                                        0.06671                      0.0                0.0                         4.8                       4              3.0                       3  IND                   3\n",
            "56           87  2020-03-28                              4   India       987.0        84.0      24.0                                 0.0000                                2                                                                                        0.06814                      0.0                0.0                         4.3                       4              3.0                       3  IND                   3\n",
            "57           88  2020-03-29                              4   India      1024.0        95.0      27.0                                 0.0000                                2                                                                                        0.06514                      0.0                0.0                         3.6                       4              3.0                       3  IND                   3\n",
            "58           89  2020-03-30                              4   India      1251.0       102.0      32.0                                 0.0000                                2                                                                                        0.07786                      0.0                0.0                         4.4                       4              3.0                       3  IND                   3\n",
            "59           90  2020-03-31                              4   India      1397.0       123.0      35.0                                 0.0000                                2                                                                                        0.08914                      0.0                0.0                         4.2                       4              3.0                       3  IND                   3\n",
            "60           91  2020-04-01                              4   India      1998.0       148.0      58.0                                 0.0000                                2                                                                                        0.13886                      0.0                0.0                         6.9                       4              3.0                       3  IND                   3\n",
            "61           92  2020-04-02                              4   India      2543.0       191.0      72.0                                 0.0000                                2                                                                                        0.18800                      0.0                0.0                         8.4                       4              3.0                       3  IND                   3\n",
            "62           93  2020-04-03                              4   India      2567.0       192.0      72.0                                 0.0000                                2                                                                                        0.17386                      0.0                0.0                         4.0                       4              3.0                       3  IND                   3\n",
            "63           94  2020-04-04                              4   India      3082.0       229.0      86.0                                 0.0000                                2                                                                                        0.21686                      0.0                0.0                         4.3                       4              3.0                       3  IND                   3\n",
            "64           95  2020-04-05                              4   India      3588.0       229.0      99.0                                 0.0000                                2                                                                                        0.26543                      0.0                0.0                         4.7                       4              3.0                       3  IND                   3\n",
            "65           96  2020-04-06                              4   India      4778.0       375.0     136.0                                 0.0000                                2                                                                                        0.36514                      0.0                0.0                         5.6                       4              3.0                       3  IND                   3\n",
            "66           97  2020-04-07                              4   India      5311.0       421.0     150.0                                 0.0000                                2                                                                                        0.40514                      0.0                0.0                         5.4                       4              3.0                       3  IND                   3\n",
            "67           98  2020-04-08                              4   India      5916.0       506.0     178.0                                 0.0000                                2                                                                                        0.40543                      0.0                0.0                         4.7                       4              3.0                       3  IND                   3\n",
            "68           99  2020-04-09                              4   India      6725.0       620.0     226.0                                 0.0000                                2                                                                                        0.43271                      0.0                0.0                         4.3                       4              3.0                       3  IND                   3\n",
            "69          100  2020-04-10                              4   India      7598.0       774.0     246.0                                 0.0000                                2                                                                                        0.52071                      0.0                0.0                         5.5                       4              3.0                       3  IND                   3\n",
            "70          101  2020-04-11                              4   India      8446.0       969.0     288.0                                 0.0000                                2                                                                                        0.55514                      0.0                0.0                         5.4                       4              3.0                       3  IND                   3\n",
            "71          102  2020-04-12                              4   India      9205.0      1080.0     331.0                                 0.0000                                2                                                                                        0.58129                      0.0                0.0                         5.3                       4              3.0                       3  IND                   3\n",
            "72          103  2020-04-13                              4   India     10453.0      1181.0     358.0                                 0.0000                                2                                                                                        0.58729                      0.0                0.0                         4.9                       4              3.0                       3  IND                   3\n",
            "73          104  2020-04-14                              4   India     11487.0      1359.0     393.0                                 0.0000                                2                                                                                        0.63914                      0.0                0.0                         4.7                       4              3.0                       3  IND                   3\n",
            "74          105  2020-04-15                              4   India     12322.0      1432.0     405.0                                 0.0000                                2                                                                                        0.66300                      0.0                0.0                         4.4                       4              3.0                       3  IND                   3\n",
            "75          106  2020-04-16                              4   India     13430.0      1768.0     448.0                                 0.0000                                2                                                                                        0.69400                      0.0                0.0                         4.2                       4              3.0                       3  IND                   3\n",
            "76          107  2020-04-17                              4   India     14352.0      2041.0     486.0                                 0.0000                                2                                                                                        0.69900                      0.0                0.0                         3.9                       4              3.0                       3  IND                   3\n",
            "77          108  2020-04-18                              4   India     15722.0      2463.0     521.0                                 0.0000                                2                                                                                        0.75314                      0.0                0.0                         3.8                       4              3.0                       3  IND                   3\n",
            "78          109  2020-04-19                              4   India     17615.0      2854.0     559.0                                 0.0000                                2                                                                                        0.87057                      0.0                0.0                         4.1                       4              3.0                       3  IND                   3\n",
            "79          110  2020-04-20                              4   India     18539.0      3273.0     592.0                                 0.0000                                2                                                                                        0.83714                      0.0                0.0                         3.8                       4              3.0                       3  IND                   2\n",
            "80          111  2020-04-21                              4   India     20080.0      3975.0     645.0                                 0.0000                                2                                                                                        0.88971                      0.0                0.0                         3.9                       4              3.0                       3  IND                   2\n",
            "81          112  2020-04-22                              4   India     21370.0      4370.0     681.0                                 0.0000                                2                                                                                        0.93686                      0.0                0.0                         4.4                       4              3.0                       3  IND                   2\n",
            "82          113  2020-04-23                              4   India     23077.0      5012.0     721.0                                 0.0000                                2                                                                                        0.99886                      0.0                0.0                         4.9                       4              3.0                       3  IND                   2\n",
            "83          114  2020-04-24                              4   India     24530.0      5498.0     780.0                                 0.0000                                2                                                                                        1.05386                      0.0                0.0                         4.9                       4              3.0                       3  IND                   2\n",
            "84          115  2020-04-25                              4   India     26283.0      5939.0     825.0                                 0.0000                                2                                                                                        1.09343                      0.0                0.0                         5.1                       4              3.0                       3  IND                   2\n",
            "85          116  2020-04-26                              4   India     27890.0      6523.0     881.0                                 0.0000                                2                                                                                        1.06371                      0.0                0.0                         4.6                       4              3.0                       3  IND                   2\n",
            "86          117  2020-04-27                              4   India     29451.0      7137.0     939.0                                 0.0000                                2                                                                                        1.12957                      0.0                0.0                         4.7                       4              3.0                       3  IND                   2\n",
            "87          118  2020-04-28                              4   India     31324.0      7747.0    1008.0                                 0.0000                                2                                                                                        1.16386                      0.0                0.0                         4.4                       4              3.0                       3  IND                   2\n",
            "88          119  2020-04-29                              4   India     33062.0      8437.0    1079.0                                 0.0000                                2                                                                                        1.21014                      0.0                0.0                         4.0                       4              3.0                       3  IND                   2\n",
            "89          120  2020-04-30                              4   India     34863.0      9068.0    1154.0                                 0.0000                                2                                                                                        1.21986                      0.0                0.0                         3.6                       4              3.0                       3  IND                   2\n",
            "90          121  2020-05-01                              4   India     37257.0     10007.0    1223.0                                 0.0000                                2                                                                                        1.31729                      0.0                0.0                         3.5                       4              3.0                       3  IND                   2\n",
            "91          122  2020-05-02                              4   India     39699.0     10819.0    1323.0                                 0.0000                                2                                                                                        1.38871                      0.0                0.0                         3.4                       4              3.0                       3  IND                   2\n",
            "92          123  2020-05-03                              4   India     42505.0     11775.0    1391.0                                 0.0000                                2                                                                                        1.51286                      0.0                0.0                         3.5                       4              3.0                       3  IND                   2\n",
            "93          124  2020-05-04                              4   India     46437.0     12847.0    1566.0                                 0.0000                                2                                                                                        1.75829                      0.0                0.0                         3.8                       4              3.0                       2  IND                   2\n",
            "94          125  2020-05-05                              4   India     49400.0     14142.0    1693.0                                 0.0000                                2                                                                                        1.87114                      0.0                0.0                         3.8                       4              3.0                       2  IND                   2\n",
            "95          126  2020-05-06                              4   India     52987.0     15331.0    1785.0                                 0.0000                                2                                                                                        2.06257                      0.0                0.0                         3.9                       4              3.0                       2  IND                   2\n",
            "96          127  2020-05-07                              4   India     56351.0     16776.0    1889.0                                 0.0000                                2                                                                                        2.22443                      0.0                0.0                         4.1                       4              3.0                       2  IND                   2\n",
            "97          128  2020-05-08                              4   India     59695.0     17887.0    1985.0                                 0.0000                                2                                                                                        2.32271                      0.0                0.0                         4.2                       4              3.0                       2  IND                   2\n",
            "98          129  2020-05-09                              4   India     62808.0     19301.0    2101.0                                 0.0000                                2                                                                                        2.39214                      0.0                0.0                         4.2                       4              3.0                       2  IND                   2\n",
            "99          130  2020-05-10                              4   India     67161.0     20969.0    2212.0                                 0.0000                                2                                                                                        2.55229                      0.0                0.0                         4.4                       4              3.0                       2  IND                   2\n",
            "100         131  2020-05-11                              4   India     70768.0     22549.0    2294.0                                 0.0000                                2                                                                                        2.51871                      0.0                0.0                         4.3                       4              3.0                       2  IND                   2\n",
            "101         132  2020-05-12                              4   India     74292.0     24420.0    2415.0                                 0.0000                                2                                                                                        2.57686                      0.0                0.0                         4.4                       4              3.0                       2  IND                   2\n",
            "102         133  2020-05-13                              4   India     78055.0     26400.0    2551.0                                 0.0000                                2                                                                                        2.59514                      0.0                0.0                         4.3                       4              3.0                       2  IND                   2\n",
            "103         134  2020-05-14                              4   India     81997.0     27969.0    2649.0                                 0.0000                                2                                                                                        2.65500                      0.0                0.0                         4.3                       4              3.0                       2  IND                   2\n",
            "104         135  2020-05-15                              4   India     85784.0     30258.0    2753.0                                 0.0000                                2                                                                                        2.70086                      0.0                0.0                         4.3                       4              3.0                       2  IND                   2\n",
            "105         136  2020-05-16                              4   India     90648.0     34224.0    2871.0                                 0.0000                                2                                                                                        2.88214                      0.0                0.0                         4.6                       4              3.0                       2  IND                   2\n",
            "106         137  2020-05-17                              4   India     95698.0     36795.0    3025.0                                 0.0000                                2                                                                                        2.95429                      0.0                0.0                         4.6                       4              3.0                       2  IND                   2\n",
            "107         138  2020-05-18                              4   India    100328.0     39233.0    3156.0                                 0.0000                                2                                                                                        3.06014                      0.0                0.0                         4.7                       4              3.0                       2  IND                   2\n",
            "108         139  2020-05-19                              4   India    106475.0     42309.0    3302.0                                 0.0000                                2                                                                                        3.33157                      0.0                0.0                         5.0                       4              3.0                       2  IND                   2\n",
            "109         140  2020-05-20                              4   India    112028.0     45422.0    3434.0                                 0.0000                                2                                                                                        3.51686                      0.0                0.0                         5.2                       4              3.0                       2  IND                   2\n",
            "110         141  2020-05-21                              4   India    118226.0     48553.0    3584.0                                 0.0000                                2                                                                                        3.75029                      0.0                0.0                         5.4                       4              3.0                       2  IND                   2\n",
            "111         142  2020-05-22                              4   India    124794.0     51824.0    3726.0                                 0.0000                                2                                                                                        4.03814                      0.0                0.0                         5.7                       4              3.0                       2  IND                   2\n",
            "112         143  2020-05-23                              4   India    131423.0     54385.0    3868.0                                 0.0000                                2                                                                                        4.22086                      0.0                0.0                         5.8                       4              3.0                       2  IND                   2\n",
            "113         144  2020-05-24                              4   India    138536.0     57692.0    4024.0                                 0.0000                                2                                                                                        4.43443                      0.0                0.0                         6.0                       4              3.0                       2  IND                   2\n",
            "114         145  2020-05-25                              4   India    144950.0     60706.0    4172.0                                 0.0000                                2                                                                                        4.61914                      0.0                0.0                         6.1                       4              3.0                       2  IND                   2\n",
            "115         146  2020-05-26                              4   India    150793.0     64277.0    4344.0                                 0.0000                                2                                                                                        4.58771                      0.0                0.0                         6.1                       4              3.0                       2  IND                   2\n",
            "116         147  2020-05-27                              4   India    158086.0     67749.0    4534.0                                 0.0000                                2                                                                                        4.76786                      0.0                0.0                         6.3                       4              3.0                       2  IND                   2\n",
            "117         148  2020-05-28                              4   India    165386.0     70920.0    4711.0                                 0.0000                                2                                                                                        4.88200                      0.0                0.0                         6.3                       4              3.0                       2  IND                   2\n",
            "118         149  2020-05-29                              4   India    173491.0     82627.0    4980.0                                 0.0000                                2                                                                                        5.04114                      0.0                0.0                         6.4                       4              3.0                       2  IND                   2\n",
            "119         150  2020-05-30                              4   India    181827.0     86936.0    5185.0                                 0.0000                                2                                                                                        5.21786                      0.0                0.0                         6.5                       4              3.0                       2  IND                   2\n",
            "120         151  2020-05-31                              4   India    190609.0     91852.0    5408.0                                 0.0000                                2                                                                                        5.39071                      0.0                0.0                         6.6                       4              3.0                       2  IND                   2\n",
            "121         152  2020-06-01                              4   India    198370.0     95754.0    5608.0                                 0.0000                                2                                                                                        5.53014                      0.0                0.0                         6.6                       4              3.0                       2  IND                   3\n",
            "122         153  2020-06-02                              4   India    207191.0    100285.0    5829.0                                 0.0000                                2                                                                                        5.83843                      0.0                0.0                         6.7                       4              3.0                       2  IND                   3\n",
            "123         154  2020-06-03                              4   India    216824.0    104071.0    6088.0                                 0.0000                                2                                                                                        6.08057                      0.0                0.0                         6.8                       4              3.0                       2  IND                   3\n",
            "124         155  2020-06-04                              4   India    226713.0    108450.0    6363.0                                 0.0000                                2                                                                                        6.34857                      0.0                0.0                         7.0                       4              3.0                       2  IND                   3\n",
            "125         156  2020-06-05                              4   India    236184.0    113233.0    6649.0                                 0.0000                                2                                                                                        6.49000                      0.0                0.0                         6.9                       4              3.0                       2  IND                   3\n",
            "126         157  2020-06-06                              4   India    246622.0    118695.0    6946.0                                 0.0000                                2                                                                                        6.70757                      0.0                0.0                         7.1                       4              3.0                       2  IND                   3\n",
            "127         158  2020-06-07                              4   India    257486.0    123848.0    7207.0                                 0.0000                                2                                                                                        6.92300                      0.0                0.0                         7.2                       4              3.0                       2  IND                   3\n",
            "128         159  2020-06-08                              4   India    265928.0    129095.0    7473.0                                 0.0000                                2                                                                                        6.99343                      0.0                0.0                         7.2                       4              3.0                       2  IND                   3\n",
            "129         160  2020-06-09                              4   India    276146.0    134670.0    7750.0                                 0.0000                                2                                                                                        7.13800                      0.0                0.0                         7.3                       4              3.0                       2  IND                   3\n",
            "130         161  2020-06-10                              4   India    286605.0    135206.0    8102.0                                 0.0000                                2                                                                                        7.22357                      0.0                0.0                         7.3                       4              3.0                       2  IND                   3\n",
            "131         162  2020-06-11                              4   India    297535.0    147195.0    8498.0                                 0.0000                                2                                                                                        7.33129                      0.0                0.0                         7.3                       4              3.0                       2  IND                   3\n",
            "132         163  2020-06-12                              4   India    308993.0    154330.0    8884.0                                 0.0000                                2                                                                                        7.53700                      0.0                0.0                         7.5                       4              3.0                       2  IND                   3\n",
            "133         164  2020-06-13                              4   India    320922.0    162379.0    9195.0                                 0.0000                                2                                                                                        7.69129                      0.0                0.0                         7.6                       4              3.0                       2  IND                   3\n",
            "134         165  2020-06-14                              4   India    332424.0    169798.0    9520.0                                 0.0000                                2                                                                                        7.75743                      0.0                0.0                         7.6                       4              3.0                       2  IND                   3\n",
            "135         166  2020-06-15                              4   India    343091.0    180013.0    9900.0                                 0.0000                                2                                                                                        7.98786                      0.0                0.0                         7.7                       4              3.0                       2  IND                   3\n",
            "136         167  2020-06-16                              4   India    354065.0    186935.0   11903.0                                 0.0000                                2                                                                                        8.06614                      0.0                0.0                         7.8                       4              3.0                       2  IND                   3\n",
            "137         168  2020-06-17                              4   India    366946.0    194325.0   12237.0                                 0.0000                                2                                                                                        8.31686                      0.0                0.0                         7.9                       4              3.0                       2  IND                   3\n",
            "138         169  2020-06-18                              4   India    380532.0    204711.0   12573.0                                 0.0000                                2                                                                                        8.59186                      0.0                0.0                         8.0                       4              3.0                       2  IND                   3\n",
            "139         170  2020-06-19                              4   India    395048.0    213831.0   12948.0                                 0.0000                                2                                                                                        8.90843                      0.0                0.0                         8.1                       4              3.0                       2  IND                   3\n",
            "140         171  2020-06-20                              4   India    410451.0    227728.0   13254.0                                 0.0000                                2                                                                                        9.26814                      0.0                0.0                         8.1                       4              3.0                       2  IND                   3\n",
            "141         172  2020-06-21                              4   India    425282.0    237196.0   13699.0                                 0.0000                                2                                                                                        9.61271                      0.0                0.0                         8.1                       4              3.0                       2  IND                   3\n",
            "142         173  2020-06-22                              4   India    440215.0    248190.0   14011.0                                 0.0000                                2                                                                                       10.05429                      0.0                0.0                         8.3                       4              3.0                       2  IND                   3\n",
            "143         174  2020-06-23                              4   India    456183.0    258685.0   14476.0                                 0.0000                                2                                                                                       10.57129                      0.0                0.0                         8.4                       4              3.0                       2  IND                   3\n",
            "144         175  2020-06-24                              4   India    473105.0    271697.0   14894.0                                 0.0000                                2                                                                                       10.98957                      0.0                0.0                         8.4                       4              3.0                       2  IND                   3\n",
            "145         176  2020-06-25                              4   India    490401.0    285637.0   15301.0                                 0.0000                                2                                                                                       11.37357                      0.0                0.0                         8.4                       4              3.0                       2  IND                   3\n",
            "146         177  2020-06-26                              4   India    508953.0    295881.0   15685.0                                 0.0000                                2                                                                                       11.79129                      0.0                0.0                         8.4                       4              3.0                       2  IND                   3\n",
            "147         178  2020-06-27                              4   India    528859.0    309713.0   16095.0                                 0.0000                                2                                                                                       12.25743                      0.0                0.0                         8.6                       4              3.0                       2  IND                   3\n",
            "148         179  2020-06-28                              4   India    548318.0    321723.0   16475.0                                 0.0000                                2                                                                                       12.73657                      0.0                0.0                         8.7                       4              3.0                       2  IND                   3\n",
            "149         180  2020-06-29                              4   India    566840.0    334822.0   16893.0                                 0.0000                                2                                                                                       13.10814                      0.0                0.0                         8.7                       4              3.0                       2  IND                   3\n",
            "150         181  2020-06-30                              4   India    585481.0    347912.0   17400.0                                 0.0000                                2                                                                                       13.38486                      0.0                0.0                         8.8                       4              3.0                       2  IND                   3\n",
            "151         182  2020-07-01                              4   India    604641.0    359860.0   17834.0                                 0.0000                                2                                                                                       13.61657                      0.0                0.0                         8.9                       4              3.0                       2  IND                   3\n",
            "152         183  2020-07-02                              4   India    625544.0    379892.0   18213.0                                 0.0000                                2                                                                                       13.99000                      0.0                0.0                         9.0                       4              3.0                       2  IND                   3\n",
            "153         184  2020-07-03                              4   India    648315.0    394227.0   18655.0                                 0.0000                                2                                                                                       14.42686                      0.0                0.0                         9.2                       4              3.0                       2  IND                   3\n",
            "154         185  2020-07-04                              4   India    673165.0    409083.0   19268.0                                 0.0000                                2                                                                                       14.93857                      0.0                0.0                         9.3                       4              3.0                       2  IND                   3\n",
            "155         186  2020-07-05                              4   India    697413.0    424433.0   19693.0                                 0.0000                                2                                                                                       15.43429                      0.0                0.0                         9.5                       4              3.0                       2  IND                   3\n",
            "156         187  2020-07-06                              4   India    719664.0    439934.0   20159.0                                 0.0000                                2                                                                                       15.82029                      0.0                0.0                         9.7                       4              3.0                       2  IND                   3\n",
            "157         188  2020-07-07                              4   India    742417.0    456831.0   20642.0                                 0.0000                                2                                                                                       16.24600                      0.0                0.0                         9.8                       4              3.0                       2  IND                   3\n",
            "158         189  2020-07-08                              4   India    767296.0    476378.0   21129.0                                 0.0000                                2                                                                                       16.83800                      0.0                0.0                         9.9                       4              3.0                       2  IND                   3\n",
            "159         190  2020-07-09                              4   India    793802.0    495513.0   21604.0                                 0.0000                                2                                                                                       17.41800                      0.0                0.0                        10.0                       4              3.0                       2  IND                   3\n",
            "160         191  2020-07-10                              4   India    820916.0    515386.0   22123.0                                 0.0000                                2                                                                                       17.86757                      0.0                0.0                        10.0                       4              3.0                       2  IND                   3\n",
            "161         192  2020-07-11                              4   India    849522.0    534618.0   22673.0                                 0.0000                                2                                                                                       18.25643                      0.0                0.0                        10.0                       4              3.0                       2  IND                   3\n",
            "162         193  2020-07-12                              4   India    878254.0    553471.0   23174.0                                 0.0000                                2                                                                                       18.72057                      0.0                0.0                        10.1                       4              3.0                       2  IND                   3\n",
            "163         194  2020-07-13                              4   India    906752.0    571460.0   23727.0                                 0.0000                                2                                                                                       19.36729                      0.0                0.0                        10.2                       4              3.0                       2  IND                   3\n",
            "164         195  2020-07-14                              4   India    936181.0    592032.0   24309.0                                 0.0000                                2                                                                                       20.05829                      0.0                0.0                        10.3                       4              3.0                       2  IND                   3\n",
            "165         196  2020-07-15                              4   India    968857.0    612768.0   24914.0                                 0.0000                                2                                                                                       20.86543                      0.0                0.0                        10.4                       4              3.0                       2  IND                   3\n",
            "166         197  2020-07-16                              4   India   1003832.0    635757.0   25602.0                                 0.0000                                2                                                                                       21.74214                      0.0                0.0                        10.5                       4              3.0                       2  IND                   3\n",
            "167         198  2020-07-17                              4   India   1039084.0    653751.0   26273.0                                 0.0000                                2                                                                                       22.58457                      0.0                0.0                        10.7                       4              3.0                       2  IND                   3\n",
            "168         199  2020-07-18                              4   India   1077781.0    677423.0   26816.0                                 0.0000                                2                                                                                       23.62914                      0.0                0.0                        10.7                       4              3.0                       2  IND                   3\n",
            "169         200  2020-07-19                              4   India   1118206.0    700087.0   27497.0                                 0.0000                                2                                                                                       24.83957                      0.0                0.0                        10.9                       4              3.0                       2  IND                   3\n",
            "170         201  2020-07-20                              4   India   1155338.0    724578.0   28082.0                                 0.0000                                2                                                                                       25.73329                      0.0                0.0                        11.1                       4              3.0                       2  IND                   3\n",
            "171         202  2020-07-21                              4   India   1193078.0    753050.0   28732.0                                 0.0000                                2                                                                                       26.59371                      0.0                0.0                        11.2                       4              3.0                       2  IND                   3\n",
            "172         203  2020-07-22                              4   India   1238798.0    782607.0   29861.0                                 0.0000                                2                                                                                       27.94400                      0.0                0.0                        11.7                       4              3.0                       2  IND                   3\n",
            "173         204  2020-07-23                              4   India   1288108.0    817209.0   30601.0                                 0.0000                                2                                                                                       29.42800                      0.0                0.0                        12.2                       4              3.0                       2  IND                   3\n",
            "174         205  2020-07-24                              4   India   1337024.0    849432.0   31358.0                                 0.0000                                2                                                                                       30.84243                      0.0                0.0                        12.6                       4              3.0                       2  IND                   3\n",
            "175         206  2020-07-25                              4   India   1385635.0    885573.0   32060.0                                 0.0000                                2                                                                                       31.86871                      0.0                0.0                        12.7                       4              3.0                       2  IND                   3\n",
            "176         207  2020-07-26                              4   India   1435616.0    917568.0   32771.0                                 0.0000                                2                                                                                       32.85800                      0.0                0.0                        12.7                       4              3.0                       2  IND                   3\n",
            "177         208  2020-07-27                              4   India   1480073.0    951166.0   33408.0                                 0.0000                                2                                                                                       33.61629                      0.0                0.0                        11.8                       4              3.0                       2  IND                   3\n",
            "178         209  2020-07-28                              4   India   1531669.0    988029.0   34193.0                                 0.0000                                2                                                                                       35.05057                      0.0                0.0                        11.5                       4              3.0                       2  IND                   3\n",
            "179         210  2020-07-29                              4   India   1581963.0   1019735.0   34955.0                                 0.0000                                2                                                                                       35.52414                      0.0                0.0                        11.4                       4              3.0                       2  IND                   3\n",
            "180         211  2020-07-30                              4   India   1634746.0   1055348.0   35718.0                                 0.0000                                2                                                                                       35.88357                      0.0                0.0                        11.1                       4              3.0                       2  IND                   3\n",
            "181         212  2020-07-31                              4   India   1695988.0   1094374.0   36511.0                                 0.0000                                2                                                                                       37.15957                      0.0                0.0                        10.5                       4              3.0                       2  IND                   3\n",
            "182         213  2020-08-01                              4   India   1750723.0   1145629.0   37364.0                                 0.0000                                2                                                                                       37.79357                      0.0                0.0                        10.4                       4              3.0                       2  IND                   3\n",
            "183         214  2020-08-02                              4   India   1803695.0   1186203.0   38135.0                                 0.0000                                2                                                                                       38.10314                      0.0                0.0                        10.4                       4              3.0                       2  IND                   3\n",
            "184         215  2020-08-03                              4   India   1855745.0   1230509.0   38938.0                                 0.0000                                2                                                                                       38.88914                      0.0                0.0                        11.1                       4              3.0                       2  IND                   3\n",
            "185         216  2020-08-04                              4   India   1908254.0   1282215.0   39795.0                                 0.0000                                2                                                                                       38.98371                      0.0                0.0                        10.7                       4              3.0                       2  IND                   3\n",
            "186         217  2020-08-05                              4   India   1964536.0   1328336.0   40699.0                                 0.0000                                2                                                                                       39.60357                      0.0                0.0                        10.2                       4              3.0                       2  IND                   3\n",
            "187         218  2020-08-06                              4   India   2027074.0   1378105.0   41585.0                                 0.0000                                2                                                                                       40.61343                      0.0                0.0                         9.9                       4              3.0                       2  IND                   3\n",
            "188         219  2020-08-07                              4   India   2088611.0   1427005.0   42518.0                                 0.0000                                2                                                                                       40.64400                      0.0                0.0                         9.9                       4              3.0                       2  IND                   3\n",
            "189         220  2020-08-08                              4   India   2153010.0   1480884.0   43379.0                                 0.0000                                2                                                                                       41.64443                      0.0                0.0                        10.0                       4              3.0                       2  IND                   3\n",
            "190         221  2020-08-09                              4   India   2215074.0   1535743.0   44386.0                                 0.0000                                2                                                                                       42.58571                      0.0                0.0                         9.6                       4              3.0                       2  IND                   3\n",
            "191         222  2020-08-10                              4   India   2268675.0   1583489.0   45257.0                                 0.0000                                2                                                                                       42.74629                      0.0                0.0                         9.4                       4              3.0                       2  IND                   3\n",
            "192         223  2020-08-11                              4   India   2329638.0   1639599.0   46091.0                                 0.0000                                2                                                                                       43.62143                      0.0                0.0                         9.5                       4              3.0                       2  IND                   3\n",
            "193         224  2020-08-12                              4   India   2396637.0   1695982.0   47033.0                                 0.0000                                2                                                                                       44.73086                      0.0                0.0                         9.5                       4              3.0                       2  IND                   3\n",
            "194         225  2020-08-13                              4   India   2461190.0   1751555.0   48040.0                                 0.0000                                2                                                                                       44.93943                      0.0                0.0                         9.2                       4              3.0                       2  IND                   3\n",
            "195         226  2020-08-14                              4   India   2525922.0   1808936.0   49036.0                                 0.0000                                2                                                                                       45.27014                      0.0                0.0                         8.9                       4              3.0                       2  IND                   3\n",
            "196         227  2020-08-15                              4   India   2589952.0   1862258.0   49980.0                                 0.0000                                2                                                                                       45.23186                      0.0                0.0                         8.4                       4              3.0                       2  IND                   3\n",
            "197         228  2020-08-16                              4   India   2647663.0   1919842.0   50921.0                                 0.0000                                2                                                                                       44.78114                      0.0                0.0                         8.3                       4              3.0                       2  IND                   3\n",
            "198         229  2020-08-17                              4   India   2702681.0   1977671.0   51797.0                                 0.0000                                2                                                                                       44.92786                      0.0                0.0                         8.0                       4              3.0                       2  IND                   3\n",
            "199         230  2020-08-18                              4   India   2767253.0   2037816.0   52888.0                                 0.0000                                2                                                                                       45.30143                      0.0                0.0                         7.7                       4              3.0                       2  IND                   3\n",
            "200         231  2020-08-19                              4   India   2836925.0   2096664.0   53866.0                                 0.0000                                2                                                                                       45.57814                      0.0                0.0                         7.7                       4              3.0                       2  IND                   3\n",
            "201         232  2020-08-20                              4   India   2905825.0   2158946.0   54849.0                                 0.0000                                2                                                                                       46.02814                      0.0                0.0                         7.6                       4              3.0                       2  IND                   3\n",
            "202         233  2020-08-21                              4   India   2975701.0   2222577.0   55794.0                                 0.0000                                2                                                                                       46.56071                      0.0                0.0                         7.8                       4              3.0                       2  IND                   3\n",
            "203         234  2020-08-22                              4   India   3044940.0   2280566.0   56706.0                                 0.0000                                2                                                                                       47.10000                      0.0                0.0                         7.7                       4              3.0                       2  IND                   3\n",
            "204         235  2020-08-23                              4   India   3106348.0   2338035.0   57542.0                                 0.0000                                2                                                                                       47.48271                      0.0                0.0                         7.7                       4              3.0                       2  IND                   3\n",
            "205         236  2020-08-24                              4   India   3167323.0   2404585.0   58390.0                                 0.0000                                2                                                                                       48.09943                      0.0                0.0                         7.9                       4              3.0                       2  IND                   3\n",
            "206         237  2020-08-25                              4   India   3224547.0   2458339.0   59357.0                                 0.0000                                2                                                                                       47.33886                      0.0                0.0                         7.8                       4              3.0                       2  IND                   3\n",
            "207         238  2020-08-26                              4   India   3310234.0   2523771.0   60472.0                                 0.0000                                2                                                                                       48.99671                      0.0                0.0                         8.0                       4              3.0                       2  IND                   3\n",
            "208         239  2020-08-27                              4   India   3387500.0   2583948.0   61529.0                                 0.0000                                2                                                                                       49.86286                      0.0                0.0                         8.1                       4              3.0                       2  IND                   3\n",
            "209         240  2020-08-28                              4   India   3463972.0   2648998.0   62550.0                                 0.0000                                2                                                                                       50.54557                      0.0                0.0                         8.1                       4              3.0                       2  IND                   3\n",
            "210         241  2020-08-29                              4   India   3542733.0   2713933.0   63498.0                                 0.0000                                2                                                                                       51.53129                      0.0                0.0                         8.4                       4              3.0                       2  IND                   3\n",
            "211         242  2020-08-30                              4   India   3621245.0   2774801.0   64469.0                                 0.0000                                2                                                                                       53.30200                      0.0                0.0                         8.3                       4              3.0                       2  IND                   3\n",
            "212         243  2020-08-31                              4   India   3691166.0   2839882.0   65288.0                                 0.0000                                2                                                                                       54.22800                      0.0                0.0                         8.2                       4              3.0                       2  IND                   3\n",
            "213         244  2020-09-01                              4   India   3769523.0   2901908.0   66333.0                                 0.0000                                2                                                                                       56.41557                      0.0                0.0                         8.4                       4              3.0                       2  IND                   3\n",
            "214         245  2020-09-02                              4   India   3853406.0   2970492.0   67376.0                                 0.0000                                2                                                                                       56.22886                      0.0                0.0                         8.1                       4              3.0                       2  IND                   3\n",
            "215         246  2020-09-03                              4   India   3936747.0   3037151.0   68472.0                                 0.0000                                2                                                                                       56.85771                      0.0                0.0                         7.9                       4              3.0                       2  IND                   3\n",
            "216         247  2020-09-04                              4   India   4023179.0   3107223.0   69561.0                                 0.0000                                2                                                                                       57.88886                      0.0                0.0                         7.8                       4              3.0                       2  IND                   3\n",
            "217         248  2020-09-05                              4   India   4113811.0   3180865.0   70626.0                                 0.0000                                2                                                                                       59.11771                      0.0                0.0                         7.8                       4              3.0                       2  IND                   3\n",
            "218         249  2020-09-06                              4   India   4204613.0   3250429.0   71642.0                                 0.0000                                2                                                                                       60.38986                      0.0                0.0                         7.9                       4              3.0                       2  IND                   3\n",
            "219         250  2020-09-07                              4   India   4280422.0   3323950.0   72775.0                                 0.0000                                2                                                                                       60.99943                      0.0                0.0                         8.1                       4              3.0                       2  IND                   3\n",
            "220         251  2020-09-08                              4   India   4370128.0   3398844.0   73890.0                                 0.0000                                2                                                                                       62.17429                      0.0                0.0                         8.2                       4              3.0                       2  IND                   3\n",
            "221         252  2020-09-09                              4   India   4465863.0   3471783.0   75062.0                                 0.0000                                2                                                                                       63.40114                      0.0                0.0                         8.2                       4              3.0                       2  IND                   3\n",
            "222         253  2020-09-10                              4   India   4562414.0   3542663.0   76271.0                                 0.0000                                2                                                                                       64.76857                      0.0                0.0                         8.4                       4              3.0                       2  IND                   3\n",
            "223         254  2020-09-11                              4   India   4659984.0   3624196.0   77472.0                                 0.0000                                2                                                                                       65.92157                      0.0                0.0                         8.6                       4              3.0                       2  IND                   3\n",
            "224         255  2020-09-12                              4   India   4754356.0   3702595.0   78586.0                                 0.0000                                2                                                                                       66.30871                      0.0                0.0                         8.6                       4              3.0                       2  IND                   3\n",
            "225         256  2020-09-13                              4   India   4846427.0   3780107.0   79722.0                                 0.0000                                2                                                                                       66.44014                      0.0                0.0                         8.6                       4              3.0                       2  IND                   3\n",
            "226         257  2020-09-14                              4   India   4930236.0   3859399.0   80776.0                                 0.0000                                2                                                                                       67.26829                      0.0                0.0                         8.5                       4              3.0                       2  IND                   3\n",
            "227         258  2020-09-15                              4   India   5020359.0   3942360.0   82066.0                                 0.0000                                2                                                                                       67.31143                      0.0                0.0                         8.5                       4              3.0                       2  IND                   3\n",
            "228         259  2020-09-16                              4   India   5118253.0   4025079.0   83198.0                                 0.0000                                2                                                                                       67.53486                      0.0                0.0                         8.6                       4              3.0                       2  IND                   3\n",
            "229         260  2020-09-17                              4   India   5214677.0   4112551.0   84372.0                                 0.0000                                2                                                                                       67.52171                      0.0                0.0                         8.5                       4              3.0                       2  IND                   3\n",
            "230         261  2020-09-18                              4   India   5308014.0   4208431.0   85619.0                                 0.0000                                2                                                                                       67.08343                      0.0                0.0                         8.7                       4              3.0                       2  IND                   3\n",
            "231         262  2020-09-19                              4   India   5400619.0   4303043.0   86752.0                                 0.0000                                2                                                                                       66.90057                      0.0                0.0                         8.9                       4              3.0                       2  IND                   3\n",
            "232         263  2020-09-20                              4   India   5487580.0   4396399.0   87882.0                                 0.0000                                2                                                                                       66.37157                      0.0                0.0                         8.7                       4              3.0                       2  IND                   3\n",
            "233         264  2020-09-21                              4   India   5562663.0   4497867.0   88935.0                                 0.0000                                2                                                                                       65.46829                      0.0                0.0                         8.8                       4              3.0                       2  IND                   3\n",
            "234         265  2020-09-22                              4   India   5646010.0   4587613.0   90020.0                                 0.0000                                2                                                                                       64.76686                      0.0                0.0                         8.9                       4              3.0                       2  IND                   3\n",
            "235         266  2020-09-23                              4   India   5732518.0   4674987.0   91149.0                                 0.0000                                2                                                                                       63.58829                      0.0                0.0                         9.0                       4              3.0                       2  IND                   3\n",
            "236         267  2020-09-24                              4   India   5818570.0   4756164.0   92290.0                                 0.0000                                2                                                                                       62.51457                      0.0                0.0                         8.8                       4              3.0                       2  IND                   3\n",
            "237         268  2020-09-25                              4   India   5903932.0   4849584.0   93379.0                                 0.0000                                2                                                                                       61.68900                      0.0                0.0                         8.1                       4              3.0                       2  IND                   3\n",
            "238         269  2020-09-26                              4   India   5992532.0   4941627.0   94503.0                                 0.0000                                2                                                                                       61.27443                      0.0                0.0                         7.6                       4              3.0                       2  IND                   3\n",
            "239         270  2020-09-27                              4   India   6074702.0   5016520.0   95542.0                                 0.0000                                2                                                                                       60.77843                      0.0                0.0                         7.7                       4              3.0                       2  IND                   3\n",
            "240         271  2020-09-28                              4   India   6145291.0   5101397.0   96318.0                                 0.0000                                2                                                                                       60.31314                      0.0                0.0                         7.7                       4              3.0                       2  IND                   3\n",
            "241         272  2020-09-29                              4   India   6225763.0   5187825.0   97497.0                                 0.0000                                2                                                                                       60.01557                      0.0                0.0                         7.4                       4              3.0                       2  IND                   3\n",
            "242         273  2020-09-30                              4   India   6312584.0   5273201.0   98678.0                                 0.0000                                2                                                                                       60.04800                      0.0                0.0                         7.3                       4              3.0                       2  IND                   3\n",
            "243         274  2020-10-01                              4   India   6394068.0   5352078.0   99773.0                                 0.0000                                2                                                                                       59.57514                      0.0                0.0                         7.0                       4              2.0                       2  IND                   2\n",
            "244         275  2020-10-02                              4   India   6473544.0   5427706.0  100842.0                                 0.0000                                2                                                                                       58.96586                      0.0                0.0                         7.3                       4              2.0                       2  IND                   2\n",
            "245         276  2020-10-03                              4   India   6549373.0   5509966.0  101782.0                                 0.0000                                2                                                                                       57.64371                      0.0                0.0                         7.3                       4              2.0                       2  IND                   2\n",
            "246         277  2020-10-04                              4   India   6623815.0   5586703.0  102685.0                                 0.0000                                2                                                                                       56.84371                      0.0                0.0                         7.1                       4              2.0                       2  IND                   2\n",
            "247         278  2020-10-05                              4   India   6685082.0   5662490.0  103569.0                                 0.0000                                2                                                                                       55.87871                      0.0                0.0                         6.7                       4              2.0                       2  IND                   2\n",
            "248         279  2020-10-06                              4   India   6757131.0   5744693.0  104555.0                                 0.0000                                2                                                                                       55.00671                      0.0                0.0                         6.7                       4              2.0                       2  IND                   2\n",
            "249         280  2020-10-07                              4   India   6835655.0   5827704.0  105526.0                                 0.0000                                2                                                                                       54.14771                      0.0                0.0                         6.5                       4              2.0                       2  IND                   2\n",
            "250         281  2020-10-08                              4   India   6906151.0   5906069.0  106490.0                                 0.0000                                2                                                                                       53.01029                      0.0                0.0                         6.5                       4              2.0                       2  IND                   2\n",
            "251         282  2020-10-09                              4   India   6979423.0   5988822.0  107416.0                                 0.0000                                2                                                                                       52.36800                      0.0                0.0                         6.4                       4              2.0                       2  IND                   2\n",
            "252         283  2020-10-10                              4   India   7053806.0   6077976.0  108334.0                                 0.0000                                2                                                                                       52.21843                      0.0                0.0                         6.3                       4              2.0                       2  IND                   2\n",
            "253         284  2020-10-11                              4   India   7120538.0   6149535.0  109150.0                                 0.0000                                2                                                                                       51.42029                      0.0                0.0                         6.3                       4              2.0                       2  IND                   2\n",
            "254         285  2020-10-12                              4   India   7175880.0   6227295.0  109856.0                                 0.0000                                2                                                                                       50.80700                      0.0                0.0                         6.2                       4              2.0                       2  IND                   2\n",
            "255         286  2020-10-13                              4   India   7239389.0   6301927.0  110586.0                                 0.0000                                2                                                                                       49.92300                      0.0                0.0                         6.1                       4              2.0                       2  IND                   2\n",
            "256         287  2020-10-14                              4   India   7307097.0   6383441.0  111266.0                                 0.0000                                2                                                                                       48.80343                      0.0                0.0                         6.0                       4              2.0                       2  IND                   2\n",
            "257         288  2020-10-15                              4   India   7370468.0   6453779.0  112161.0                                 0.0000                                2                                                                                       48.06586                      0.0                0.0                         6.0                       2              1.0                       2  IND                   2\n",
            "258         289  2020-10-16                              4   India   7432680.0   6524595.0  112998.0                                 0.0000                                2                                                                                       46.92100                      0.0                0.0                         5.9                       2              1.0                       2  IND                   2\n",
            "259         290  2020-10-17                              4   India   7494551.0   6597209.0  114031.0                                 0.0000                                2                                                                                       45.62571                      0.0                0.0                         5.9                       2              1.0                       2  IND                   2\n",
            "260         291  2020-10-18                              4   India   7550273.0   6663608.0  114610.0                                 0.0000                                2                                                                                       44.48600                      0.0                0.0                         5.8                       2              1.0                       2  IND                   2\n",
            "261         292  2020-10-19                              4   India   7597063.0   6733328.0  115197.0                                 0.0000                                2                                                                                       43.60071                      0.0                0.0                         5.8                       2              1.0                       2  IND                   2\n",
            "262         293  2020-10-20                              4   India   7651107.0   6795103.0  115914.0                                 0.0000                                2                                                                                       42.62086                      0.0                0.0                         5.7                       2              1.0                       2  IND                   2\n",
            "263         294  2020-10-21                              4   India   7706946.0   6874518.0  116616.0                                 0.0000                                2                                                                                       41.39214                      0.0                0.0                         5.6                       2              1.0                       2  IND                   2\n",
            "264         295  2020-10-22                              4   India   7761312.0   6948497.0  117306.0                                 0.0000                                2                                                                                       40.46000                      0.0                0.0                         5.3                       2              1.0                       2  IND                   2\n",
            "265         296  2020-10-23                              4   India   7814682.0   7016046.0  117956.0                                 0.0000                                2                                                                                       39.54471                      0.0                0.0                         4.9                       2              1.0                       2  IND                   2\n",
            "266         297  2020-10-24                              4   India   7864811.0   7078123.0  118534.0                                 0.0000                                2                                                                                       38.32914                      0.0                0.0                         4.6                       2              1.0                       2  IND                   2\n",
            "267         298  2020-10-25                              4   India   7909959.0   7137228.0  119014.0                                 0.0000                                2                                                                                       37.23457                      0.0                0.0                         4.3                       2              1.0                       2  IND                   2\n",
            "268         299  2020-10-26                              4   India   7946429.0   7201070.0  119502.0                                 0.0000                                2                                                                                       36.16614                      0.0                0.0                         4.2                       2              1.0                       2  IND                   2\n",
            "269         300  2020-10-27                              3   India   7990322.0   7259509.0  120010.0                                 0.0000                                2                                                                                       35.11529                      0.0                0.0                         4.1                       2              1.0                       2  IND                   2\n",
            "270         301  2020-10-28                              3   India   8040203.0   7315989.0  120527.0                                 0.0000                                2                                                                                       34.49857                      0.0                0.0                         4.0                       2              1.0                       2  IND                   2\n",
            "271         302  2020-10-29                              3   India   8088851.0   7373375.0  121090.0                                 0.0000                                2                                                                                       33.90657                      0.0                0.0                         4.1                       2              1.0                       2  IND                   2\n",
            "272         303  2020-10-30                              3   India   8137119.0   7432829.0  121641.0                                 0.0000                                2                                                                                       33.37843                      0.0                0.0                         4.2                       2              1.0                       2  IND                   2\n",
            "273         304  2020-10-31                              3   India   8184082.0   7491513.0  122111.0                                 0.0000                                2                                                                                       33.05071                      0.0                0.0                         4.3                       2              1.0                       2  IND                   2\n",
            "274         305  2020-11-01                              3   India   8229313.0   7544798.0  122607.0                                 0.0000                                2                                                                                       33.05929                      0.0                0.0                         4.3                       2              1.0                       2  IND                   2\n",
            "275         306  2020-11-02                              3   India   8267623.0   7603121.0  123097.0                                 0.0000                                2                                                                                       33.24986                      0.0                0.0                         4.4                       2              1.0                       2  IND                   2\n",
            "276         307  2020-11-03                              3   India   8313876.0   7656478.0  123611.0                                 0.0000                                2                                                                                       33.49429                      0.0                0.0                         4.4                       2              1.0                       2  IND                   2\n",
            "277         308  2020-11-04                              3   India   8364086.0   7711809.0  124315.0                                 0.0000                                2                                                                                       33.52829                      0.0                0.0                         4.3                       2              1.0                       2  IND                   2\n",
            "278         309  2020-11-05                              3   India   8411724.0   7765966.0  124985.0                                 0.0000                                2                                                                                       33.42371                      0.0                0.0                         4.2                       2              1.0                       2  IND                   2\n",
            "279         310  2020-11-06                              3   India   8462080.0   7819886.0  125562.0                                 0.0000                                2                                                                                       33.63986                      0.0                0.0                         4.2                       2              1.0                       2  IND                   2\n",
            "280         311  2020-11-07                              3   India   8507754.0   7868968.0  126121.0                                 0.0000                                2                                                                                       33.50643                      0.0                0.0                         4.2                       2              1.0                       2  IND                   2\n",
            "281         312  2020-11-08                              3   India   8553657.0   7917373.0  126611.0                                 0.0000                                2                                                                                       33.57600                      0.0                0.0                         4.1                       2              1.0                       2  IND                   2\n",
            "282         313  2020-11-09                              3   India   8591730.0   7959406.0  127059.0                                 0.0000                                2                                                                                       33.55143                      0.0                0.0                         4.1                       2              1.0                       2  IND                   2\n",
            "283         314  2020-11-10                              3   India   8636011.0   8013783.0  127571.0                                 0.0000                                2                                                                                       33.34729                      0.0                0.0                         4.1                       2              1.0                       2  IND                   2\n",
            "284         315  2020-11-11                              3   India   8683916.0   8066501.0  128121.0                                 0.0000                                2                                                                                       33.10871                      0.0                0.0                         4.1                       2              1.0                       2  IND                   2\n",
            "285         316  2020-11-12                              3   India   8728795.0   8115580.0  128668.0                                 0.0000                                2                                                                                       32.82314                      0.0                0.0                         4.1                       2              1.0                       2  IND                   2\n",
            "286         317  2020-11-13                              3   India   8773479.0   8163572.0  129188.0                                 0.0000                                2                                                                                       32.23600                      0.0                0.0                         4.1                       2              1.0                       2  IND                   2\n",
            "287         318  2020-11-14                              3   India   8814579.0   8205728.0  129635.0                                 0.0000                                2                                                                                       31.76257                      0.0                0.0                         4.1                       2              1.0                       2  IND                   2\n",
            "288         319  2020-11-15                              3   India   8845127.0   8249579.0  130070.0                                 0.0000                                2                                                                                       30.17300                      0.0                0.0                         4.1                       2              1.0                       2  IND                   2\n",
            "289         320  2020-11-16                              3   India   8874290.0   8290370.0  130519.0                                 0.0000                                2                                                                                       29.25071                      0.0                0.0                         4.0                       2              1.0                       2  IND                   2\n",
            "290         321  2020-11-17                              3   India   8912907.0   8335109.0  130993.0                                 0.0000                                2                                                                                       28.66429                      0.0                0.0                         4.0                       2              1.0                       2  IND                   2\n",
            "291         322  2020-11-18                              3   India   8958483.0   8383602.0  131578.0                                 0.0000                                2                                                                                       28.42314                      0.0                0.0                         4.1                       2              1.0                       2  IND                   2\n",
            "292         323  2020-11-19                              3   India   9004365.0   8428409.0  132162.0                                 0.0000                                2                                                                                       28.52700                      0.0                0.0                         4.2                       2              1.0                       2  IND                   2\n",
            "293         324  2020-11-20                              3   India   9050597.0   8478124.0  132726.0                                 0.0000                                2                                                                                       28.68714                      0.0                0.0                         4.3                       2              1.0                       2  IND                   2\n",
            "294         325  2020-11-21                              3   India   9095806.0   8521617.0  133227.0                                 0.0000                                1                                                                                       29.11243                      0.0                0.0                         4.2                       4              3.0                       2  IND                   2\n",
            "295         326  2020-11-22                              3   India   9139865.0   8562641.0  133738.0                                 0.0000                                1                                                                                       30.51114                      0.0                0.0                         4.3                       4              3.0                       2  IND                   2\n",
            "296         327  2020-11-23                              3   India   9177840.0   8604955.0  134218.0                                 0.0000                                1                                                                                       31.42329                      0.0                0.0                         4.4                       4              3.0                       2  IND                   2\n",
            "297         328  2020-11-24                              3   India   9222216.0   8642771.0  134699.0                                 0.0000                                1                                                                                       32.01943                      0.0                0.0                         4.3                       4              3.0                       2  IND                   2\n",
            "298         329  2020-11-25                              3   India   9266705.0   8679138.0  135223.0                                 0.0000                                1                                                                                       31.90686                      0.0                0.0                         4.2                       4              3.0                       2  IND                   2\n",
            "299         330  2020-11-26                              3   India   9309787.0   8718517.0  135715.0                                 0.0000                                1                                                                                       31.61700                      0.0                0.0                         4.1                       4              3.0                       2  IND                   2\n",
            "300         331  2020-11-27                              3   India   9351109.0   8759969.0  136200.0                                 0.0000                                1                                                                                       31.10871                      0.0                0.0                         4.0                       4              3.0                       2  IND                   2\n",
            "301         332  2020-11-28                              3   India   9392919.0   8802267.0  136696.0                                 0.0000                                1                                                                                       30.75686                      0.0                0.0                         3.9                       4              3.0                       2  IND                   2\n",
            "302         333  2020-11-29                              3   India   9431691.0   8847600.0  137139.0                                 0.0000                                1                                                                                       30.20957                      0.0                0.0                         3.8                       4              3.0                       2  IND                   2\n",
            "303         334  2020-11-30                              3   India   9462809.0   8889585.0  137621.0                                 0.0000                                1                                                                                       29.49971                      0.0                0.0                         3.7                       4              3.0                       2  IND                   2\n",
            "304         335  2020-12-01                              3   India   9499413.0   8932647.0  138122.0                                 0.0000                                1                                                                                       28.69529                      0.0                0.0                         3.6                       4              3.0                       2  IND                   2\n",
            "305         336  2020-12-02                              3   India   9534964.0   8973373.0  138648.0                                 0.0000                                1                                                                                       27.77014                      0.0                0.0                         3.5                       4              3.0                       2  IND                   2\n",
            "306         337  2020-12-03                              3   India   9571559.0   9016289.0  139188.0                                 0.0000                                1                                                                                       27.09857                      0.0                0.0                         3.4                       4              3.0                       2  IND                   2\n",
            "307         338  2020-12-04                              3   India   9608211.0   9058822.0  139700.0                                 0.0000                                1                                                                                       26.61514                      0.0                0.0                         3.4                       4              3.0                       2  IND                   2\n",
            "308         339  2020-12-05                              3   India   9644222.0   9100792.0  140182.0                                 0.0000                                1                                                                                       26.01486                      0.0                0.0                         3.3                       4              3.0                       2  IND                   2\n",
            "309         340  2020-12-06                              3   India   9677203.0   9139901.0  140573.0                                 0.0000                                1                                                                                       25.41529                      0.0                0.0                         3.3                       4              3.0                       2  IND                   2\n",
            "310         341  2020-12-07                              3   India   9703770.0   9178946.0  140958.0                                 0.0000                                1                                                                                       24.94414                      0.0                0.0                         3.3                       4              3.0                       2  IND                   2\n",
            "311         342  2020-12-08                              3   India   9735850.0   9215581.0  141360.0                                 0.0000                                1                                                                                       24.47571                      0.0                0.0                         3.2                       4              3.0                       2  IND                   2\n",
            "312         343  2020-12-09                              3   India   9767371.0   9253306.0  141772.0                                 0.0000                                1                                                                                       24.05843                      0.0                0.0                         3.1                       4              3.0                       2  IND                   2\n",
            "313         344  2020-12-10                              3   India   9796744.0   9290809.0  142185.0                                 0.0000                                1                                                                                       23.31086                      0.0                0.0                         3.1                       4              3.0                       2  IND                   2\n",
            "314         345  2020-12-11                              3   India   9826775.0   9324328.0  142628.0                                 0.0000                                1                                                                                       22.62557                      0.0                0.0                         3.1                       4              3.0                       2  IND                   2\n",
            "315         346  2020-12-12                              3   India   9857029.0   9357464.0  143019.0                                 0.0000                                1                                                                                       22.02957                      0.0                0.0                         3.1                       4              3.0                       2  IND                   2\n",
            "316         347  2020-12-13                              3   India   9884100.0   9388159.0  143355.0                                 0.0000                                1                                                                                       21.41786                      0.0                0.0                         3.1                       4              3.0                       2  IND                   2\n",
            "317         348  2020-12-14                              3   India   9906165.0   9422636.0  143709.0                                 0.0000                                1                                                                                       20.95186                      0.0                0.0                         3.0                       4              3.0                       2  IND                   2\n",
            "318         349  2020-12-15                              3   India   9932547.0   9456449.0  144096.0                                 0.0000                                1                                                                                       20.36200                      0.0                0.0                         2.9                       4              3.0                       2  IND                   2\n",
            "319         350  2020-12-16                              3   India   9956557.0   9489740.0  144451.0                                 0.0000                                1                                                                                       19.58443                      0.0                0.0                         2.8                       4              3.0                       2  IND                   2\n",
            "320         351  2020-12-17                              3   India   9979447.0   9520827.0  144789.0                                 0.0000                                1                                                                                       18.91329                      0.0                0.0                         2.6                       4              3.0                       2  IND                   2\n",
            "321         352  2020-12-18                              3   India  10004599.0   9550712.0  145136.0                                 0.0000                                1                                                                                       18.40814                      0.0                0.0                         2.5                       4              3.0                       2  IND                   2\n",
            "322         353  2020-12-19                              3   India  10031223.0   9580402.0  145477.0                                 0.0000                                1                                                                                       18.03243                      0.0                0.0                         2.4                       4              3.0                       2  IND                   2\n",
            "323         354  2020-12-20                              3   India  10055560.0   9606111.0  145810.0                                 0.0000                                1                                                                                       17.74929                      0.0                0.0                         2.3                       4              3.0                       2  IND                   2\n",
            "324         355  2020-12-21                              3   India  10075116.0   9636487.0  146111.0                                 0.0000                                1                                                                                       17.48957                      0.0                0.0                         2.2                       4              3.0                       2  IND                   2\n",
            "325         356  2020-12-22                              3   India  10099066.0   9663382.0  146444.0                                 0.0000                                1                                                                                       17.23786                      0.0                0.0                         2.2                       4              3.0                       2  IND                   2\n",
            "326         357  2020-12-23                              3   India  10123778.0   9693173.0  146756.0                                 0.0000                                1                                                                                       17.31057                      0.0                0.0                         2.2                       4              3.0                       2  IND                   2\n",
            "327         358  2020-12-24                              3   India  10146845.0   9717834.0  147092.0                                 0.0000                                1                                                                                       17.32886                      0.0                0.0                         2.2                       4              3.0                       2  IND                   2\n",
            "328         359  2020-12-25                              3   India  10169118.0   9740108.0  147343.0                                 0.0000                                1                                                                                       17.03086                      0.0                0.0                         2.2                       4              3.0                       2  IND                   2\n",
            "329         360  2020-12-26                              3   India  10187850.0   9761538.0  147622.0                                 0.0000                                1                                                                                       16.21386                      0.0                0.0                         2.2                       4              3.0                       2  IND                   2\n",
            "330         361  2020-12-27                              3   India  10207871.0   9782669.0  147901.0                                 0.0000                                1                                                                                       15.76714                      0.0                0.0                         2.2                       4              3.0                       2  IND                   2\n",
            "331         362  2020-12-28                              3   India  10224303.0   9807569.0  148153.0                                 0.0000                                1                                                                                       15.44371                      0.0                0.0                         2.2                       4              3.0                       2  IND                   2\n",
            "332         363  2020-12-29                              3   India  10244852.0   9834141.0  148439.0                                 0.0000                                1                                                                                       15.09171                      0.0                0.0                         2.2                       4              3.0                       2  IND                   2\n",
            "333         364  2020-12-30                              3   India  10266674.0   9860280.0  148738.0                                 0.0000                                1                                                                                       14.79257                      0.0                0.0                         2.1                       4              3.0                       2  IND                   2\n",
            "334         365  2020-12-31                              3   India  10266674.0   9860280.0  148738.0                                 0.0000                                1                                                                                       12.40471                      0.0                0.0                         1.8                       4              3.0                       2  IND                   2\n",
            "335         366  2021-01-01                              3   India  10286709.0   9883461.0  148994.0                                 0.0000                                1                                                                                       12.17300                      0.0                0.0                         1.7                       4              3.0                       2  IND                   2\n",
            "336         367  2021-01-02                              3   India  10323965.0   9927310.0  149435.0                                 0.0000                                1                                                                                       14.09057                      0.0                0.0                         2.0                       4              3.0                       2  IND                   2\n",
            "337         368  2021-01-03                              3   India  10340469.0   9946867.0  149649.0                                 0.0000                                1                                                                                       13.72643                      0.0                0.0                         2.0                       4              3.0                       2  IND                   2\n",
            "338         369  2021-01-04                              3   India  10356844.0   9975958.0  149850.0                                 0.0000                                1                                                                                       13.72057                      0.0                0.0                         1.9                       4              3.0                       2  IND                   2\n",
            "339         370  2021-01-05                              3   India  10374932.0   9997272.0  150114.0                                 0.0000                                1                                                                                       13.46571                      0.0                0.0                         1.9                       4              3.0                       2  IND                   2\n",
            "340         371  2021-01-06                              3   India  10395278.0  10016859.0  150336.0                                 0.0000                                1                                                                                       13.31286                      0.0                0.0                         2.0                       4              3.0                       2  IND                   2\n",
            "341         372  2021-01-07                              3   India  10413417.0  10037398.0  150570.0                                 0.0000                                1                                                                                       15.19057                      0.0                0.0                         2.3                       4              3.0                       2  IND                   2\n",
            "342         373  2021-01-08                              3   India  10413417.0  10037398.0  150570.0                                 0.0000                                1                                                                                       13.11657                      0.0                0.0                         2.0                       4              3.0                       2  IND                   2\n",
            "343         374  2021-01-09                              3   India  10450284.0  10075950.0  150999.0                                 0.0000                                1                                                                                       13.07629                      0.0                0.0                         2.0                       4              3.0                       2  IND                   2\n",
            "344         375  2021-01-10                              3   India  10466595.0  10092909.0  151160.0                                 0.0000                                1                                                                                       13.05643                      0.0                0.0                         2.0                       4              3.0                       2  IND                   2\n",
            "345         376  2021-01-11                              3   India  10479179.0  10111294.0  151327.0                                 0.0000                                1                                                                                       12.66400                      0.0                0.0                         2.0                       4              3.0                       2  IND                   2\n",
            "346         377  2021-01-12                              3   India  10495147.0  10129111.0  151529.0                                 0.0000                                1                                                                                       12.44457                      0.0                0.0                         2.0                       4              3.0                       2  IND                   2\n",
            "347         378  2021-01-13                              3   India  10512093.0  10146763.0  151727.0                                 0.0000                                1                                                                                       12.09271                      0.0                0.0                         1.9                       4              3.0                       2  IND                   2\n",
            "348         379  2021-01-14                              3   India  10527683.0  10162738.0  151918.0                                 0.0000                                1                                                                                       11.82886                      0.0                0.0                         2.0                       4              3.0                       2  IND                   2\n",
            "349         380  2021-01-15                              3   India  10542841.0  10179715.0  152093.0                                 0.0000                                1                                                                                       13.39800                      0.0                0.0                         2.3                       4              3.0                       2  IND                   2\n",
            "350         381  2021-01-16                              3   India  10557985.0  10196885.0  152274.0                                 0.0139                                1                                                                                       11.14929                      0.0           191181.0                         2.0                       4              3.0                       2  IND                   2\n",
            "351         382  2021-01-17                              3   India  10571773.0  10211342.0  152419.0                                 0.0081                                1                                                                                       10.88800                      0.0           224301.0                         1.9                       4              3.0                       2  IND                   2\n",
            "352         383  2021-01-18                              3   India  10581823.0  10228753.0  152556.0                                 0.0110                                1                                                                                       10.62571                      0.0           454049.0                         1.9                       4              3.0                       2  IND                   2\n",
            "353         384  2021-01-19                              3   India  10595639.0  10245741.0  152718.0                                 0.0122                                1                                                                                       10.40300                      0.0           674835.0                         2.0                       4              3.0                       2  IND                   2\n",
            "354         385  2021-01-20                              3   India  10610883.0  10265706.0  152869.0                                 0.0117                                1                                                                                       10.22671                      0.0           806484.0                         1.9                       4              3.0                       2  IND                   2\n",
            "355         386  2021-01-21                              3   India  10625428.0  10283702.0  153032.0                                 0.0126                                1                                                                                       10.11857                      0.0          1043534.0                         1.9                       4              3.0                       2  IND                   2\n",
            "356         387  2021-01-22                              3   India  10639684.0  10300838.0  153184.0                                 0.0144                                1                                                                                       10.02514                      0.0          1390592.0                         1.9                       4              3.0                       2  IND                   2\n",
            "357         388  2021-01-23                              3   India  10654533.0  10316786.0  153339.0                                 0.0144                                1                                                                                        9.99457                      0.0          1582201.0                         1.8                       4              3.0                       2  IND                   2\n",
            "358         389  2021-01-24                              3   India  10667736.0  10330084.0  153470.0                                 0.0144                                1                                                                                        9.93400                      0.0          1615504.0                         1.8                       4              3.0                       2  IND                   2\n",
            "359         390  2021-01-25                              3   India  10676838.0  10345985.0  153587.0                                 0.0163                                1                                                                                        9.83586                      0.0          2023809.0                         1.8                       4              3.0                       2  IND                   2\n",
            "360         391  2021-01-26                              3   India  10689527.0  10359305.0  153724.0                                 0.0140                                1                                                                                        9.71914                      0.0          2029480.0                         1.8                       4              3.0                       3  IND                   2\n",
            "361         392  2021-01-27                              3   India  10701193.0  10373606.0  153847.0                                 0.0160                                0                                                                                        9.34886                      0.0          2355979.0                         1.8                       4              3.0                       3  IND                   2\n",
            "362         393  2021-01-28                              3   India  10720048.0  10394352.0  154010.0                                 0.0195                                0                                                                                        9.79500                      0.0          2928053.0                         1.9                       4              3.0                       3  IND                   2\n",
            "363         394  2021-01-29                              3   India  10733130.0  10409146.0  154147.0                                 0.0218                                0                                                                                        9.67357                      0.0          3500027.0                         1.9                       4              3.0                       3  IND                   2\n",
            "364         395  2021-01-30                              3   India  10746174.0  10423109.0  154274.0                                 0.0224                                0                                                                                        9.48671                      0.0          3744334.0                         1.9                       4              3.0                       3  IND                   2\n",
            "365         396  2021-01-31                              3   India  10757610.0  10434983.0  154392.0                                 0.0222                                0                                                                                        9.30386                      0.0          3758843.0                         1.9                       4              3.0                       3  IND                   2\n",
            "366         397  2021-02-01                              3   India  10766245.0  10448406.0  154486.0                                 0.0199                                0                                                                                        9.25543                      0.0          3950156.0                         1.9                       4              3.0                       3  IND                   2\n",
            "367         398  2021-02-02                              3   India  10777284.0  10462631.0  154596.0                                 0.0218                                0                                                                                        9.08457                      0.0          4138918.0                         1.9                       4              3.0                       3  IND                   2\n",
            "368         399  2021-02-03                              3   India  10790183.0  10480455.0  154703.0                                 0.0217                                0                                                                                        9.21214                      0.0          4449552.0                         1.8                       4              3.0                       3  IND                   2\n",
            "369         400  2021-02-04                              3   India  10802591.0  10496308.0  154823.0                                 0.0210                                0                                                                                        8.54471                      0.0          4959445.0                         1.7                       4              3.0                       3  IND                   2\n",
            "370         401  2021-02-05                              3   India  10814304.0  10510796.0  154918.0                                 0.0198                                0                                                                                        8.40300                      0.0          5416849.0                         1.7                       4              3.0                       3  IND                   2\n",
            "371         402  2021-02-06                              3   India  10826363.0  10522601.0  154996.0                                 0.0210                                0                                                                                        8.30100                      0.0          5775322.0                         1.7                       4              3.0                       3  IND                   2\n",
            "372         403  2021-02-07                              3   India  10838194.0  10534505.0  155080.0                                 0.0213                                0                                                                                        8.34186                      0.0          5812362.0                         1.7                       4              3.0                       3  IND                   2\n",
            "373         404  2021-02-08                              3   India  10847304.0  10548521.0  155158.0                                 0.0239                                0                                                                                        8.39100                      0.0          6259008.0                         1.7                       4              3.0                       3  IND                   2\n",
            "374         405  2021-02-09                              3   India  10858371.0  10561608.0  155252.0                                 0.0256                                0                                                                                        8.39400                      0.0          6611561.0                         1.7                       4              3.0                       3  IND                   2\n",
            "375         406  2021-02-10                              3   India  10871294.0  10573372.0  155360.0                                 0.0266                                0                                                                                        8.39643                      0.0          7017114.0                         1.7                       4              3.0                       3  IND                   2\n",
            "376         407  2021-02-11                              3   India  10880603.0  10589230.0  155447.0                                 0.0264                                0                                                                                        8.07571                      0.0          7505010.0                         1.6                       4              3.0                       3  IND                   2\n",
            "377         408  2021-02-12                              3   India  10892746.0  10600625.0  155550.0                                 0.0264                                0                                                                                        8.12014                      0.0          7967647.0                         1.6                       4              3.0                       3  IND                   2\n",
            "378         409  2021-02-13                              3   India  10904940.0  10611731.0  155642.0                                 0.0236                                0                                                                                        8.13414                   7668.0          8044786.0                         1.6                       4              3.0                       3  IND                   2\n",
            "379         410  2021-02-14                              3   India  10916589.0  10621220.0  155732.0                                 0.0256                                0                                                                                        8.11529                      0.0                0.0                         1.6                       4              3.0                       3  IND                   2\n",
            "380         411  2021-02-15                              3   India  10925710.0  10633025.0  155813.0                                 0.0234                                0                                                                                        8.11643                  98118.0          8418653.0                         1.6                       4              3.0                       3  IND                   2\n",
            "381         412  2021-02-16                              3   India  10937320.0  10644858.0  155913.0                                 0.0232                                0                                                                                        8.17257                 216339.0          8641002.0                         1.7                       4              3.0                       3  IND                   2\n",
            "382         413  2021-02-17                              3   India  10950201.0  10656845.0  156014.0                                 0.0225                                0                                                                                        8.16829                 342116.0          8844641.0                         1.7                       4              3.0                       3  IND                   2\n",
            "383         414  2021-02-18                              3   India  10963394.0  10667741.0  156111.0                                 0.0242                                0                                                                                        8.57029                 464932.0          9381591.0                         1.8                       4              3.0                       3  IND                   2\n",
            "384         415  2021-02-19                              3   India  10977387.0  10678048.0  156212.0                                 0.0257                                0                                                                                        8.76186                 756942.0          9693000.0                         1.8                       4              3.0                       3  IND                   2\n",
            "385         416  2021-02-20                              3   India  10991651.0  10689715.0  156302.0                                 0.0288                                0                                                                                        8.97614                 873940.0          9964383.0                         1.8                       4              3.0                       3  IND                   2\n",
            "386         417  2021-02-21                              3   India  11005850.0  10699410.0  156385.0                                 0.0290                                0                                                                                        9.24014                 960642.0         10124531.0                         1.9                       4              3.0                       3  IND                   2\n",
            "387         418  2021-02-22                              3   India  11016434.0  10712665.0  156463.0                                 0.0301                                0                                                                                        9.39171                1115542.0         10308552.0                         1.9                       4              3.0                       3  IND                   2\n",
            "388         419  2021-02-23                              3   India  11030176.0  10726702.0  156567.0                                 0.0316                                0                                                                                        9.61243                1321635.0         10585757.0                         1.9                       4              3.0                       3  IND                   2\n",
            "389         420  2021-02-24                              3   India  11046914.0  10738501.0  156705.0                                 0.0329                                1                                                                                       10.01171                1481754.0         10884879.0                         1.9                       4              2.0                       3  IND                   2\n",
            "390         421  2021-02-25                              3   India  11063491.0  10750680.0  156825.0                                 0.0333                                1                                                                                       10.36200                1860859.0         11206188.0                         2.0                       4              2.0                       3  IND                   2\n",
            "391         422  2021-02-26                              3   India  11079979.0  10763451.0  156938.0                                 0.0342                                1                                                                                       10.62029                2204083.0         11552857.0                         2.0                       4              2.0                       3  IND                   2\n",
            "392         423  2021-02-27                              3   India  11096731.0  10775169.0  157051.0                                 0.0352                                1                                                                                       10.87786                2453878.0         11788669.0                         2.0                       4              2.0                       3  IND                   2\n",
            "393         424  2021-02-28                              3   India  11112241.0  10786452.0  157157.0                                 0.0333                                1                                                                                       11.01357                2456191.0         11845075.0                         2.0                       4              2.0                       3  IND                   2\n",
            "394         425  2021-03-01                              3   India  11124527.0  10798921.0  157248.0                                 0.0355                                1                                                                                       11.18971                2597799.0         12256337.0                         2.0                       4              2.0                       3  IND                   2\n",
            "395         426  2021-03-02                              3   India  11139516.0  10812044.0  157346.0                                 0.0384                                1                                                                                       11.31886                2713978.0         12906771.0                         2.0                       4              2.0                       3  IND                   2\n",
            "396         427  2021-03-03                              3   India  11156923.0  10826075.0  157435.0                                 0.0440                                1                                                                                       11.38814                2876927.0         13739121.0                         2.0                       4              2.0                       3  IND                   2\n",
            "397         428  2021-03-04                              3   India  11173761.0  10839894.0  157548.0                                 0.0511                                1                                                                                       11.41514                3208668.0         14796835.0                         2.1                       4              2.0                       3  IND                   2\n",
            "398         429  2021-03-05                              3   India  11192045.0  10854126.0  157656.0                                 0.0594                                1                                                                                       11.60100                3501021.0         15996683.0                         2.1                       4              2.0                       3  IND                   2\n",
            "399         430  2021-03-06                              3   India  11210799.0  10868520.0  157756.0                                 0.0691                                1                                                                                       11.80829                3754041.0         17168303.0                         2.2                       4              2.0                       3  IND                   2\n",
            "400         431  2021-03-07                              3   India  11229398.0  10882798.0  157853.0                                 0.0692                                1                                                                                       12.12800                3761107.0         17227903.0                         2.3                       4              2.0                       3  IND                   2\n",
            "401         432  2021-03-08                              3   India  11244786.0  10899394.0  157930.0                                 0.0844                                1                                                                                       12.44914                4065450.0         18943283.0                         2.3                       4              2.0                       3  IND                   2\n",
            "402         433  2021-03-09                              3   India  11262707.0  10920046.0  158063.0                                 0.0906                                0                                                                                       12.75257                4363679.0         20004227.0                         2.4                       4              2.0                       3  IND                   2\n",
            "403         434  2021-03-10                              3   India  11285561.0  10938146.0  158189.0                                 0.0939                                0                                                                                       13.31643                4650530.0         21034481.0                         2.5                       4              2.0                       3  IND                   2\n",
            "404         435  2021-03-11                              3   India  11308846.0  10953303.0  158306.0                                 0.0845                                0                                                                                       13.98386                4729079.0         21435841.0                         2.7                       4              2.0                       3  IND                   2\n",
            "405         436  2021-03-12                              3   India  11333728.0  10973260.0  158446.0                                 0.0903                                0                                                                                       14.66686                5142953.0         23075504.0                         2.8                       4              2.0                       3  IND                   2\n",
            "406         437  2021-03-13                              3   India  11359048.0  10989897.0  158607.0                                 0.0913                                0                                                                                       15.34657                5430774.0         24307635.0                         2.9                       4              2.0                       3  IND                   2\n",
            "407         438  2021-03-14                              3   India  11385339.0  11007352.0  158725.0                                 0.0923                                0                                                                                       16.14286                5455653.0         24452385.0                         3.0                       4              2.0                       3  IND                   2\n",
            "408         439  2021-03-15                              3   India  11409831.0  11027543.0  158856.0                                 0.1029                                0                                                                                       17.08529                5867948.0         27079484.0                         3.1                       4              2.0                       3  IND                   2\n",
            "409         440  2021-03-16                              3   India  11438734.0  11045284.0  159044.0                                 0.1107                                0                                                                                       18.22214                6202499.0         28862037.0                         3.2                       4              2.0                       3  IND                   2\n",
            "410         441  2021-03-17                              3   India  11474605.0  11063025.0  159216.0                                 0.1186                                0                                                                                       19.56957                6542468.0         30600787.0                         3.3                       4              2.0                       3  IND                   2\n",
            "411         442  2021-03-18                              3   India  11514331.0  11083679.0  159370.0                                 0.1364                                0                                                                                       21.27157                6913587.0         32426230.0                         3.4                       4              2.0                       3  IND                   2\n",
            "412         443  2021-03-19                              3   India  11555284.0  11107332.0  159558.0                                 0.1433                                0                                                                                       22.93529                7221362.0         34842030.0                         3.5                       4              2.0                       3  IND                   2\n",
            "413         444  2021-03-20                              3   India  11599130.0  11130288.0  159755.0                                 0.1539                                0                                                                                       24.85300                7478654.0         37125187.0                         3.6                       4              2.0                       3  IND                   2\n",
            "414         445  2021-03-21                              3   India  11646081.0  11151468.0  159967.0                                 0.1569                                0                                                                                       26.99171                7491696.0         37574302.0                         3.9                       4              2.0                       3  IND                   2\n",
            "415         446  2021-03-22                              3   India  11686796.0  11181253.0  160166.0                                 0.1609                                0                                                                                       28.67114                7863441.0         40631153.0                         3.9                       4              2.0                       3  IND                   2\n",
            "416         447  2021-03-23                              3   India  11734058.0  11205160.0  160441.0                                 0.1633                                0                                                                                       30.57171                8109334.0         42731952.0                         4.1                       4              2.0                       3  IND                   2\n",
            "417         448  2021-03-24                              3   India  11787534.0  11231650.0  160692.0                                 0.1657                                0                                                                                       32.39429                8299171.0         44846538.0                         4.4                       4              2.0                       3  IND                   2\n",
            "418         449  2021-03-25                              3   India  11846652.0  11264637.0  160949.0                                 0.1673                                0                                                                                       34.40171                8502968.0         47001472.0                         4.6                       4              2.0                       3  IND                   2\n",
            "419         450  2021-03-26                              3   India  11908910.0  11295023.0  161240.0                                 0.1661                                0                                                                                       36.60714                8683155.0         49426618.0                         4.9                       4              2.0                       3  IND                   2\n",
            "420         451  2021-03-27                              3   India  11971624.0  11323762.0  161552.0                                 0.1622                                0                                                                                       38.56043                8828346.0         51441436.0                         5.1                       4              2.0                       3  IND                   2\n",
            "421         452  2021-03-28                              3   India  12039644.0  11355993.0  161843.0                                 0.1601                                0                                                                                       40.74157                8870201.0         51660234.0                         5.2                       4              2.0                       3  IND                   2\n",
            "422         453  2021-03-29                              3   India  12095855.0  11393021.0  162114.0                                 0.1306                                0                                                                                       42.34557                8901956.0         52211398.0                         5.5                       4              2.0                       3  IND                   2\n",
            "423         454  2021-03-30                              3   India  12149335.0  11434301.0  162468.0                                 0.1264                                0                                                                                       42.98929                9065318.0         53989035.0                         5.7                       4              2.0                       3  IND                   2\n",
            "424         455  2021-03-31                              3   India  12221665.0  11474683.0  162927.0                                 0.1239                                0                                                                                       44.94100                9334695.0         55783201.0                         6.0                       4              2.0                       3  IND                   2\n",
            "425         456  2021-04-01                              3   India  12303131.0  11525039.0  163396.0                                 0.1375                                0                                                                                       47.25443                9640340.0         59148798.0                         6.3                       4              2.0                       3  IND                   2\n",
            "426         457  2021-04-02                              3   India  12392260.0  11569241.0  164110.0                                 0.1547                                0                                                                                       50.03614                9972706.0         63081589.0                         6.6                       4              2.0                       3  IND                   2\n",
            "427         458  2021-04-03                              3   India  12485509.0  11629289.0  164623.0                                 0.1626                                2                                                                                       53.19714               10240181.0         65739470.0                         7.1                       4              2.0                       3  IND                   2\n",
            "428         459  2021-04-04                              3   India  12589067.0  11682136.0  165101.0                                 0.1923                                2                                                                                       56.87600               10426325.0         68678838.0                         7.7                       4              2.0                       3  IND                   2\n",
            "429         460  2021-04-05                              3   India  12686049.0  11732279.0  165547.0                                 0.2277                                2                                                                                       61.09671               10833617.0         72277309.0                         8.2                       4              3.0                       3  IND                   2\n",
            "430         461  2021-04-06                              3   India  12801785.0  11792135.0  166177.0                                 0.2487                                2                                                                                       67.54129               11140459.0         75937015.0                         8.6                       4              3.0                       3  IND                   2\n",
            "431         462  2021-04-07                              3   India  12928574.0  11851393.0  166862.0                                 0.2596                                2                                                                                       73.17886               11435646.0         78763027.0                         9.1                       4              3.0                       3  IND                   2\n",
            "432         463  2021-04-08                              3   India  13060542.0  11913292.0  167642.0                                 0.2644                                2                                                                                       78.40686               11877740.0         82456522.0                         9.6                       4              3.0                       3  IND                   2\n",
            "433         464  2021-04-09                              3   India  13205926.0  11990859.0  168436.0                                 0.2590                                2                                                                                       84.23029               12311308.0         85763852.0                        10.0                       4              3.0                       3  IND                   2\n",
            "434         465  2021-04-10                              3   India  13358805.0  12081443.0  169275.0                                 0.2652                                2                                                                                       90.40314               12709186.0         88885961.0                        10.6                       4              3.0                       3  IND                   2\n",
            "435         466  2021-04-11                              3   India  13527717.0  12156529.0  170179.0                                 0.2632                                2                                                                                       97.16857               12941165.0         91587400.0                        11.0                       4              3.0                       3  IND                   2\n",
            "436         467  2021-04-12                              3   India  13689453.0  12253697.0  171058.0                                 0.2632                                2                                                                                      103.87186               13490046.0         95043039.0                        11.4                       4              3.0                       3  IND                   2\n",
            "437         468  2021-04-13                              3   India  13873825.0  12336036.0  172085.0                                 0.2495                                2                                                                                      110.97700               13877664.0         97301914.0                        11.9                       4              3.0                       3  IND                   2\n",
            "438         469  2021-04-14                              3   India  14074564.0  12429564.0  173123.0                                 0.2515                                2                                                                                      118.63229               14314039.0        100179199.0                        12.5                       4              3.0                       3  IND                   2\n",
            "439         470  2021-04-15                              3   India  14291917.0  12547866.0  174308.0                                 0.2369                                2                                                                                      127.47129               14874254.0        102349255.0                        13.2                       4              3.0                       3  IND                   2\n",
            "440         471  2021-04-16                              3   India  14526609.0  12671220.0  175649.0                                 0.2263                                2                                                                                      136.71643               15529157.0        104408484.0                        14.0                       4              3.0                       3  IND                   2\n",
            "441         472  2021-04-17                              3   India  14788003.0  12809638.0  177150.0                                 0.2177                                2                                                                                      147.94971               16191514.0        106431076.0                        14.6                       4              3.0                       3  IND                   2\n",
            "442         473  2021-04-18                              3   India  15061805.0  12953817.0  178769.0                                 0.2000                                2                                                                                      158.80786               16480796.0        107371770.0                        15.5                       4              3.0                       3  IND                   2\n",
            "443         474  2021-04-19                              3   India  15320972.0  13108565.0  180530.0                                 0.1925                                2                                                                                      168.89386               17469932.0        109659181.0                        16.2                       4              3.0                       3  IND                   3\n",
            "444         475  2021-04-20                              3   India  15616130.0  13276039.0  182553.0                                 0.1781                                2                                                                                      180.36243                      0.0                0.0                        17.1                       4              3.0                       3  IND                   3\n",
            "445         476  2021-04-21                              3   India  15930774.0  13454880.0  184657.0                                 0.1569                                2                                                                                      192.15371               17972744.0        111673361.0                        17.8                       4              3.0                       3  IND                   3\n",
            "446         477  2021-04-22                              3   India  16263695.0  13648159.0  186920.0                                 0.1608                                2                                                                                      204.11714               19170339.0        113584269.0                        18.4                       4              3.0                       3  IND                   3\n",
            "447         478  2021-04-23                              3   India  16610481.0  13867997.0  189544.0                                 0.1549                                2                                                                                      215.72100                      0.0                0.0                        19.0                       4              3.0                       3  IND                   3\n",
            "448         479  2021-04-24                              3   India  16960172.0  14085110.0  192311.0                                 0.1493                                2                                                                                      224.86143                      0.0                0.0                        19.3                       4              3.0                       3  IND                   3\n",
            "449         480  2021-04-25                              3   India  17313163.0  14304382.0  195123.0                                 0.1587                                2                                                                                      233.05900               21390165.0        117795008.0                        19.8                       4              3.0                       3  IND                   3\n",
            "450         481  2021-04-26                              3   India  17636186.0  14556089.0  197894.0                                 0.1594                                2                                                                                      239.66929               22638695.0        119886252.0                        20.3                       4              3.0                       3  IND                   3\n",
            "451         482  2021-04-27                              3   India  17997113.0  14817240.0  201187.0                                 0.1707                                2                                                                                      246.47757               23615946.0        121263287.0                        20.6                       4              3.0                       3  IND                   3\n",
            "452         483  2021-04-28                              3   India  18376421.0  15086740.0  204832.0                                 0.1802                                2                                                                                      253.17157               24515213.0        122538179.0                        21.0                       4              3.0                       3  IND                   3\n",
            "453         484  2021-04-29                              3   India  18762976.0  15384418.0  208330.0                                 0.1710                                2                                                                                      258.72371               25456864.0        123811908.0                        21.2                       4              3.0                       3  IND                   3\n",
            "454         485  2021-04-30                              3   India  19164969.0  15684406.0  211853.0                                 0.1770                                2                                                                                      264.43871               26621155.0        125376952.0                        21.4                       4              3.0                       3  IND                   3\n",
            "455         486  2021-05-01                              3   India  19557457.0  15992271.0  215542.0                                 0.1717                                2                                                                                      268.86914               27297355.0        126328970.0                        21.4                       4              3.0                       3  IND                   3\n",
            "456         487  2021-05-02                              3   India  19925517.0  16292725.0  218959.0                                 0.1556                                2                                                                                      270.42900               27507360.0        126704151.0                        21.4                       4              3.0                       3  IND                   3\n",
            "457         488  2021-05-03                              3   India  20282833.0  16613292.0  222408.0                                 0.1403                                2                                                                                      273.97900               28385461.0        127696675.0                        21.5                       4              3.0                       3  IND                   3\n",
            "458         489  2021-05-04                              3   India  20664979.0  16951521.0  226188.0                                 0.1332                                2                                                                                      276.17571               29122833.0        128627919.0                        21.6                       4              3.0                       3  IND                   3\n",
            "459         490  2021-05-05                              3   India  21077410.0  17280844.0  230168.0                                 0.1333                                2                                                                                      279.60457               30200597.0        129730641.0                        22.2                       4              3.0                       3  IND                   3\n",
            "460         491  2021-05-06                              3   India  21491598.0  17612351.0  234083.0                                 0.1380                                2                                                                                      282.46514               31544713.0        131058890.0                        22.2                       4              3.0                       3  IND                   3\n",
            "461         492  2021-05-07                              3   India  21892676.0  17930960.0  238270.0                                 0.1366                                2                                                                                      282.37043               32895173.0        132294827.0                        22.3                       4              3.0                       3  IND                   3\n",
            "462         493  2021-05-08                              3   India  22296081.0  18317364.0  242347.0                                 0.1436                                2                                                                                      283.50057               34127375.0        133366482.0                        22.7                       4              3.0                       3  IND                   3\n",
            "463         494  2021-05-09                              3   India  22662575.0  18671222.0  246116.0                                 0.1459                                2                                                                                      283.33857               34450192.0        133854676.0                        22.6                       4              3.0                       3  IND                   3\n",
            "464         495  2021-05-10                              3   India  22992517.0  19027304.0  249992.0                                 0.1555                                2                                                                                      280.50486               35906905.0        135192013.0                        22.4                       4              3.0                       3  IND                   3\n"
          ],
          "name": "stdout"
        }
      ]
    },
    {
      "cell_type": "code",
      "metadata": {
        "id": "99Sm-Wu9jIj3",
        "colab": {
          "base_uri": "https://localhost:8080/"
        },
        "outputId": "2bbafe89-ada7-4258-bfe6-563248dece23"
      },
      "source": [
        "#\n",
        "# When did the lockdown start = '24 March 2020 '\n",
        "# When did the lockdown end = '1 June 2020'\n",
        "\n",
        "# set the desired start date and end date to filter *df*\n",
        "start_date = '2020-03-24'\n",
        "end_date = '2020-06-01'\n",
        "\n",
        "# set the lockdown_infections_df\n",
        "lockdown_infections_df = (indiadf['day'] > start_date) & (df['day'] <= end_date)\n",
        "\n",
        "# assign lockdown_infections_df to df1 to return the rows with days between our specified start/end dates\n",
        "df1 = indiadf.loc[lockdown_infections_df]\n",
        "\n",
        "# count the total number of infections during the lockdown period in India.\n",
        "Total_infections = df1['confirmed'].sum()\n",
        "print (\"The total number of infections during the lockdown period in India is : \", Total_infections)"
      ],
      "execution_count": null,
      "outputs": [
        {
          "output_type": "stream",
          "text": [
            "The total number of infections during the lockdown period in India is :  15724929.0\n"
          ],
          "name": "stdout"
        }
      ]
    },
    {
      "cell_type": "code",
      "metadata": {
        "id": "mIC9CgHrUnut",
        "colab": {
          "base_uri": "https://localhost:8080/"
        },
        "outputId": "4476c0c6-b669-4d03-d689-3eb39e295f5f"
      },
      "source": [
        "# group confirmed cases by day with the gvt strictiness to movements.\n",
        "# 2 means the goverment was so strict as per the data description.\n",
        "analysis = df1.groupby(by= 'day')['confirmed','restrictions_internal_movements'].sum()\n",
        "print(analysis.to_string(), sep='\\n')"
      ],
      "execution_count": null,
      "outputs": [
        {
          "output_type": "stream",
          "text": [
            "            confirmed  restrictions_internal_movements\n",
            "day                                                   \n",
            "2020-03-25      657.0                                2\n",
            "2020-03-26      727.0                                2\n",
            "2020-03-27      887.0                                2\n",
            "2020-03-28      987.0                                2\n",
            "2020-03-29     1024.0                                2\n",
            "2020-03-30     1251.0                                2\n",
            "2020-03-31     1397.0                                2\n",
            "2020-04-01     1998.0                                2\n",
            "2020-04-02     2543.0                                2\n",
            "2020-04-03     2567.0                                2\n",
            "2020-04-04     3082.0                                2\n",
            "2020-04-05     3588.0                                2\n",
            "2020-04-06     4778.0                                2\n",
            "2020-04-07     5311.0                                2\n",
            "2020-04-08     5916.0                                2\n",
            "2020-04-09     6725.0                                2\n",
            "2020-04-10     7598.0                                2\n",
            "2020-04-11     8446.0                                2\n",
            "2020-04-12     9205.0                                2\n",
            "2020-04-13    10453.0                                2\n",
            "2020-04-14    11487.0                                2\n",
            "2020-04-15    12322.0                                2\n",
            "2020-04-16    13430.0                                2\n",
            "2020-04-17    14352.0                                2\n",
            "2020-04-18    15722.0                                2\n",
            "2020-04-19    17615.0                                2\n",
            "2020-04-20    18539.0                                2\n",
            "2020-04-21    20080.0                                2\n",
            "2020-04-22    21370.0                                2\n",
            "2020-04-23    23077.0                                2\n",
            "2020-04-24    24530.0                                2\n",
            "2020-04-25    26283.0                                2\n",
            "2020-04-26    27890.0                                2\n",
            "2020-04-27    29451.0                                2\n",
            "2020-04-28    31324.0                                2\n",
            "2020-04-29    33062.0                                2\n",
            "2020-04-30    34863.0                                2\n",
            "2020-05-01    37257.0                                2\n",
            "2020-05-02    39699.0                                2\n",
            "2020-05-03    42505.0                                2\n",
            "2020-05-04    46437.0                                2\n",
            "2020-05-05    49400.0                                2\n",
            "2020-05-06    52987.0                                2\n",
            "2020-05-07    56351.0                                2\n",
            "2020-05-08    59695.0                                2\n",
            "2020-05-09    62808.0                                2\n",
            "2020-05-10    67161.0                                2\n",
            "2020-05-11    70768.0                                2\n",
            "2020-05-12    74292.0                                2\n",
            "2020-05-13    78055.0                                2\n",
            "2020-05-14    81997.0                                2\n",
            "2020-05-15    85784.0                                2\n",
            "2020-05-16    90648.0                                2\n",
            "2020-05-17    95698.0                                2\n",
            "2020-05-18   100328.0                                2\n",
            "2020-05-19   106475.0                                2\n",
            "2020-05-20   112028.0                                2\n",
            "2020-05-21   118226.0                                2\n",
            "2020-05-22   124794.0                                2\n",
            "2020-05-23   131423.0                                2\n",
            "2020-05-24   138536.0                                2\n",
            "2020-05-25   144950.0                                2\n",
            "2020-05-26   150793.0                                2\n",
            "2020-05-27   158086.0                                2\n",
            "2020-05-28   165386.0                                2\n",
            "2020-05-29   173491.0                                2\n",
            "2020-05-30   181827.0                                2\n",
            "2020-05-31   190609.0                                2\n",
            "2020-06-01   198370.0                                2\n",
            "2020-06-02   207191.0                                2\n",
            "2020-06-03   216824.0                                2\n",
            "2020-06-04   226713.0                                2\n",
            "2020-06-05   236184.0                                2\n",
            "2020-06-06   246622.0                                2\n",
            "2020-06-07   257486.0                                2\n",
            "2020-06-08   265928.0                                2\n",
            "2020-06-09   276146.0                                2\n",
            "2020-06-10   286605.0                                2\n",
            "2020-06-11   297535.0                                2\n",
            "2020-06-12   308993.0                                2\n",
            "2020-06-13   320922.0                                2\n",
            "2020-06-14   332424.0                                2\n",
            "2020-06-15   343091.0                                2\n",
            "2020-06-16   354065.0                                2\n",
            "2020-06-17   366946.0                                2\n",
            "2020-06-18   380532.0                                2\n",
            "2020-06-19   395048.0                                2\n",
            "2020-06-20   410451.0                                2\n",
            "2020-06-21   425282.0                                2\n",
            "2020-06-22   440215.0                                2\n",
            "2020-06-23   456183.0                                2\n",
            "2020-06-24   473105.0                                2\n",
            "2020-06-25   490401.0                                2\n",
            "2020-06-26   508953.0                                2\n",
            "2020-06-27   528859.0                                2\n",
            "2020-06-28   548318.0                                2\n",
            "2020-06-29   566840.0                                2\n",
            "2020-06-30   585481.0                                2\n",
            "2020-07-01   604641.0                                2\n",
            "2020-07-02   625544.0                                2\n"
          ],
          "name": "stdout"
        },
        {
          "output_type": "stream",
          "text": [
            "/usr/local/lib/python3.7/dist-packages/ipykernel_launcher.py:3: FutureWarning: Indexing with multiple keys (implicitly converted to a tuple of keys) will be deprecated, use a list instead.\n",
            "  This is separate from the ipykernel package so we can avoid doing imports until\n"
          ],
          "name": "stderr"
        }
      ]
    },
    {
      "cell_type": "code",
      "metadata": {
        "id": "OANpuTR9uiSh",
        "colab": {
          "base_uri": "https://localhost:8080/",
          "height": 535
        },
        "outputId": "1c10b316-1ae5-4805-849d-130591be2358"
      },
      "source": [
        "#\n",
        "#create bar graph\n",
        "bargraph = df1.plot.bar(figsize= (15,7), x = 'day', y = 'confirmed', fontsize='12')\n",
        "plt.xlabel('Time (in Days)')\n",
        "plt.ylabel('Number of infected individuals (\\'000)')\n",
        "plt.title('Lockdown Period Confirmed Cases')"
      ],
      "execution_count": null,
      "outputs": [
        {
          "output_type": "execute_result",
          "data": {
            "text/plain": [
              "Text(0.5, 1.0, 'Lockdown Period Confirmed Cases')"
            ]
          },
          "metadata": {
            "tags": []
          },
          "execution_count": 53
        },
        {
          "output_type": "display_data",
          "data": {
            "image/png": "[encoded data removed]",
            "text/plain": [
              "<Figure size 1080x504 with 1 Axes>"
            ]
          },
          "metadata": {
            "tags": [],
            "needs_background": "light"
          }
        }
      ]
    },
    {
      "cell_type": "markdown",
      "metadata": {
        "id": "hgf_HmOrxBdA"
      },
      "source": [
        "To illustrate the effect of government mandated lockdown on the spread of COVID-19."
      ]
    },
    {
      "cell_type": "code",
      "metadata": {
        "id": "-5fIM4jGa-v6",
        "colab": {
          "base_uri": "https://localhost:8080/"
        },
        "outputId": "64fe03ad-0667-4164-8dc8-f78ccf05e4ad"
      },
      "source": [
        "# To illustrate the effect of government mandated lockdown on the spread of COVID-19.\n",
        "# Duration when there was no lockdown was from  2020-02-01 to 2020-03-24.\n",
        "# \n",
        "pre_lockdown_confirmed_df = indiadf[(indiadf['day'] <= '2020-03-24')]\n",
        "pre_lockdown_confirmed_df.sort_values(\"day\", ascending= True)\n",
        "\n",
        "# count the total number of confirmed cases before the lockdown. \n",
        "\n",
        "Totalprelockconfirmed = pre_lockdown_confirmed_df['confirmed'].sum()\n",
        "print (\"The total number of confirmed cases before the lockdown is : \", Totalprelockconfirmed)"
      ],
      "execution_count": null,
      "outputs": [
        {
          "output_type": "stream",
          "text": [
            "The total number of confirmed cases before the lockdown is :  3406.0\n"
          ],
          "name": "stdout"
        }
      ]
    },
    {
      "cell_type": "code",
      "metadata": {
        "id": "dqvDPWtvpH_G",
        "colab": {
          "base_uri": "https://localhost:8080/",
          "height": 444
        },
        "outputId": "9fba5244-fa7e-4a8d-dfb9-19805e51f0e2"
      },
      "source": [
        "#\n",
        "#create bar graph\n",
        "bargraph1 = pre_lockdown_confirmed_df.plot.bar(figsize=(15,5), x = 'day', y = 'confirmed', fontsize='15' )\n",
        "plt.xlabel('Time in Days')\n",
        "plt.ylabel('Number of infected individuals (\\'000)')\n",
        "plt.title('Pre-Lockdown Confirmed Cases')\n"
      ],
      "execution_count": null,
      "outputs": [
        {
          "output_type": "execute_result",
          "data": {
            "text/plain": [
              "Text(0.5, 1.0, 'Pre-Lockdown Confirmed Cases')"
            ]
          },
          "metadata": {
            "tags": []
          },
          "execution_count": 45
        },
        {
          "output_type": "display_data",
          "data": {
            "image/png": "[encoded data removed]",
            "text/plain": [
              "<Figure size 1080x360 with 1 Axes>"
            ]
          },
          "metadata": {
            "tags": [],
            "needs_background": "light"
          }
        }
      ]
    },
    {
      "cell_type": "code",
      "metadata": {
        "id": "Z-Khyu2HtaUz",
        "colab": {
          "base_uri": "https://localhost:8080/"
        },
        "outputId": "8f61879c-952d-485c-861b-d565b55f0082"
      },
      "source": [
        "# How many new infections were recorded after vaccination as compared to before?\n",
        "# When did vaccinations start?= 2021-01-16\n",
        "post_vaccination_confirmed_df = indiadf[(indiadf['day'] >= '2021-01-16')]\n",
        "post_vaccination_confirmed_df.sort_values(\"day\", ascending= True)\n",
        "\n",
        "# count the total number of confirmed cases after the first day of vaccination. \n",
        "\n",
        "Totalpostvaccinationconfirmed = post_vaccination_confirmed_df['confirmed'].sum()\n",
        "print (\"The total number of confirmed cases after the first day of vaccination is : \", Totalpostvaccinationconfirmed)\n"
      ],
      "execution_count": null,
      "outputs": [
        {
          "output_type": "stream",
          "text": [
            "The total number of confirmed cases after the first day of vaccination is :  1494443783.0\n"
          ],
          "name": "stdout"
        }
      ]
    },
    {
      "cell_type": "code",
      "metadata": {
        "id": "gOWWaQpgyTQV",
        "colab": {
          "base_uri": "https://localhost:8080/"
        },
        "outputId": "e48c807d-70ff-4a91-f31c-250492106523"
      },
      "source": [
        "#people who recovered or died after vaccination begun\n",
        "analysis2 = post_vaccination_confirmed_df.groupby(by= 'day')['deaths','recovered','confirmed'].sum()\n",
        "print(analysis2.to_string(), sep='\\n')\n"
      ],
      "execution_count": null,
      "outputs": [
        {
          "output_type": "stream",
          "text": [
            "              deaths   recovered   confirmed\n",
            "day                                         \n",
            "2021-01-16  152274.0  10196885.0  10557985.0\n",
            "2021-01-17  152419.0  10211342.0  10571773.0\n",
            "2021-01-18  152556.0  10228753.0  10581823.0\n",
            "2021-01-19  152718.0  10245741.0  10595639.0\n",
            "2021-01-20  152869.0  10265706.0  10610883.0\n",
            "2021-01-21  153032.0  10283702.0  10625428.0\n",
            "2021-01-22  153184.0  10300838.0  10639684.0\n",
            "2021-01-23  153339.0  10316786.0  10654533.0\n",
            "2021-01-24  153470.0  10330084.0  10667736.0\n",
            "2021-01-25  153587.0  10345985.0  10676838.0\n",
            "2021-01-26  153724.0  10359305.0  10689527.0\n",
            "2021-01-27  153847.0  10373606.0  10701193.0\n",
            "2021-01-28  154010.0  10394352.0  10720048.0\n",
            "2021-01-29  154147.0  10409146.0  10733130.0\n",
            "2021-01-30  154274.0  10423109.0  10746174.0\n",
            "2021-01-31  154392.0  10434983.0  10757610.0\n",
            "2021-02-01  154486.0  10448406.0  10766245.0\n",
            "2021-02-02  154596.0  10462631.0  10777284.0\n",
            "2021-02-03  154703.0  10480455.0  10790183.0\n",
            "2021-02-04  154823.0  10496308.0  10802591.0\n",
            "2021-02-05  154918.0  10510796.0  10814304.0\n",
            "2021-02-06  154996.0  10522601.0  10826363.0\n",
            "2021-02-07  155080.0  10534505.0  10838194.0\n",
            "2021-02-08  155158.0  10548521.0  10847304.0\n",
            "2021-02-09  155252.0  10561608.0  10858371.0\n",
            "2021-02-10  155360.0  10573372.0  10871294.0\n",
            "2021-02-11  155447.0  10589230.0  10880603.0\n",
            "2021-02-12  155550.0  10600625.0  10892746.0\n",
            "2021-02-13  155642.0  10611731.0  10904940.0\n",
            "2021-02-14  155732.0  10621220.0  10916589.0\n",
            "2021-02-15  155813.0  10633025.0  10925710.0\n",
            "2021-02-16  155913.0  10644858.0  10937320.0\n",
            "2021-02-17  156014.0  10656845.0  10950201.0\n",
            "2021-02-18  156111.0  10667741.0  10963394.0\n",
            "2021-02-19  156212.0  10678048.0  10977387.0\n",
            "2021-02-20  156302.0  10689715.0  10991651.0\n",
            "2021-02-21  156385.0  10699410.0  11005850.0\n",
            "2021-02-22  156463.0  10712665.0  11016434.0\n",
            "2021-02-23  156567.0  10726702.0  11030176.0\n",
            "2021-02-24  156705.0  10738501.0  11046914.0\n",
            "2021-02-25  156825.0  10750680.0  11063491.0\n",
            "2021-02-26  156938.0  10763451.0  11079979.0\n",
            "2021-02-27  157051.0  10775169.0  11096731.0\n",
            "2021-02-28  157157.0  10786452.0  11112241.0\n",
            "2021-03-01  157248.0  10798921.0  11124527.0\n",
            "2021-03-02  157346.0  10812044.0  11139516.0\n",
            "2021-03-03  157435.0  10826075.0  11156923.0\n",
            "2021-03-04  157548.0  10839894.0  11173761.0\n",
            "2021-03-05  157656.0  10854126.0  11192045.0\n",
            "2021-03-06  157756.0  10868520.0  11210799.0\n",
            "2021-03-07  157853.0  10882798.0  11229398.0\n",
            "2021-03-08  157930.0  10899394.0  11244786.0\n",
            "2021-03-09  158063.0  10920046.0  11262707.0\n",
            "2021-03-10  158189.0  10938146.0  11285561.0\n",
            "2021-03-11  158306.0  10953303.0  11308846.0\n",
            "2021-03-12  158446.0  10973260.0  11333728.0\n",
            "2021-03-13  158607.0  10989897.0  11359048.0\n",
            "2021-03-14  158725.0  11007352.0  11385339.0\n",
            "2021-03-15  158856.0  11027543.0  11409831.0\n",
            "2021-03-16  159044.0  11045284.0  11438734.0\n",
            "2021-03-17  159216.0  11063025.0  11474605.0\n",
            "2021-03-18  159370.0  11083679.0  11514331.0\n",
            "2021-03-19  159558.0  11107332.0  11555284.0\n",
            "2021-03-20  159755.0  11130288.0  11599130.0\n",
            "2021-03-21  159967.0  11151468.0  11646081.0\n",
            "2021-03-22  160166.0  11181253.0  11686796.0\n",
            "2021-03-23  160441.0  11205160.0  11734058.0\n",
            "2021-03-24  160692.0  11231650.0  11787534.0\n",
            "2021-03-25  160949.0  11264637.0  11846652.0\n",
            "2021-03-26  161240.0  11295023.0  11908910.0\n",
            "2021-03-27  161552.0  11323762.0  11971624.0\n",
            "2021-03-28  161843.0  11355993.0  12039644.0\n",
            "2021-03-29  162114.0  11393021.0  12095855.0\n",
            "2021-03-30  162468.0  11434301.0  12149335.0\n",
            "2021-03-31  162927.0  11474683.0  12221665.0\n",
            "2021-04-01  163396.0  11525039.0  12303131.0\n",
            "2021-04-02  164110.0  11569241.0  12392260.0\n",
            "2021-04-03  164623.0  11629289.0  12485509.0\n",
            "2021-04-04  165101.0  11682136.0  12589067.0\n",
            "2021-04-05  165547.0  11732279.0  12686049.0\n",
            "2021-04-06  166177.0  11792135.0  12801785.0\n",
            "2021-04-07  166862.0  11851393.0  12928574.0\n",
            "2021-04-08  167642.0  11913292.0  13060542.0\n",
            "2021-04-09  168436.0  11990859.0  13205926.0\n",
            "2021-04-10  169275.0  12081443.0  13358805.0\n",
            "2021-04-11  170179.0  12156529.0  13527717.0\n",
            "2021-04-12  171058.0  12253697.0  13689453.0\n",
            "2021-04-13  172085.0  12336036.0  13873825.0\n",
            "2021-04-14  173123.0  12429564.0  14074564.0\n",
            "2021-04-15  174308.0  12547866.0  14291917.0\n",
            "2021-04-16  175649.0  12671220.0  14526609.0\n",
            "2021-04-17  177150.0  12809638.0  14788003.0\n",
            "2021-04-18  178769.0  12953817.0  15061805.0\n",
            "2021-04-19  180530.0  13108565.0  15320972.0\n",
            "2021-04-20  182553.0  13276039.0  15616130.0\n",
            "2021-04-21  184657.0  13454880.0  15930774.0\n",
            "2021-04-22  186920.0  13648159.0  16263695.0\n",
            "2021-04-23  189544.0  13867997.0  16610481.0\n",
            "2021-04-24  192311.0  14085110.0  16960172.0\n",
            "2021-04-25  195123.0  14304382.0  17313163.0\n",
            "2021-04-26  197894.0  14556089.0  17636186.0\n",
            "2021-04-27  201187.0  14817240.0  17997113.0\n",
            "2021-04-28  204832.0  15086740.0  18376421.0\n",
            "2021-04-29  208330.0  15384418.0  18762976.0\n",
            "2021-04-30  211853.0  15684406.0  19164969.0\n",
            "2021-05-01  215542.0  15992271.0  19557457.0\n",
            "2021-05-02  218959.0  16292725.0  19925517.0\n",
            "2021-05-03  222408.0  16613292.0  20282833.0\n",
            "2021-05-04  226188.0  16951521.0  20664979.0\n",
            "2021-05-05  230168.0  17280844.0  21077410.0\n",
            "2021-05-06  234083.0  17612351.0  21491598.0\n",
            "2021-05-07  238270.0  17930960.0  21892676.0\n",
            "2021-05-08  242347.0  18317364.0  22296081.0\n",
            "2021-05-09  246116.0  18671222.0  22662575.0\n",
            "2021-05-10  249992.0  19027304.0  22992517.0\n"
          ],
          "name": "stdout"
        },
        {
          "output_type": "stream",
          "text": [
            "/usr/local/lib/python3.7/dist-packages/ipykernel_launcher.py:2: FutureWarning: Indexing with multiple keys (implicitly converted to a tuple of keys) will be deprecated, use a list instead.\n",
            "  \n"
          ],
          "name": "stderr"
        }
      ]
    },
    {
      "cell_type": "code",
      "metadata": {
        "id": "s4OZVrym9oBo",
        "colab": {
          "base_uri": "https://localhost:8080/",
          "height": 312
        },
        "outputId": "de707af8-b70f-4ab8-d6fc-24f2a32cbf86"
      },
      "source": [
        "lines = analysis2.plot.line()\n",
        "plt.xlabel('Time in Days')\n",
        "plt.ylabel('Number of infections, recoveries and deaths')\n",
        "plt.title('infections,recoveries,deaths after vaccination begun')\n"
      ],
      "execution_count": null,
      "outputs": [
        {
          "output_type": "execute_result",
          "data": {
            "text/plain": [
              "Text(0.5, 1.0, 'infections,recoveries,deaths after vaccination begun')"
            ]
          },
          "metadata": {
            "tags": []
          },
          "execution_count": 47
        },
        {
          "output_type": "display_data",
          "data": {
            "image/png": "[encoded data removed]",
            "text/plain": [
              "<Figure size 432x288 with 1 Axes>"
            ]
          },
          "metadata": {
            "tags": [],
            "needs_background": "light"
          }
        }
      ]
    },
    {
      "cell_type": "markdown",
      "metadata": {
        "id": "R5Bq795Zltf9"
      },
      "source": [
        "Checking for confirmed cases for each government policy during lockdown"
      ]
    },
    {
      "cell_type": "code",
      "metadata": {
        "id": "Xhk7b2mqddqi",
        "colab": {
          "base_uri": "https://localhost:8080/"
        },
        "outputId": "3042fc7d-5177-40cd-f28a-20b5c58e7f43"
      },
      "source": [
        "#subset dataset to stay home column only\n",
        "#Check the average for each of the categories and find which is highest/least\n",
        "#df['stay_home_requirements'].value_counts()\n",
        "df['stay_home_requirements']\n",
        "\n",
        "df.loc[df['stay_home_requirements']== 1, ['confirmed']].mean()\n",
        "#confirmed    39.5\n",
        "df.loc[df['stay_home_requirements']== 2 , ['confirmed']].mean()\n",
        "#confirmed :5.042112e+06\n",
        "df.loc[df['stay_home_requirements']== 3 , ['confirmed']].mean()\n",
        "#confirmed:9.384033e+06\n",
        "#When the stay home requirements were least strict , the number of confirmed cases was highest"
      ],
      "execution_count": null,
      "outputs": [
        {
          "output_type": "execute_result",
          "data": {
            "text/plain": [
              "confirmed    9.384033e+06\n",
              "dtype: float64"
            ]
          },
          "metadata": {
            "tags": []
          },
          "execution_count": 39
        }
      ]
    },
    {
      "cell_type": "code",
      "metadata": {
        "id": "qxKLJ9U4bv0O",
        "colab": {
          "base_uri": "https://localhost:8080/"
        },
        "outputId": "5145a367-1aa7-48c8-8840-63d488b4ed92"
      },
      "source": [
        "#internal movement- 2 represents when measures were strictest\n",
        "df['restrictions_internal_movements']\n",
        "df.loc[df['restrictions_internal_movements']== 0 , ['confirmed']].mean()\n",
        "#confirmed:6.154173e+06\n",
        "df.loc[df['restrictions_internal_movements']== 1 , ['confirmed']].mean()\n",
        "#confirmed : 9.749507e+06\n",
        "df.loc[df['restrictions_internal_movements']== 2 , ['confirmed']].mean()\n",
        "#confirmed: 4.644963e+06\n",
        "#confirmed cases were the least when govt policies on internal movement restrictions were strictest"
      ],
      "execution_count": null,
      "outputs": [
        {
          "output_type": "execute_result",
          "data": {
            "text/plain": [
              "confirmed    4.644963e+06\n",
              "dtype: float64"
            ]
          },
          "metadata": {
            "tags": []
          },
          "execution_count": 38
        }
      ]
    },
    {
      "cell_type": "code",
      "metadata": {
        "id": "u9JzqQ6Rd95e",
        "colab": {
          "base_uri": "https://localhost:8080/"
        },
        "outputId": "ac4127b8-6675-4381-bcb9-a7bb15ab8451"
      },
      "source": [
        "#school closures\n",
        "df['school_closures']\n",
        "df.loc[df['school_closures']== 0 , ['confirmed']].mean()\n",
        "#confirmed: 3.787879\n",
        "df.loc[df['school_closures']== 1 , ['confirmed']].mean()\n",
        "#confirmed :8.257439e+06 \n",
        "df.loc[df['school_closures']== 2 , ['confirmed']].mean()\n",
        "#confirmed: 9.012221e+06\n",
        "df.loc[df['school_closures']== 3 , ['confirmed']].mean()\n",
        "#confirmed :5.618017e+06\n",
        "#cases were least when there were no measures in place followed by when the schools were fully closed"
      ],
      "execution_count": null,
      "outputs": [
        {
          "output_type": "execute_result",
          "data": {
            "text/plain": [
              "confirmed    5.618017e+06\n",
              "dtype: float64"
            ]
          },
          "metadata": {
            "tags": []
          },
          "execution_count": 37
        }
      ]
    },
    {
      "cell_type": "code",
      "metadata": {
        "id": "u4uRkqlIe2hP",
        "colab": {
          "base_uri": "https://localhost:8080/"
        },
        "outputId": "80308e2a-7143-4889-f1d1-7a5b6eee92da"
      },
      "source": [
        "#government policies in restricting international travel- 2 represents strictest\n",
        "df['international_travel_controls']\n",
        "\n",
        "df.loc[df['international_travel_controls']== 1 , ['confirmed']].mean()\n",
        "#confirmed : 12.02439 \n",
        "df.loc[df['international_travel_controls']== 2 , ['confirmed']].mean()\n",
        "#confirmed: 92.0\n",
        "df.loc[df['international_travel_controls']== 3 , ['confirmed']].mean()\n",
        "#confirmed : 1.115805e+07\n",
        "#when restrictions on international travel were strictest, confirmed cases were at the least"
      ],
      "execution_count": null,
      "outputs": [
        {
          "output_type": "execute_result",
          "data": {
            "text/plain": [
              "confirmed    1.115805e+07\n",
              "dtype: float64"
            ]
          },
          "metadata": {
            "tags": []
          },
          "execution_count": 36
        }
      ]
    },
    {
      "cell_type": "code",
      "metadata": {
        "id": "y2Yl6MAFfbQZ",
        "colab": {
          "base_uri": "https://localhost:8080/"
        },
        "outputId": "424662f2-9c69-4709-ef85-4bc566f19012"
      },
      "source": [
        "df['restriction_gatherings']\n",
        "df.loc[df['restriction_gatherings']== 0 , ['confirmed']].mean()\n",
        "#confirmed: 25.680851\n",
        "\n",
        "df.loc[df['restriction_gatherings']== 2 , ['confirmed']].mean()\n",
        "#confirmed:  8.257439e+06\n",
        "df.loc[df['restriction_gatherings']== 4 , ['confirmed']].mean()\n",
        "#confirmed:    6.376788e+06\n",
        "#when restrictions were strictest at 4 where gatherings were  of less than 10 people, confirmed cases were least"
      ],
      "execution_count": null,
      "outputs": [
        {
          "output_type": "execute_result",
          "data": {
            "text/plain": [
              "confirmed    6.376788e+06\n",
              "dtype: float64"
            ]
          },
          "metadata": {
            "tags": []
          },
          "execution_count": 35
        }
      ]
    },
    {
      "cell_type": "code",
      "metadata": {
        "id": "8SfMBpb0goss",
        "colab": {
          "base_uri": "https://localhost:8080/"
        },
        "outputId": "987f6cf7-c810-4df2-86d9-4d45481ae9f3"
      },
      "source": [
        "# 3 represents required for ALL to work at home\n",
        "df['workplace_closures']\n",
        "\n",
        "df.loc[df['workplace_closures']== 0 , ['confirmed']].mean()\n",
        "#confirmed : 17.954545\n",
        "df.loc[df['workplace_closures']== 1 , ['confirmed']].mean()\n",
        "#confirmed :  171.0\n",
        "df.loc[df['workplace_closures']== 2 , ['confirmed']].mean()\n",
        "#confirmed: 8.420939e+06\n",
        "df.loc[df['workplace_closures']== 3 , ['confirmed']].mean()\n",
        "#confirmed : 4.006976e+06 \n",
        "# at full workplace closure, the cases were least"
      ],
      "execution_count": null,
      "outputs": [
        {
          "output_type": "execute_result",
          "data": {
            "text/plain": [
              "confirmed    4.006976e+06\n",
              "dtype: float64"
            ]
          },
          "metadata": {
            "tags": []
          },
          "execution_count": 34
        }
      ]
    },
    {
      "cell_type": "markdown",
      "metadata": {
        "id": "kRPGF_Ujb-Fz"
      },
      "source": [
        "From the above, government policies on stay at home and school closures were not effective in curbing the spread of COVID-19 since when the restrictions were strictest, confirmed cases were still high"
      ]
    }
  ]
}